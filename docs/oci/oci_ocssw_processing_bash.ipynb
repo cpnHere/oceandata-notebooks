{
 "cells": [
  {
   "cell_type": "markdown",
   "id": "3cf47b05",
   "metadata": {
    "editable": true,
    "slideshow": {
     "slide_type": ""
    },
    "tags": []
   },
   "source": [
    "# Installing and Running the OCSSW Command Line Interface (CLI)\n",
    "\n",
    "**Authors:** Carina Poulin (NASA, SSAI), Ian Carroll (NASA, UMBC), Anna Windle (NASA, SSAI)\n",
    "\n",
    "> **PREREQUISITES**\n",
    ">\n",
    "> This notebook has the following prerequisites:\n",
    "> - An **<a href=\"https://urs.earthdata.nasa.gov/\" target=\"_blank\">Earthdata Login</a>**\n",
    ">   account is required to access data from the NASA Earthdata system, including NASA ocean color data.\n",
    "> - \"Learn with OCI\"/\"Data Access\"\n",
    "\n",
    "## Summary\n",
    "\n",
    "[SeaDAS][seadas] is the official data analysis sofware of NASA's Ocean Biology Distributed Active Archive Center (OB. DAAC); used to process, display and analyse ocean color data. SeaDAS is a dektop application that includes SeaDAS-OCSSW, the core libraries or data processing components. There is a CLI for the SeaDAS-OCSSW data processing components, known simply as OCSSW, which we can use on a remote host without a desktop.\n",
    "\n",
    "This tutorial will show you how to install OCSSW on a JupyterHub server and how to start doing data processing by processing a Level 1b (L1B) file from PACE OCI to a Level 2 (L2) file using `l2gen`.\n",
    "\n",
    "## Learning Objectives\n",
    "\n",
    "At the end of this notebok you will know:\n",
    "* How to install OCSSW on your server\n",
    "* How to set up your OCSSW session\n",
    "* How to process a L1B file to L2 using l2gen\n",
    "\n",
    "<a name=\"toc\"></a>\n",
    "## Contents\n",
    "\n",
    "1. [Setup](#setup)\n",
    "1. [Install OCSSW](#ocssw)\n",
    "1. [Process Data with `l2gen`](#l2gen)\n",
    "     \n",
    "<a name=\"setup\"></a> \n",
    "## 1. Setup\n",
    "\n",
    "<div class=\"alert alert-warning\" role=\"alert\">\n",
    "This tutorial is written in a Jupyter notebook connected to a Bash kernel. If you have downloaded this Jupyter notebook and want to run it, you also need to connected it to a Bash kernel. Alternatively, you can copy the code cells to the Terminal application found in the JupyterLab Launcher, which speaks Bash or something close enough.\n",
    "</div>\n",
    "\n",
    "### (Optional) Use a Bash Kernel\n",
    "\n",
    "Open a Terminal from the JupyterLab Launcher, and use `conda` to install the bask kernel.\n",
    "\n",
    "```\n",
    "$ conda install -c conda-forge bash_kernel\n",
    "```\n",
    "\n",
    "Follow the prompts from conda to proceed with any installs and updates by entering \"y\" to accept.\n",
    "\n",
    "Confirm the bash kernel is installed by starting a new Launcher. You should see the bash kernel along with Python and other kernels installed in your JupyterHub.\n",
    "Now change the notebook's kernel by clicking on the kernel name in the upper-right corner of the notebook window and selecting the Bash kernel.\n",
    "You can now execute the code cells in Bash without copying them to the Terminal.\n",
    "\n",
    "[seadas]: https://seadas.gsfc.nasa.gov/"
   ]
  },
  {
   "cell_type": "markdown",
   "id": "0d0dee5f",
   "metadata": {},
   "source": [
    "[Back to top](#toc)\n",
    "<a name=\"ocssw\"></a>\n",
    "## 2. Install OCSSW\n",
    "\n",
    "The OCSSW software is not a Python package and not available from `conda` or any other repository. To install it, we begin by aquiring an installer script from the Ocean Biology DAAC. This script is actually part of OCSSW, but we can use it independently to download and install the OCSSW binaries suitable for our system."
   ]
  },
  {
   "cell_type": "code",
   "execution_count": null,
   "id": "8ab8b42d",
   "metadata": {},
   "outputs": [],
   "source": [
    "wget https://oceandata.sci.gsfc.nasa.gov/manifest/install_ocssw"
   ]
  },
  {
   "cell_type": "markdown",
   "id": "2c6f0305",
   "metadata": {},
   "source": [
    "Similarly, we'll need the manifest module imported by the installer."
   ]
  },
  {
   "cell_type": "code",
   "execution_count": null,
   "id": "211c24a6",
   "metadata": {},
   "outputs": [],
   "source": [
    "wget https://oceandata.sci.gsfc.nasa.gov/manifest/manifest.py"
   ]
  },
  {
   "cell_type": "markdown",
   "id": "eff9f3fb-e3f6-4cb3-8a9e-72010f424424",
   "metadata": {},
   "source": [
    "Before you can use a downloaded script, you need to change its mode to be executable."
   ]
  },
  {
   "cell_type": "code",
   "execution_count": null,
   "id": "823792b4-cc40-4012-b9c1-3c4a92eada31",
   "metadata": {},
   "outputs": [],
   "source": [
    "chmod +x install_ocssw"
   ]
  },
  {
   "cell_type": "markdown",
   "id": "9ce8210a-0c15-46e9-8a4d-050fc5c9d411",
   "metadata": {
    "editable": true,
    "slideshow": {
     "slide_type": ""
    },
    "tags": []
   },
   "source": [
    "Take a look at the different OCSSW \"tags\" you can install. It is recommended to use the most recent one for the installation, which is T2024.16 at the time of writing this tutorial. "
   ]
  },
  {
   "cell_type": "code",
   "execution_count": null,
   "id": "b5b7223a",
   "metadata": {},
   "outputs": [],
   "source": [
    "./install_ocssw --list_tags"
   ]
  },
  {
   "cell_type": "markdown",
   "id": "37cb83a0",
   "metadata": {},
   "source": [
    "Define an environmental variable called \"OCSSWROOT\" that specifies a directory for your OCSSW installation. Environment variables are set in Bash using the `export` command, and displayed with `printenv`"
   ]
  },
  {
   "cell_type": "code",
   "execution_count": null,
   "id": "2536a87d",
   "metadata": {},
   "outputs": [],
   "source": [
    "export OCSSWROOT=/tmp/ocssw"
   ]
  },
  {
   "cell_type": "code",
   "execution_count": null,
   "id": "6d6cb82d",
   "metadata": {},
   "outputs": [],
   "source": [
    "printenv OCSSWROOT"
   ]
  },
  {
   "cell_type": "markdown",
   "id": "39adc103",
   "metadata": {},
   "source": [
    "<div class=\"alert alert-info\" role=\"alert\">\n",
    "You will need to repeat these installation steps if your OCSSWROOT directory does not persist between sessions. The `/tmp/ocssw` folder, for instance, will not be present the next time JupyterHub creates a server. Consider the trade off between installation time, speed, and storage costs when choosing your OCSSWROOT. We use the quick and cheap location for this tutorial.\n",
    "</div>"
   ]
  },
  {
   "cell_type": "markdown",
   "id": "d39c0ab0",
   "metadata": {
    "editable": true,
    "slideshow": {
     "slide_type": ""
    },
    "tags": []
   },
   "source": [
    "Install OCSSW using the `--tag` argument to pick from the list above. Also provide optional arguments for sensors you will be working with. In this case, we will only be using OCI. A list of optional arguments can be found on the OCSSW webpage or with `./install_ocssw --help`.\n",
    "\n",
    "*Tip:* The process is not finished as long as the counter to the left of the cell shows `[*]`. It may take some time to install all the tools."
   ]
  },
  {
   "cell_type": "code",
   "execution_count": null,
   "id": "f4dc7b51-c854-4ba6-8ff2-b4ef0965180d",
   "metadata": {},
   "outputs": [],
   "source": [
    "./install_ocssw --tag=T2024.16 --seadas --oci"
   ]
  },
  {
   "cell_type": "markdown",
   "id": "bd3b6361",
   "metadata": {},
   "source": [
    "Finish up by calling `source` on the \"OCSSW_bash.env\" file, which exports additional environment variables. This environment file specifies the locations of all files required by OCSSW, and must be exported in every Terminal or Bash kernel before you run `l2gen` or any other OCSSW command."
   ]
  },
  {
   "cell_type": "code",
   "execution_count": null,
   "id": "4da21b5f",
   "metadata": {},
   "outputs": [],
   "source": [
    "source $OCSSWROOT/OCSSW_bash.env"
   ]
  },
  {
   "cell_type": "markdown",
   "id": "91a13783",
   "metadata": {},
   "source": [
    "Confirm the environment has been set by checking that *another* `install_ocssw` script is now discoverable by Bash at the newly installed location."
   ]
  },
  {
   "cell_type": "code",
   "execution_count": null,
   "id": "aee732fb-b21a-430f-a3a0-79c2ef46e494",
   "metadata": {},
   "outputs": [],
   "source": [
    "which install_ocssw"
   ]
  },
  {
   "cell_type": "markdown",
   "id": "82b9ba0b-65ec-4c82-b0d5-914cf3477d7f",
   "metadata": {},
   "source": [
    "You are now ready to run `l2gen`, the Level-2 processing function for all ocean color instruments under the auspices of the GSFC Ocean Biology Processing Group!"
   ]
  },
  {
   "cell_type": "markdown",
   "id": "c8baceff-d1b4-4d59-9e7d-729538712a53",
   "metadata": {},
   "source": [
    "[Back to top](#toc)\n",
    "<a name=\"l2gen\"></a>\n",
    "## 3. Process L1B Data with `l2gen`\n",
    "\n",
    "Run `l2gen` by itself to view the extensive list of options available. You can find more information [on the seadas website][docs].\n",
    "\n",
    "[docs]: https://seadas.gsfc.nasa.gov/help-8.3.0/processors/ProcessL2gen.html"
   ]
  },
  {
   "cell_type": "code",
   "execution_count": null,
   "id": "dcb5268b",
   "metadata": {},
   "outputs": [],
   "source": [
    "l2gen"
   ]
  },
  {
   "cell_type": "markdown",
   "id": "c6470422-7d5e-4ccd-b818-238616b39ba2",
   "metadata": {},
   "source": [
    "Feel free to explore all of `l2gen` options to produce a highly customized Level-2 dataset for your research. Here we just scratch the surface.\n",
    "\n",
    "To process a L1B file using `l2gen` you need, at a minimum, to set an input file name (`ifile`) and an output file name (`ofile`). You can also indicate a data suite; in this example, we will proceed with the Surface Reflectance suite used to make true color images (SFREFL). We turn off the atmospheric correction with the `at to save processing time.\n",
    "\n",
    "Confirm that the L1B file to process is at the expected location by listing (with `ls`) the directory contents. If the directory is empty, check that you've completed the prerequiste notebooks for this tutorial!"
   ]
  },
  {
   "cell_type": "code",
   "execution_count": null,
   "id": "8c6ed0f1-0a55-4c15-829e-85ff98cd4e50",
   "metadata": {},
   "outputs": [],
   "source": [
    "ls L1B"
   ]
  },
  {
   "cell_type": "markdown",
   "id": "e2ec8159-6522-4a72-8c5a-da614c9f03a7",
   "metadata": {},
   "source": [
    "Create a directory for output files."
   ]
  },
  {
   "cell_type": "code",
   "execution_count": null,
   "id": "43470cd4-e22b-4471-9e10-4c1b8a6a9293",
   "metadata": {},
   "outputs": [],
   "source": [
    "mkdir L2"
   ]
  },
  {
   "cell_type": "code",
   "execution_count": null,
   "id": "02cce20c",
   "metadata": {},
   "outputs": [],
   "source": [
    "l2gen \\\n",
    "  ifile=L1B/PACE_OCI.20240501T165311.L1B.nc \\\n",
    "  ofile=L2/PACE_OCI.20240501T165311.L2.SFREFL.nc \\\n",
    "  suite=SFREFL \\\n",
    "  atmocor=0"
   ]
  },
  {
   "cell_type": "markdown",
   "id": "9a96eb75",
   "metadata": {},
   "source": [
    "<div class=\"alert alert-info\" role=\"alert\">\n",
    "<p>You have completed the notebook on installing and using OCCSW to process PACE data. More notebooks are comming soon!</p>\n",
    "</div>"
   ]
  },
  {
   "cell_type": "code",
   "execution_count": null,
   "id": "cd8c0787-7ff6-4a67-8387-5d2693db03e1",
   "metadata": {},
   "outputs": [],
   "source": []
  }
 ],
 "metadata": {
  "language_info": {
   "name": "bash"
  }
 },
 "nbformat": 4,
 "nbformat_minor": 5
}
