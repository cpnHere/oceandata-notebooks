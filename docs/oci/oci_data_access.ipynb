{
 "cells": [
  {
   "cell_type": "markdown",
   "id": "9e865fef",
   "metadata": {},
   "source": [
    "# Access Data from the Ocean Color Instrument (OCI)\n",
    "\n",
    "**Authors:** Anna Windle (NASA, SSAI), Ian Carroll (NASA, UMBC), Carina Poulin (NASA, SSAI)\n",
    "\n",
    "<div class=\"alert alert-block alert-warning\">\n",
    "<b>PREREQUISITES</b>\n",
    "<p>This notebook has the following prerequisites:</p>\n",
    "<ul>\n",
    "    <li>\n",
    "    <a href=\"https://urs.earthdata.nasa.gov/\" target=\"_blank\">An <b>Earthdata Login</b> account</a> is required to access data from the NASA Earthdata system, including NASA ocean color data.\n",
    "    </li>\n",
    "</ul>\n",
    "</div>\n",
    "\n",
    "## Learning objectives\n",
    "\n",
    "At the end of this notebook you will know:\n",
    "\n",
    "* How to store your NASA Earthdata Login credentials with `earthaccess`\n",
    "* How to use `earthaccess` to search for PACE data using search filters\n",
    "* How to download PACE data, but only when you need to\n",
    "\n",
    "## Summary\n",
    "\n",
    "In this example we will use the `earthaccess` package to search for data collections from NASA Earthdata. This package, published on the [Python Package Index][pypi] and [conda-forge][conda], facilitates discovery and use of all NASA Earth Science data products by providing an abstraction layer for NASA’s [Common Metadata Repository (CMR) API][cmr] and by simplifying requests to NASA's [Earthdata Cloud][edcloud]. Searching for data is more approachable using `earthaccess` than low-level HTTP requests, and the same goes for S3 requests.\n",
    "\n",
    "In short, `earthaccess` helps **authenticate** with Earthdata Login, makes **search** easier, and provides a stream-lined way to **load data** into `xarray` containers. For more on `earthaccess`, visit the [documentation][earthaccess-docs] site. Be aware that `earthaccess` is under active development.\n",
    "\n",
    "To understand the discussions below on downloading and opening data, we need to clearly understand **where our notebook is running**. There are three cases to distinguish:\n",
    "\n",
    "1. The notebook is running on the local host. For instance, you started a Jupyter server on your laptop.\n",
    "1. The notebook is running on a remote host, but it does not have direct access to the NASA Earthdata Cloud. For instance, you are running in [GitHub Codespaces][codespaces].\n",
    "1. The notebook is running on a remote host that does have direct access to the NASA Earthdata Cloud. At this time, we cannot provide a \"for instance\" which is available to everyone.\n",
    "\n",
    "<div class=\"alert alert-info\" role=\"alert\">\n",
    "<h2>Contents</h2><a name=\"toc\"></a>\n",
    "</div>\n",
    "\n",
    "1. [Imports](#imports)\n",
    "1. [NASA Earthdata authentication](#auth)\n",
    "1. [Search for data](#search)\n",
    "1. [Download data](#download)\n",
    "\n",
    "<div class=\"alert alert-info\" role=\"alert\">\n",
    "<h2>1. Imports</h2><a name=\"imports\"></a>\n",
    "<a href=\"#toc\">[Back to top]</a>\n",
    "</div>\n",
    "\n",
    "We begin by importing the only library we need to run this notebook. If you have created an environment following the [guidance][tutorials] provided with this tutorial, then the package will be sucessfully imported.\n",
    "\n",
    "[codespaces]: https://github.blog/changelog/2022-11-09-using-codespaces-with-jupyterlab-public-beta/\n",
    "[tutorials]: https://oceancolor.gsfc.nasa.gov/resources/docs/tutorials\n",
    "[edcloud]: https://www.earthdata.nasa.gov/eosdis/cloud-evolution\n",
    "[earthaccess-docs]: https://earthaccess.readthedocs.io/en/stable/\n",
    "[cmr]: https://cmr.earthdata.nasa.gov/search/site/docs/search/api.html\n",
    "[conda]: https://anaconda.org/conda-forge/earthaccess\n",
    "[pypi]: https://pypi.org/project/earthaccess/"
   ]
  },
  {
   "cell_type": "code",
   "execution_count": null,
   "id": "fe2f60af",
   "metadata": {},
   "outputs": [],
   "source": [
    "import earthaccess"
   ]
  },
  {
   "cell_type": "markdown",
   "id": "7e5b5521",
   "metadata": {},
   "source": [
    "<div class=\"alert alert-info\" role=\"alert\">\n",
    "<h2>2. Authenticate with Earthdata</h2><a name=\"auth\"></a>\n",
    "<a href=\"#toc\">[Back to top]</a>\n",
    "</div>\n",
    "\n",
    "Next, we authenticate using our Earthdata Login credentials. Authentication is not necessarily needed to search for publicaly available data collections in Earthdata, but is always needed to download or open data from the NASA Earthdata archives. We can use the `login` method from the `earthaccess` package. This will create an authenticated session when we provide a valid Earthdata Login username and password.\n",
    "\n",
    "The `earthaccess` package will search for credentials defined by **environmental variables** or within a **.netrc** file saved in the home directory. If credentials are not found, an interactive prompt will allow you to input credentials. The `persist=True` argument ensures any discovered credentials\n",
    "are stored in a `.netrc` file, so the argument is not necessary (but it's also harmless) for subsequent calls to `earthaccess.login`."
   ]
  },
  {
   "cell_type": "code",
   "execution_count": null,
   "id": "aeda27e6",
   "metadata": {},
   "outputs": [],
   "source": [
    "auth = earthaccess.login(persist=True)"
   ]
  },
  {
   "cell_type": "markdown",
   "id": "d22ecd49",
   "metadata": {},
   "source": [
    "<div class=\"alert alert-info\" role=\"alert\">\n",
    "<h2>2. Search for Data</h2><a name=\"search\"></a>\n",
    "<a href=\"#toc\">[Back to top]</a>\n",
    "</div>\n",
    "\n",
    "There are multiple ways to identify \"collections\" on NASA Earthdata (discovered with the `search_datasets` method) and \"granules\" contained in a collection (discovered with the `search_data` method). You can search collections by `instrument` to get started."
   ]
  },
  {
   "cell_type": "code",
   "execution_count": null,
   "id": "ef5ffc0a",
   "metadata": {},
   "outputs": [],
   "source": [
    "results = earthaccess.search_datasets(\n",
    "    instrument=\"oci\",\n",
    ")\n",
    "for item in results:\n",
    "    summary = item.summary()\n",
    "    print(summary[\"short-name\"])"
   ]
  },
  {
   "cell_type": "markdown",
   "id": "37339309",
   "metadata": {},
   "source": [
    "The `search_datasets` method returned collections. Next, we use the `search_data` method to find data objects within a collection using the `short_name` for the PACE/OCI Level-2 quick-look product for apparent optical properties (although you could search accross collections too). The `count` argument limits the number of granules returned and stored in the `results` list."
   ]
  },
  {
   "cell_type": "code",
   "execution_count": null,
   "id": "c5dffa63",
   "metadata": {},
   "outputs": [],
   "source": [
    "results = earthaccess.search_data(\n",
    "    short_name = \"PACE_OCI_L2_AOP_NRT\",\n",
    "    count = 1,\n",
    ")"
   ]
  },
  {
   "cell_type": "markdown",
   "id": "01938a92",
   "metadata": {},
   "source": [
    "We can refine our search by passing more parameters that describe the spatiotemporal domain of our use case. Here, we use the `temporal` parameter to request a date range and the `bounding_box` parameter to request granules that intersect with a bounding box. We can even provide a `cloud_cover` threshold to limit files that have a lower percetnage of cloud cover. We do not provide a `count`, so we'll get all granules that satisfy the constraints."
   ]
  },
  {
   "cell_type": "code",
   "execution_count": null,
   "id": "6156f360",
   "metadata": {},
   "outputs": [],
   "source": [
    "dates = (\"2024-04-01\", \"2024-04-16\")\n",
    "bbox = (-76.75, 36.97, -75.74, 39.01)\n",
    "clouds = (0, 50)\n",
    "\n",
    "results = earthaccess.search_data(\n",
    "    short_name = \"PACE_OCI_L2_AOP_NRT\",\n",
    "    temporal = dates,\n",
    "    bounding_box = bbox, \n",
    "    cloud_cover = clouds,\n",
    ")"
   ]
  },
  {
   "cell_type": "markdown",
   "id": "01fdb5fc",
   "metadata": {},
   "source": [
    "Displaying a result shows a direct download link. The link will download the granule to your local machine, which may or may not be what you want to do. Even if you are running the notebook on a remote host, this download link will open a new browser tab or window and offer to save a file to your local machine. If you are running the notebook locally, this may be of use. However, in the next section we'll see how to download all the results with one command."
   ]
  },
  {
   "cell_type": "code",
   "execution_count": null,
   "id": "c4f8d6a1",
   "metadata": {},
   "outputs": [],
   "source": [
    "results[0]"
   ]
  },
  {
   "cell_type": "markdown",
   "id": "58bcf556",
   "metadata": {},
   "source": [
    "<div class=\"alert alert-info\" role=\"alert\">\n",
    "<h2>4. Download Data</h2><a name=\"download\"></a>\n",
    "<a href=\"#toc\">[Back to top]</a>\n",
    "</div>\n",
    "\n",
    "First, let's see what happens if you don't download the granules. If you instead use `earthaccess.open` on the\n",
    "list of granules, you end up with a list of file-like objects, which are meant to be used like a path to an actual file."
   ]
  },
  {
   "cell_type": "code",
   "execution_count": null,
   "id": "8715f6ba",
   "metadata": {},
   "outputs": [],
   "source": [
    "paths = earthaccess.open(results)"
   ]
  },
  {
   "cell_type": "markdown",
   "id": "3afd2aba",
   "metadata": {},
   "source": [
    "The list of file-like objects held in `paths` can each be read like a normal file. That's true of NetCDF readers, but for a quick demo we just read the first few bytes without any specialized reader."
   ]
  },
  {
   "cell_type": "code",
   "execution_count": null,
   "id": "9c6750e1",
   "metadata": {},
   "outputs": [],
   "source": [
    "with paths[0] as file:\n",
    "    line = file.readline().strip()\n",
    "line"
   ]
  },
  {
   "cell_type": "markdown",
   "id": "e654f89d",
   "metadata": {},
   "source": [
    "Of course that doesn't mean anything (does it? 😉), because this is a binary file that needs a reader which\n",
    "understands the file format.\n",
    "\n",
    "The `earthaccess.open` method is used when you want to directly read a file from a remote filesystem, and not to download it. When running code on a host with direct access to the NASA Earthdata Cloud, you don't need to download the data, and `earthaccess.open` is the way to go.\n",
    "\n",
    "Now, let's look at the `earthaccess.download` method, which is used to copy files onto a filesystem local to the machine executing the code. For this method, provide the output of `earthaccess.search_data` along with a directory where `earthaccess` will store downloaded granules. This directory is on the host running the notebook; make sure you understand whether it is local or remote.\n",
    "\n",
    "Even if you only want to read a slice of the data, and downloading seems unncessary, if you use `earthaccess.open` while not running on a remote host with direct access to the NASA Earthdata Cloud, performance will be very poor. This is not a problem with \"the cloud\" or with `earthaccess`, it has to do with the data format and may soon be resolved.\n",
    "\n",
    "Let's continue to downloading the list of granules!"
   ]
  },
  {
   "cell_type": "code",
   "execution_count": null,
   "id": "4faf938e",
   "metadata": {},
   "outputs": [],
   "source": [
    "paths = earthaccess.download(results, \"L2_AOP\")"
   ]
  },
  {
   "cell_type": "markdown",
   "id": "70f2398e",
   "metadata": {},
   "source": [
    "The `paths` list now contains paths to actual files on the local filesystem."
   ]
  },
  {
   "cell_type": "code",
   "execution_count": null,
   "id": "c845f2d1",
   "metadata": {},
   "outputs": [],
   "source": [
    "paths"
   ]
  },
  {
   "cell_type": "markdown",
   "id": "8de273d5",
   "metadata": {},
   "source": [
    "<div class=\"alert alert-block alert-warning\">\n",
    "Anywhere in any of <a href=\"https://oceancolor.gsfc.nasa.gov/resources/docs/tutorials/\">these notebooks</a> where <pre>paths = earthaccess.open(...)</pre> is used to read data directly from the NASA Earthdata Cloud, you need to substitute <pre>paths = earthaccess.download(..., local_path)</pre> before running the notebook on a host, whether local or remote, that does not have direct access to the NASA Earthdata Cloud.\n",
    "</div>\n",
    "<div class=\"alert alert-info\" role=\"alert\">\n",
    "<p>You have completed the notebook on downloading and opening datasets. We now suggest starting the notebook on opening the structure of OCI data products at 3 processing levels.</p>\n",
    "</div>"
   ]
  }
 ],
 "metadata": {
  "language_info": {
   "name": "python"
  }
 },
 "nbformat": 4,
 "nbformat_minor": 5
}
