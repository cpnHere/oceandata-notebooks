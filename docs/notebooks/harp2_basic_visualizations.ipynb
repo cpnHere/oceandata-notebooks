{
 "cells": [
  {
   "cell_type": "markdown",
   "id": "8cb77abe",
   "metadata": {},
   "source": [
    "# Visualize Data from the Hyper-Angular Rainbow Polarimeter (HARP2)\n",
    "\n",
    "**Authors:** Sean Foley (NASA, MSU), Meng Gao (NASA, SSAI), Ian Carroll (NASA, UMBC)\n",
    "\n",
    "> **PREREQUISITES**\n",
    ">\n",
    "> This notebook has the following prerequisites:\n",
    "> - An **<a href=\"https://urs.earthdata.nasa.gov/\" target=\"_blank\">Earthdata Login</a>**\n",
    ">   account is required to access data from the NASA Earthdata system, including NASA ocean color data.\n",
    "> - Learn with OCI: <a href=\"https://oceancolor.gsfc.nasa.gov/resources/docs/tutorials/notebooks/oci_data_access/\" target=\"_blank\">Data Access</a>\n",
    "\n",
    "## Summary\n",
    "\n",
    "PACE has two Multi-Angle Polarimeters (MAPs): [SPEXOne](https://pace.oceansciences.org/spexone.htm) and [HARP2](https://pace.oceansciences.org/harp2.htm). These sensors offer unique data, which is useful for its own scientific purposes and also complements the data from OCI. Working with data from the MAPs requires you to understand both multi-angle data and some basic concepts about polarization. This notebook will walk you through some basic understanding and visualizations of multi-angle polarimetry, so that you feel comfortable incorporating this data into your future projects.\n",
    "\n",
    "## Learning objectives\n",
    "\n",
    "At the end of this notebook you will know:\n",
    "\n",
    "* How to acquire data from HARP2\n",
    "* How to plot geolocated imagery\n",
    "* Some basic concepts about polarization\n",
    "* How to make animations of multi-angle data\n",
    "\n",
    "<a name=\"toc\"></a>\n",
    "## Contents\n",
    "\n",
    "1. [Setup](#setup)\n",
    "1. [Get Level-1C Data](#data)\n",
    "1. [Understanding Multi-Angle Data](#multiangle)\n",
    "1. [Understanding Polarimetry](#polarimetry)\n",
    "1. [Radiance to Reflectance](#reflectance)\n",
    "1. [Animating an Overpass](#animation)\n",
    "\n",
    "<a name=\"setup\"></a>\n",
    "## 1. Setup\n",
    "\n",
    "First, import the libraries we will need."
   ]
  },
  {
   "cell_type": "code",
   "execution_count": null,
   "id": "1d15bea0",
   "metadata": {},
   "outputs": [],
   "source": [
    "from pathlib import Path\n",
    "from tempfile import TemporaryDirectory\n",
    "\n",
    "from apng import APNG\n",
    "from scipy.ndimage import gaussian_filter1d\n",
    "import cartopy.crs as ccrs\n",
    "import earthaccess\n",
    "import imageio\n",
    "import matplotlib.pyplot as plt\n",
    "import numpy as np\n",
    "import xarray as xr"
   ]
  },
  {
   "cell_type": "markdown",
   "id": "adce0df0",
   "metadata": {
    "lines_to_next_cell": 2
   },
   "source": [
    "The radiances collected by HARP2 often need to be converted, using additional properties, to reflectances. Write a function for anything you'll repeat like this."
   ]
  },
  {
   "cell_type": "code",
   "execution_count": null,
   "id": "57ca2447",
   "metadata": {},
   "outputs": [],
   "source": [
    "def rad_to_refl(rad, f0, sza, r):\n",
    "    \"\"\"Convert radiance to reflectance.\n",
    "    Args:\n",
    "        rad: Radiance.\n",
    "        f0: Solar irradiance.\n",
    "        sza: Solar zenith angle.\n",
    "        r: Sun-Earth distance (in AU).\n",
    "\n",
    "    Returns: Reflectance.\n",
    "    \"\"\"\n",
    "    return (r**2) * np.pi * rad / np.cos(sza * np.pi / 180) * f0"
   ]
  },
  {
   "cell_type": "markdown",
   "id": "8d4ecfa5",
   "metadata": {},
   "source": [
    "[Back to top](#toc)\n",
    "<a name=\"data\"></a>\n",
    "## 2. Get Level-1C Data\n",
    "\n",
    "Download some HARP2 Level-1C data using the `short_name` value \"PACE_HARP2_L1C_SCI\" in `earthaccess.search_data`. Level-1C corresponds to geolocated imagery. This means the imagery coming from the satellite has been calibrated and assigned to locations on the Earth's surface. Note that this might take a while, depending on the speed of your internet connection, and the progress bar will seem frozen because we're only downloading one file."
   ]
  },
  {
   "cell_type": "code",
   "execution_count": null,
   "id": "cb68f5d5",
   "metadata": {},
   "outputs": [],
   "source": [
    "auth = earthaccess.login(persist=True)"
   ]
  },
  {
   "cell_type": "code",
   "execution_count": null,
   "id": "7a2a064b",
   "metadata": {},
   "outputs": [],
   "source": [
    "tspan = (\"2024-05-20\", \"2024-05-20\")\n",
    "results = earthaccess.search_data(\n",
    "    short_name=\"PACE_HARP2_L1C_SCI\",\n",
    "    temporal=tspan,\n",
    "    count=1,\n",
    ")"
   ]
  },
  {
   "cell_type": "code",
   "execution_count": null,
   "id": "e1baf2f9",
   "metadata": {},
   "outputs": [],
   "source": [
    "paths = earthaccess.open(results)"
   ]
  },
  {
   "cell_type": "code",
   "execution_count": null,
   "id": "8cad98c7",
   "metadata": {},
   "outputs": [],
   "source": [
    "prod = xr.open_dataset(paths[0])\n",
    "view = xr.open_dataset(paths[0], group=\"sensor_views_bands\").squeeze()\n",
    "geo = xr.open_dataset(paths[0], group=\"geolocation_data\")\n",
    "obs = xr.open_dataset(paths[0], group=\"observation_data\").squeeze()"
   ]
  },
  {
   "cell_type": "markdown",
   "id": "7fcd3801",
   "metadata": {},
   "source": [
    "[Back to top](#toc)\n",
    "<a name=\"multiangle\"></a>\n",
    "## 2. Understanding Multi-Angle Data\n",
    "\n",
    "HARP2 is a multi-spectral sensor, like OCI, with 4 spectral bands. These roughly correspond to green, red, near infrared (NIR), and blue (in that order). HARP2 is also multi-angle. These angles are with respect to the satellite track. Essentially, HARP2 is always looking ahead, looking behind, and everywhere in between. The number of angles varies per sensor. The red band has 60 angles, while the green, blue, and NIR bands each have 10.\n",
    "\n",
    "In the HARP2 data, the angles and the spectral bands are combined into one axis. I'll refer to this combined axis as HARP2's \"channels.\" Below, we'll make a quick plot both the viewing angles and the wavelengths of HARP2's channels. In both plots, the x-axis is simply the channel index.\n",
    "\n",
    "Pull out the view angles and wavelengths."
   ]
  },
  {
   "cell_type": "code",
   "execution_count": null,
   "id": "27cf77c6",
   "metadata": {},
   "outputs": [],
   "source": [
    "angles = view[\"sensor_view_angle\"]\n",
    "wavelengths = view[\"intensity_wavelength\"]"
   ]
  },
  {
   "cell_type": "markdown",
   "id": "2da66b27",
   "metadata": {},
   "source": [
    "Create a figure with 2 rows and 1 column and a reasonable size for many screens."
   ]
  },
  {
   "cell_type": "code",
   "execution_count": null,
   "id": "4133b87f",
   "metadata": {},
   "outputs": [],
   "source": [
    "fig, ax = plt.subplots(2, 1, figsize=(14, 7))\n",
    "ax[0].set_ylabel(\"View Angle (degrees)\")\n",
    "ax[0].set_xlabel(\"Index\")\n",
    "ax[1].set_ylabel(\"Wavelength (nm)\")\n",
    "ax[1].set_xlabel(\"Index\")\n",
    "plot_data = [\n",
    "    (0, 10, \"green\", \"^\", \"green\"),\n",
    "    (10, 70, \"red\", \"*\", \"red\"),\n",
    "    (70, 80, \"black\", \"s\", \"NIR\"),\n",
    "    (80, 90, \"blue\", \"o\", \"blue\"),\n",
    "]\n",
    "for start_idx, end_idx, color, marker, label in plot_data:\n",
    "    ax[0].plot(\n",
    "        np.arange(start_idx, end_idx),\n",
    "        angles[start_idx:end_idx],\n",
    "        color=color,\n",
    "        marker=marker,\n",
    "        label=label,\n",
    "    )\n",
    "    ax[1].plot(\n",
    "        np.arange(start_idx, end_idx),\n",
    "        wavelengths[start_idx:end_idx],\n",
    "        color=color,\n",
    "        marker=marker,\n",
    "        label=label,\n",
    "    )\n",
    "ax[0].legend()\n",
    "ax[1].legend()\n",
    "plt.show()"
   ]
  },
  {
   "cell_type": "markdown",
   "id": "2e89751d",
   "metadata": {},
   "source": [
    "[Back to top](#toc)\n",
    "<a name=\"polarimetry\"></a>\n",
    "## 3. Understanding Polarimetry\n",
    "\n",
    "HARP2 is sensitive to the polarization of light. Polarization describes the geometric orientation of the oscillation of light waves. Randomly polarized light (like light coming directly from the sun) has an approximately equal amount of waves in every orientation. When light reflects of certain surfaces, it can become nonrandomly polarized.\n",
    "\n",
    "Polarimetric data is typically represented using [Stokes vectors](https://en.wikipedia.org/wiki/Stokes_parameters). These have four components: I, Q, U, and V. HARP2 is only sensitive to linear polarization, and does not detect circular polarization. Since the V component corresponds to circular polarization, the data only includes the I, Q, and U elements of the Stokes vector.\n",
    "\n",
    "Let's make a plot of the I, Q, and U components of our Stokes vector, using the RGB channels, which will help our eyes make sense of the data. We'll use the view that is closest to pointing straight down, which is called the \"nadir\" view in the code. It is important to understand that, because HARP2 is a pushbroom sensor with a wide swath, the sensor zenith angle at the edges of the swath will still be high. It's only a true nadir view close to the center of the swath. Still, the average sensor zenith angle will be lowest in this view.)\n",
    "\n",
    "The I, Q, and U components of the Stokes vector are separate variables in the `obs` dataset."
   ]
  },
  {
   "cell_type": "code",
   "execution_count": null,
   "id": "966e4efe",
   "metadata": {},
   "outputs": [],
   "source": [
    "stokes = obs[[\"i\", \"q\", \"u\"]]"
   ]
  },
  {
   "cell_type": "markdown",
   "id": "f4ced8be",
   "metadata": {},
   "source": [
    "The first 10 channels are green, the next 60 channels are red, and the final 10 channels are blue (we're skipping NIR).\n",
    "In each of those groups of channels, we get the index of the minimum absolute value of the camera angle, corresponding to our nadir view."
   ]
  },
  {
   "cell_type": "code",
   "execution_count": null,
   "id": "33d694d5",
   "metadata": {},
   "outputs": [],
   "source": [
    "green_nadir_idx = np.argmin(np.abs(angles[:10].values))\n",
    "red_nadir_idx = 10 + np.argmin(np.abs(angles[10:70].values))\n",
    "blue_nadir_idx = 80 + np.argmin(np.abs(angles[80:].values))"
   ]
  },
  {
   "cell_type": "markdown",
   "id": "06ff0a2f",
   "metadata": {},
   "source": [
    "Then, get the data at the nadir indices."
   ]
  },
  {
   "cell_type": "code",
   "execution_count": null,
   "id": "5c67afda",
   "metadata": {},
   "outputs": [],
   "source": [
    "rgb_stokes = stokes.isel(\n",
    "    {\n",
    "        \"number_of_views\": [red_nadir_idx, green_nadir_idx, blue_nadir_idx],\n",
    "    }\n",
    ")"
   ]
  },
  {
   "cell_type": "markdown",
   "id": "5ef65e5e",
   "metadata": {},
   "source": [
    "A few adjustments make the image easier to visualize. First, normalize the data between 0 and 1. Second, bring out some of the darker colors."
   ]
  },
  {
   "cell_type": "code",
   "execution_count": null,
   "id": "ec5da835",
   "metadata": {},
   "outputs": [],
   "source": [
    "rgb_stokes = (rgb_stokes - rgb_stokes.min()) / (rgb_stokes.max() - rgb_stokes.min())\n",
    "rgb_stokes = rgb_stokes ** (3 / 4)"
   ]
  },
  {
   "cell_type": "markdown",
   "id": "b79e806f",
   "metadata": {},
   "source": [
    "Add latitude and longitude as auxilliary (i.e. non-index) coordinates to use in the map projection."
   ]
  },
  {
   "cell_type": "code",
   "execution_count": null,
   "id": "15df3305",
   "metadata": {},
   "outputs": [],
   "source": [
    "rgb_stokes = rgb_stokes.assign_coords(\n",
    "    {\n",
    "        \"lat\": geo[\"latitude\"],\n",
    "        \"lon\": geo[\"longitude\"],\n",
    "    }\n",
    ")"
   ]
  },
  {
   "cell_type": "markdown",
   "id": "c8f3b36c",
   "metadata": {},
   "source": [
    "Since the nadir view is not processed at swath edges, a better image will result from finding a valid window within the dataset. Using just the array for the I component, we crop the `rgb_stokes` dataset using the `where` attribute and some boolean logic applied across different dimensions of the array."
   ]
  },
  {
   "cell_type": "code",
   "execution_count": null,
   "id": "2ec4b690",
   "metadata": {},
   "outputs": [],
   "source": [
    "window = rgb_stokes[\"i\"].notnull().all(\"number_of_views\")\n",
    "crop_rgb_stokes = rgb_stokes.where(\n",
    "    window.any(\"bins_along_track\") & window.any(\"bins_across_track\"),\n",
    "    drop=True,\n",
    ")"
   ]
  },
  {
   "cell_type": "markdown",
   "id": "30ceb0ee",
   "metadata": {},
   "source": [
    "The granule crosses the 180 degree longitude, so we set up the figure and subplots to use a Plate Carree projection shifted to center on a -170 longitude. The data has coordinates from the default (i.e. centered at 0 longitude) Plate Carree projection, so we give that CRS as a `transform`.\n",
    "\n",
    "The figure will hav 1 row and 3 columns, for each of the I, Q, and U arrays, spanning a width suitable for many screens."
   ]
  },
  {
   "cell_type": "code",
   "execution_count": null,
   "id": "31361be3",
   "metadata": {},
   "outputs": [],
   "source": [
    "crs = ccrs.PlateCarree(-170)\n",
    "fig, ax = plt.subplots(1, 3, figsize=(16, 5), subplot_kw={\"projection\": crs})\n",
    "fig.suptitle(f'{prod.attrs[\"product_name\"]} RGB')\n",
    "\n",
    "for i, (key, value) in enumerate(crop_rgb_stokes.items()):\n",
    "    ax[i].pcolormesh(value[\"lon\"], value[\"lat\"], value, transform=ccrs.PlateCarree())\n",
    "    ax[i].gridlines(draw_labels={\"bottom\": \"x\", \"left\": \"y\"}, linestyle=\"--\")\n",
    "    ax[i].coastlines(color=\"grey\")\n",
    "    ax[i].set_title(key.capitalize())"
   ]
  },
  {
   "cell_type": "markdown",
   "id": "ddd3fe04",
   "metadata": {},
   "source": [
    "It's pretty plain to see that the I plot makes sense to the eye: we can see clouds over the Pacific Ocean (this scene is south of the Cook Islands and east of Australia). This is because the I component of the Stokes vector corresponds to the total intensity. In other words, this is roughly what your eyes would see. However, the Q and U plots don't quite make as much sense to the eye. We can see that there is some sort of transition in the middle, which is the satellite track. This transition occurs in both plots, but is stronger in Q. This gives us a hint: the type of linear polarization we see in the scene depends on the angle with which we view the scene.\n",
    "\n",
    "[This Wikipedia plot](https://upload.wikimedia.org/wikipedia/commons/3/31/StokesParameters.png) is very helpful for understanding what exactly the Q and U components of the Stokes vector mean. Q describes how much the light is oriented in -90°/90° vs. 0°/180°, while U describes how much light is oriented in -135°/45°; vs. -45°/135°.\n",
    "\n",
    "Next, let's take a look at the degree of linear polarization (DoLP)."
   ]
  },
  {
   "cell_type": "code",
   "execution_count": null,
   "id": "a1ca2cc7",
   "metadata": {},
   "outputs": [],
   "source": [
    "rgb_dolp = obs[\"dolp\"].isel(\n",
    "    {\n",
    "        \"number_of_views\": [red_nadir_idx, green_nadir_idx, blue_nadir_idx],\n",
    "    }\n",
    ")\n",
    "crop_rgb_dolp = rgb_dolp.where(\n",
    "    window.any(\"bins_along_track\") & window.any(\"bins_across_track\"),\n",
    "    drop=True,\n",
    ")\n",
    "crop_rgb = xr.merge((crop_rgb_dolp, crop_rgb_stokes))"
   ]
  },
  {
   "cell_type": "markdown",
   "id": "c1d9ae68",
   "metadata": {},
   "source": [
    "Create a figure with 1 row and 2 columns, having a good width for many screens, that will use the projection defined above. For the two columns, we iterate over just the I and DoLP arrays."
   ]
  },
  {
   "cell_type": "code",
   "execution_count": null,
   "id": "aa7ffbbb",
   "metadata": {},
   "outputs": [],
   "source": [
    "fig, ax = plt.subplots(1, 2, figsize=(16, 8), subplot_kw={\"projection\": crs})\n",
    "fig.suptitle(f'{prod.attrs[\"product_name\"]} RGB')\n",
    "\n",
    "for i, (key, value) in enumerate(crop_rgb[[\"i\", \"dolp\"]].items()):\n",
    "    ax[i].pcolormesh(value[\"lon\"], value[\"lat\"], value, transform=ccrs.PlateCarree())\n",
    "    ax[i].gridlines(draw_labels={\"bottom\": \"x\", \"left\": \"y\"}, linestyle=\"--\")\n",
    "    ax[i].coastlines(color=\"grey\")\n",
    "    ax[i].set_title(key.capitalize())"
   ]
  },
  {
   "cell_type": "markdown",
   "id": "68589d86",
   "metadata": {},
   "source": [
    "DoLP line plot"
   ]
  },
  {
   "cell_type": "code",
   "execution_count": null,
   "id": "005c4942",
   "metadata": {},
   "outputs": [],
   "source": [
    "dolp_mean = obs[\"dolp\"].mean([\"bins_along_track\", \"bins_across_track\"])\n",
    "dolp_mean = (dolp_mean - dolp_mean.min()) / (dolp_mean.max() - dolp_mean.min())"
   ]
  },
  {
   "cell_type": "code",
   "execution_count": null,
   "id": "53e2f95d",
   "metadata": {},
   "outputs": [],
   "source": [
    "fig, ax = plt.subplots(figsize=(16, 6))\n",
    "wv_uq = np.unique(wavelengths.values)\n",
    "plot_data = [(\"b\", \"o\"), (\"g\", \"^\"), (\"r\", \"*\"), (\"k\", \"s\")]\n",
    "for wv_idx in range(4):\n",
    "    wv = wv_uq[wv_idx]\n",
    "    wv_mask = wavelengths.values == wv\n",
    "    c, m = plot_data[wv_idx]\n",
    "    ax.plot(\n",
    "        angles.values[wv_mask],\n",
    "        dolp_mean[wv_mask],\n",
    "        color=c,\n",
    "        marker=m,\n",
    "        markersize=7,\n",
    "        label=str(wv),\n",
    "    )\n",
    "ax.legend()\n",
    "ax.set_xlabel(\"Nominal View Angle (°)\")\n",
    "ax.set_ylabel(\"DoLP\")\n",
    "ax.set_title(\"Mean DoLP by View Angle\")\n",
    "plt.show()"
   ]
  },
  {
   "cell_type": "markdown",
   "id": "044f3bbb",
   "metadata": {},
   "source": [
    "[Back to top](#toc)\n",
    "<a name='reflectance'></a>\n",
    "## 4. Radiance to Reflectance\n",
    "\n",
    "We can convert radiance into reflectance. For a more in-depth explanation, see [here](https://seadas.gsfc.nasa.gov/help-9.0.0/rad2refl/Rad2ReflAlgorithmSpecification.html#:~:text=Radiance%20is%20the%20variable%20directly,it%2C%20and%20it%20is%20dimensionless). This conversion compensates for the differences in appearance due to the viewing angle and sun angle.\n",
    "\n",
    "The difference in appearance (after matplotlib automatically normalizes the data) is negligible, but the difference in the physical meaning of the array values is quite important."
   ]
  },
  {
   "cell_type": "code",
   "execution_count": null,
   "id": "ce3513d5",
   "metadata": {},
   "outputs": [],
   "source": [
    "refl = rad_to_refl(\n",
    "    rad=obs[\"i\"],\n",
    "    f0=view[\"intensity_f0\"],\n",
    "    sza=geo[\"solar_zenith_angle\"],\n",
    "    r=float(prod.attrs[\"sun_earth_distance\"]),\n",
    ")"
   ]
  },
  {
   "cell_type": "code",
   "execution_count": null,
   "id": "9e16fff2",
   "metadata": {},
   "outputs": [],
   "source": [
    "fig, ax = plt.subplots(1, 2, figsize=(16, 8))\n",
    "ax[0].imshow(obs[\"i\"].sel({\"number_of_views\": red_nadir_idx}), cmap=\"gray\")\n",
    "ax[0].set_title(\"Radiance\")\n",
    "ax[1].imshow(refl.sel({\"number_of_views\": red_nadir_idx}), cmap=\"gray\")\n",
    "ax[1].set_title(\"Reflectance\")\n",
    "plt.show()"
   ]
  },
  {
   "cell_type": "markdown",
   "id": "64bfea8a",
   "metadata": {},
   "source": [
    "Create a line plot of the mean reflectance for each view angle and spectral channel. The flatness of this plot serves as a sanity check that nothing has gone horribly wrong with our data processing."
   ]
  },
  {
   "cell_type": "code",
   "execution_count": null,
   "id": "54e43352",
   "metadata": {},
   "outputs": [],
   "source": [
    "fig, ax = plt.subplots(figsize=(16, 6))\n",
    "wv_uq = np.unique(wavelengths.values)\n",
    "plot_data = [(\"b\", \"o\"), (\"g\", \"^\"), (\"r\", \"*\"), (\"black\", \"s\")]\n",
    "refl_mean = refl.mean([\"bins_along_track\", \"bins_across_track\"])\n",
    "for wv_idx in range(4):\n",
    "    wv = wv_uq[wv_idx]\n",
    "    wv_mask = wavelengths.values == wv\n",
    "    c, m = plot_data[wv_idx]\n",
    "    ax.plot(\n",
    "        angles.values[wv_mask],\n",
    "        refl_mean[wv_mask],\n",
    "        color=c,\n",
    "        marker=m,\n",
    "        markersize=7,\n",
    "        label=str(wv),\n",
    "    )\n",
    "\n",
    "ax.legend()\n",
    "ax.set_xlabel(\"Nominal View Angle (°)\")\n",
    "ax.set_ylabel(\"Reflectance\")\n",
    "ax.set_title(\"Mean Reflectance by View Angle\")\n",
    "plt.show()"
   ]
  },
  {
   "cell_type": "markdown",
   "id": "536eb2f9",
   "metadata": {},
   "source": [
    "[Back to top](#toc)\n",
    "<a name='animation'>\n",
    "## 5. A Simple Animation\n",
    "\n",
    "<div class=\"alert alert-info\" role=\"alert\">\n",
    "<p>WARNING: there is some flickering in the animation displayed in this section.</p>\n",
    "</div>\n",
    "\n",
    "All that is great for looking at a single angle at a time, but it doesn't capture the multi-angle nature of the instrument. Multi-angle data innately captures information about 3D structure. To get a sense of that, we'll make an animation of the scene with the 60 viewing angles available for the red band.\n",
    "\n",
    "Note: you can generate this animation with geolocated data as well, using `pcolormesh` as shown in the above code blocks. However, this can be a little slow for multi-angle data, so for now we'll just use the un-interpolated arrays. This means there will be some stripes of what seems like missing data at certain angles. These stripes actually result from the gridding of the multi-angle data, and are not a bug."
   ]
  },
  {
   "cell_type": "markdown",
   "id": "3e46a73c",
   "metadata": {},
   "source": [
    "Create an animated PNG object."
   ]
  },
  {
   "cell_type": "code",
   "execution_count": null,
   "id": "ec3d701a",
   "metadata": {},
   "outputs": [],
   "source": [
    "anim = APNG()"
   ]
  },
  {
   "cell_type": "markdown",
   "id": "6137e3b0",
   "metadata": {},
   "source": [
    "Get the reflectances of just the red channel, and normalize the reflectance to lie between 0 and 1."
   ]
  },
  {
   "cell_type": "code",
   "execution_count": null,
   "id": "635341c9",
   "metadata": {},
   "outputs": [],
   "source": [
    "refl_red = refl[..., 10:70]\n",
    "refl_pretty = (refl_red - refl_red.min()) / (refl_red.max() - refl_red.min())"
   ]
  },
  {
   "cell_type": "markdown",
   "id": "6105c20f",
   "metadata": {},
   "source": [
    "A very mild Gaussian filter over the angular axis will improve the animation's smoothness."
   ]
  },
  {
   "cell_type": "code",
   "execution_count": null,
   "id": "df75f5e2",
   "metadata": {},
   "outputs": [],
   "source": [
    "refl_pretty.data = gaussian_filter1d(refl_pretty, sigma=0.5, truncate=2, axis=2)"
   ]
  },
  {
   "cell_type": "markdown",
   "id": "2f734a4a",
   "metadata": {},
   "source": [
    "Raising the image to the power 2/3 will brighten it a little bit. Cast it to an unsigned 8-bit integer so we can write it to a png later."
   ]
  },
  {
   "cell_type": "code",
   "execution_count": null,
   "id": "2b963a2d",
   "metadata": {},
   "outputs": [],
   "source": [
    "refl_pretty = refl_pretty ** (2 / 3)\n",
    "refl_pretty.data[np.isnan(refl_pretty)] = 0  # set all of our not-a-number (NaN) values to 0\n",
    "refl_pretty = (255 * refl_pretty).astype(np.uint8)"
   ]
  },
  {
   "cell_type": "markdown",
   "id": "baed36c4",
   "metadata": {},
   "source": [
    "Append all but the first and last frame in reverse order, to get a 'bounce' effect."
   ]
  },
  {
   "cell_type": "code",
   "execution_count": null,
   "id": "21554dec",
   "metadata": {},
   "outputs": [],
   "source": [
    "frames = np.concatenate([refl_pretty, refl_pretty[..., -1:1:-1]], axis=2)"
   ]
  },
  {
   "cell_type": "markdown",
   "id": "e0b0776a",
   "metadata": {},
   "source": [
    "Save each frame to this directory and append the files to our animated PNG object\n",
    "Make a temporary directory to dump frames into."
   ]
  },
  {
   "cell_type": "code",
   "execution_count": null,
   "id": "56ce168c",
   "metadata": {},
   "outputs": [],
   "source": [
    "with TemporaryDirectory() as tmp:\n",
    "    for i in range(frames.shape[2]):\n",
    "        frame = frames[..., i]\n",
    "        path = Path(tmp) / f\"{i:04d}.png\"\n",
    "        imageio.imwrite(path, frame)\n",
    "        anim.append_file(path, delay=i)\n",
    "    anim.save(f'harp2_red_anim_{prod.attrs[\"product_name\"].split(\".\")[1]}.png')"
   ]
  },
  {
   "cell_type": "markdown",
   "id": "fe86e516",
   "metadata": {},
   "source": [
    "Check it out! This is a great example of multi-layer clouds. You can use the parallax effect to distinguish between these layers.\n",
    "\n",
    "The [sunglint](https://en.wikipedia.org/wiki/Sunglint) is an obvious feature, but you can also make out the [opposition effect](https://en.wikipedia.org/wiki/Opposition_surge) on some of the clouds in the scene. These details would be far harder to identify without multiple angles!\n",
    "\n",
    "![A multi-angle HARP2 animation](harp2_red_anim_20240519T235950.png)"
   ]
  }
 ],
 "metadata": {
  "language_info": {
   "name": "python"
  }
 },
 "nbformat": 4,
 "nbformat_minor": 5
}
