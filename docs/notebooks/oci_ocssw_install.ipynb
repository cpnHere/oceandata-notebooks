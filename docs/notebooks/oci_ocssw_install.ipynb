{
 "cells": [
  {
   "cell_type": "markdown",
   "id": "03fc1904",
   "metadata": {},
   "source": [
    "# Installing and Running OCSSW Command-line Tools\n",
    "\n",
    "**Authors:** Carina Poulin (NASA, SSAI), Ian Carroll (NASA, UMBC), Anna Windle (NASA, SSAI)\n",
    "\n",
    "> **PREREQUISITES**\n",
    ">\n",
    "> This notebook has the following prerequisites:"
   ]
  },
  {
   "cell_type": "markdown",
   "id": "8af990c4",
   "metadata": {},
   "source": [
    "> - An **<a href=\"https://urs.earthdata.nasa.gov/\" target=\"_blank\">Earthdata Login</a>**\n",
    ">   account is required to access data from the NASA Earthdata system, including NASA ocean color data.\n",
    "> - Learn with OCI: <a href=\"https://oceancolor.gsfc.nasa.gov/resources/docs/tutorials/notebooks/oci_data_access/\" target=\"_blank\">Data Access</a>\n",
    "\n",
    "## Summary\n",
    "\n",
    "[SeaDAS][seadas] is the official data analysis sofware of NASA's Ocean Biology Distributed Active Archive Center (OB.DAAC); used to process, display and analyse ocean color data. SeaDAS is a dektop application that includes the Ocean Color Science Software (OCSSW) libraries. There are also command line programs for the OCSSW libraries, which we can use to write processing scripts or notebooks.\n",
    "\n",
    "[seadas]: https://seadas.gsfc.nasa.gov/"
   ]
  },
  {
   "cell_type": "markdown",
   "id": "f8f7b1cc",
   "metadata": {},
   "source": [
    "\n",
    "This tutorial will show you how to install OCSSW on a Linux server and how to start doing data processing by processing a Level-1B (L1B) file from PACE OCI to a Level-2 (L2) file using `l2gen`.\n",
    "\n",
    "[seadas]: https://seadas.gsfc.nasa.gov/\n",
    "\n",
    "## Learning Objectives\n",
    "\n",
    "At the end of this notebok you will know:\n",
    "* How to install OCSSW on your server\n",
    "* How to set up your OCSSW session\n",
    "* How to process a L1B file to L2 using l2gen\n",
    "\n",
    "<a name=\"toc\"></a>\n",
    "## Contents\n",
    "\n",
    "1. [Setup](#setup)\n",
    "1. [Install OCSSW](#ocssw)\n",
    "1. [Process Data with `l2gen`](#l2gen)\n",
    "\n",
    "<a name=\"setup\"></a> \n",
    "## 1. Setup\n",
    "\n",
    "<div class=\"alert alert-info\" role=\"alert\">\n",
    "This tutorial is written in a Jupyter notebook connected to a Bash kernel. If you have downloaded this Jupyter notebook and want to run it, you also need to connected it to a Bash kernel. Alternatively, you can copy the code cells to the Terminal application found in the JupyterLab Launcher, which speaks Bash or something close enough.\n",
    "</div>\n",
    "\n",
    "### (Optional) Use a Bash Kernel\n",
    "\n",
    "<div class=\"alert alert-danger\" role=\"alert\">\n",
    "Conda uses a lot of memory while configuring your environment. Choose an option with more than about 5GB of RAM from the JupyterHub Control Panel, or your install will fail.\n",
    "</div>\n",
    "\n",
    "Run the following command. If the terminal asks you to update conda, type Y to accept."
   ]
  },
  {
   "cell_type": "code",
   "execution_count": null,
   "id": "84d4308d",
   "metadata": {},
   "outputs": [],
   "source": [
    "%conda install bash_kernel"
   ]
  },
  {
   "cell_type": "markdown",
   "id": "979f7401",
   "metadata": {},
   "source": [
    "Follow the prompts from conda to proceed with any installs and updates. If prompted, enter \"y\" to accept.\n",
    "\n",
    "Confirm the bash kernel is installed by starting a new Launcher. You should see the bash kernel along with Python and other kernels installed in your JupyterHub. You should now **change the kernel of the notebook** by clicking on the kernel name in the upper-right corner of the window and selecting the Bash kernel before moving on to the rest of the tutorial."
   ]
  },
  {
   "cell_type": "markdown",
   "id": "556df072",
   "metadata": {},
   "source": [
    "[Back to top](#toc)\n",
    "<a name=\"ocssw\"></a>\n",
    "## 2. Install OCSSW\n",
    "\n",
    "The OCSSW software is not a Python package and not available from `conda` or any other repository. To install it, we begin by aquiring an installer script from the OB.DAAC. This script is actually part of OCSSW, but we can use it independently to download and install the OCSSW binaries suitable for our system."
   ]
  },
  {
   "cell_type": "code",
   "execution_count": null,
   "id": "064a8f97",
   "metadata": {},
   "outputs": [],
   "source": [
    "wget https://oceandata.sci.gsfc.nasa.gov/manifest/install_ocssw"
   ]
  },
  {
   "cell_type": "markdown",
   "id": "f9e54744",
   "metadata": {},
   "source": [
    "Similarly, we'll need the manifest module imported by the installer."
   ]
  },
  {
   "cell_type": "code",
   "execution_count": null,
   "id": "aa2ed53d",
   "metadata": {},
   "outputs": [],
   "source": [
    "wget https://oceandata.sci.gsfc.nasa.gov/manifest/manifest.py"
   ]
  },
  {
   "cell_type": "markdown",
   "id": "decde854",
   "metadata": {},
   "source": [
    "Before you can use a downloaded script, you need to change its mode to be executable."
   ]
  },
  {
   "cell_type": "code",
   "execution_count": null,
   "id": "9544183f",
   "metadata": {},
   "outputs": [],
   "source": [
    "chmod +x install_ocssw"
   ]
  },
  {
   "cell_type": "markdown",
   "id": "d58590c7",
   "metadata": {},
   "source": [
    "Take a look at the different OCSSW \"tags\" you can install. It is recommended to use the most recent one for the installation, which is T2024.16 at the time of writing this tutorial. Tags starting with \"V\" are operational versions, and tags starting with \"T\" are test versions. Use \"T\" to process the latest data products, but keep in mind that processing can change a lot between tags. Tags with \"R\" means ___."
   ]
  },
  {
   "cell_type": "code",
   "execution_count": null,
   "id": "1cb7726a",
   "metadata": {},
   "outputs": [],
   "source": [
    "./install_ocssw --list_tags"
   ]
  },
  {
   "cell_type": "markdown",
   "id": "a4ee7ad8",
   "metadata": {},
   "source": [
    "Define an environmental variable called \"OCSSWROOT\" that specifies a directory for your OCSSW installation. Environment variables are set in Bash using the `export` command, and displayed with `printenv`"
   ]
  },
  {
   "cell_type": "code",
   "execution_count": null,
   "id": "196a8f11",
   "metadata": {},
   "outputs": [],
   "source": [
    "export OCSSWROOT=/tmp/ocssw"
   ]
  },
  {
   "cell_type": "code",
   "execution_count": null,
   "id": "48f6323f",
   "metadata": {},
   "outputs": [],
   "source": [
    "printenv OCSSWROOT"
   ]
  },
  {
   "cell_type": "markdown",
   "id": "c92f763c",
   "metadata": {},
   "source": [
    "<div class=\"alert alert-info\" role=\"alert\">\n",
    "You will need to repeat these installation steps if your OCSSWROOT directory does not persist between sessions. The `/tmp/ocssw` folder, for instance, will not be present the next time JupyterHub creates a server. Consider the trade off between installation time, speed, and storage costs when choosing your OCSSWROOT. With the arguments below, the installation takes 11GB of storage space. We use the quick and cheap location for this tutorial.\n",
    "</div>"
   ]
  },
  {
   "cell_type": "markdown",
   "id": "e356a44b",
   "metadata": {},
   "source": [
    "Install OCSSW using the `--tag` argument to pick from the list above. Also provide optional arguments for sensors you will be working with. In this case, we will only be using OCI. A list of optional arguments can be found on the OCSSW webpage or with `./install_ocssw --help`.\n",
    "\n",
    "*Tip:* The process is not finished as long as the counter to the left of the cell shows `[*]`. It will take some time to install all the tools (7 of 7 installations)."
   ]
  },
  {
   "cell_type": "code",
   "execution_count": null,
   "id": "2904e220",
   "metadata": {},
   "outputs": [],
   "source": [
    "./install_ocssw --tag=T2024.19 --seadas --oci"
   ]
  },
  {
   "cell_type": "markdown",
   "id": "459f6e85",
   "metadata": {},
   "source": [
    "Finish up by calling `source` on the \"OCSSW_bash.env\" file, which exports additional environment variables. This environment file specifies the locations of all files required by OCSSW, and must be exported in every Terminal or Bash kernel before you run `l2gen` or any other OCSSW command."
   ]
  },
  {
   "cell_type": "code",
   "execution_count": null,
   "id": "96f0e6a7",
   "metadata": {},
   "outputs": [],
   "source": [
    "source $OCSSWROOT/OCSSW_bash.env"
   ]
  },
  {
   "cell_type": "markdown",
   "id": "f50a78fd",
   "metadata": {},
   "source": [
    "Confirm the environment has been set by checking that *another* `install_ocssw` script is now discoverable by Bash at the newly installed location."
   ]
  },
  {
   "cell_type": "code",
   "execution_count": null,
   "id": "28c97718",
   "metadata": {},
   "outputs": [],
   "source": [
    "which install_ocssw"
   ]
  },
  {
   "cell_type": "markdown",
   "id": "c9414f0c",
   "metadata": {},
   "source": [
    "You are now ready to run `l2gen`, the Level-2 processing function for all ocean color instruments under the auspices of the GSFC Ocean Biology Processing Group!"
   ]
  },
  {
   "cell_type": "markdown",
   "id": "ff09f222",
   "metadata": {},
   "source": [
    "[Back to top](#toc)\n",
    "<a name=\"l2gen\"></a>\n",
    "## 3. Process L1B Data with `l2gen`\n",
    "\n",
    "Run `l2gen` by itself to view the extensive list of options available. You can find more information [on the Seadas website][docs].\n",
    "\n",
    "[docs]: https://seadas.gsfc.nasa.gov/help-8.3.0/processors/ProcessL2gen.html"
   ]
  },
  {
   "cell_type": "code",
   "execution_count": null,
   "id": "b7740356",
   "metadata": {},
   "outputs": [],
   "source": [
    "l2gen"
   ]
  },
  {
   "cell_type": "markdown",
   "id": "fa51c035",
   "metadata": {},
   "source": [
    "Feel free to explore all of `l2gen` options to produce a highly customized Level-2 dataset for your research. Here we just scratch the surface.\n",
    "\n",
    "To process a L1B file using `l2gen` you need, at a minimum, to set an input file name (`ifile`) and an output file name (`ofile`). You can also indicate a data suite; in this example, we will proceed with the Surface Reflectance suite used to make true color images (`SFREFL`). We turn off the atmospheric correction with `atmocor=0` to save processing time.\n",
    "\n",
    "For this example, we will be using the L1B file downloaded in the OCI Data Access notebook. Confirm that the L1B file to process is at the expected location by listing (with `ls`) the directory contents. If the directory is empty, check that you've completed the prerequiste notebooks for this tutorial!"
   ]
  },
  {
   "cell_type": "code",
   "execution_count": null,
   "id": "62537a57",
   "metadata": {},
   "outputs": [],
   "source": [
    "ls L1B"
   ]
  },
  {
   "cell_type": "markdown",
   "id": "5723e0cb",
   "metadata": {},
   "source": [
    "Create a directory for output files."
   ]
  },
  {
   "cell_type": "code",
   "execution_count": null,
   "id": "a5c2a93a",
   "metadata": {},
   "outputs": [],
   "source": [
    "mkdir L2"
   ]
  },
  {
   "cell_type": "markdown",
   "id": "98d0c17d",
   "metadata": {},
   "source": [
    "And run! Note, this may take some time (__). "
   ]
  },
  {
   "cell_type": "code",
   "execution_count": null,
   "id": "ab4aa459",
   "metadata": {},
   "outputs": [],
   "source": [
    "l2gen \\\n",
    "  ifile=L1B/PACE_OCI.20240501T165311.L1B.nc \\\n",
    "  ofile=L2/PACE_OCI.20240501T165311.L2.SFREFL.nc \\\n",
    "  suite=SFREFL \\\n",
    "  atmocor=0"
   ]
  },
  {
   "cell_type": "markdown",
   "id": "c34326a2",
   "metadata": {},
   "source": [
    "*Tip*: Scroll down in the output above to see updates on processing. Upon completion, you should have a new processed L2 file in your L2 folder. "
   ]
  },
  {
   "cell_type": "markdown",
   "id": "5a0d0f49",
   "metadata": {},
   "source": [
    "<div class=\"alert alert-info\" role=\"alert\">\n",
    "<p>You have completed the notebook on installing OCCSW. Check out the notebook on OCSSW processing PACE data: oci_ocssw_processing.ipynb</p>\n",
    "</div>"
   ]
  },
  {
   "cell_type": "code",
   "execution_count": null,
   "id": "91845af4",
   "metadata": {},
   "outputs": [],
   "source": []
  }
 ],
 "metadata": {},
 "nbformat": 4,
 "nbformat_minor": 5
}
