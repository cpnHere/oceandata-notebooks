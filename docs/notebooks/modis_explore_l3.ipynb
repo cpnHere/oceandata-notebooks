{
 "cells": [
  {
   "cell_type": "markdown",
   "id": "d5b3808e",
   "metadata": {},
   "source": [
    "# Explore Level-3 Ocean Color data from the Moderate Resolution Imaging Spectroradiometer (MODIS) on the Aqua Satellite\n",
    "**Authors:** Guoqing Wang (NASA, GSFC); Ian Carroll (NASA, UMBC), Eli Holmes (NOAA)\n",
    "\n",
    "> **PREREQUISITES**\n",
    ">\n",
    "> This notebook has the following prerequisites:\n",
    "> - An **<a href=\"https://urs.earthdata.nasa.gov/\" target=\"_blank\">Earthdata Login</a>**\n",
    ">   account is required to access data from the NASA Earthdata system, including NASA ocean color data.\n",
    "> - Learn with MODIS: <a href=\"https://oceancolor.gsfc.nasa.gov/resources/docs/tutorials/notebooks/modis_explore_l2/\" target=\"_blank\">Explore Level-2 Ocean Color</a>\n",
    "\n",
    "## Summary\n",
    "\n",
    "This tutorial demonstrates accessing and analyzing NASA ocean color data from the NASA Ocean Biology Distributed Active Archive Center (OBDAAC) archives. Currently, there are several ways to find and access ocean color data:\n",
    "\n",
    "1. [NASA's Earthdata Search](https://search.earthdata.nasa.gov/search)\n",
    "2. [NASA's CMR API](https://cmr.earthdata.nasa.gov/search/site/docs/search/api.html)\n",
    "3. [OB.DAAC OPENDAP](https://oceandata.sci.gsfc.nasa.gov/opendap/)\n",
    "4. [OB.DAAC File Search](https://oceandata.sci.gsfc.nasa.gov/api/file_search_help)\n",
    "\n",
    "In this tutorial, we will focus on using `earthaccess` Python module to access ocean color data through NASA's Common Metadata Repository (CMR), a metadata system that catalogs Earth Science data and associated metadata records.\n",
    "\n",
    "The Level-3 datasets of Aqua/MODIS include multiple types of temporally and spatially aggregated data. We will look at 8-day averaged and monthly averaged data at 4km resolution. We will plot chlorophyll-a (chlor_a) and remote-sensing reflectance at 412 nm (Rrs_412) data.\n",
    "\n",
    "## Learning Objectives\n",
    "\n",
    "At the end of this notebok you will know:\n",
    "* How to find OB.DAAC ocean color data\n",
    "* How to download files using `earthaccess`\n",
    "* How to create a plot using `xarray`\n",
    "<a name=\"toc\"></a>\n",
    "## Contents\n",
    "\n",
    "1. [Setup](#setup)\n",
    "1. [Access Data](#access)\n",
    "1. [Plot Data](#plot)\n",
    "<a name=\"setup\"></a>\n",
    "## 1. Setup\n",
    "\n",
    "We begin by importing all of the packages used in this notebook. If you have created an environment following the [guidance][tutorials] provided with this tutorial, then the imports will be successful.\n",
    "\n",
    "[tutorials]: https://oceancolor.gsfc.nasa.gov/resources/docs/tutorials"
   ]
  },
  {
   "cell_type": "code",
   "execution_count": null,
   "id": "234ba7a4-e14e-4935-adfd-0c9810993002",
   "metadata": {},
   "outputs": [],
   "source": [
    "from matplotlib import pyplot as plt\n",
    "import cartopy\n",
    "import earthaccess\n",
    "import numpy as np\n",
    "import xarray as xr"
   ]
  },
  {
   "cell_type": "code",
   "execution_count": null,
   "id": "ad475fdd-6961-4b74-9147-3da3eb8027d7",
   "metadata": {},
   "outputs": [],
   "source": [
    "auth = earthaccess.login(persist=True)"
   ]
  },
  {
   "cell_type": "markdown",
   "id": "64f31f1b",
   "metadata": {},
   "source": [
    "[Back to top](#toc)\n",
    "<a name=\"access\"></a>\n",
    "## 2. Access Data\n",
    "\n",
    "In this example, the image to be used is MODIS AQUA L3 8-day averaged 4km chlorophyll image for Sep 13-20, 2016 and the January 2020 monthly average for Rrs_412. First we need to search for that data. These data are hosted by the OB.DAAC. The `earthaccess.search_datasets` function queries the CMR for collections. To do this search we need to know something about the data information, particularly that we are looking for `L3m` or Level-3 mapped collections and MODIS AQUA."
   ]
  },
  {
   "cell_type": "code",
   "execution_count": null,
   "id": "8a756c8e",
   "metadata": {},
   "outputs": [],
   "source": [
    "results = earthaccess.search_datasets(\n",
    "    keyword=\"L3m ocean color modis aqua chlorophyll\",\n",
    "    instrument = \"MODIS\",\n",
    ")"
   ]
  },
  {
   "cell_type": "code",
   "execution_count": null,
   "id": "4ded3ddc",
   "metadata": {},
   "outputs": [],
   "source": [
    "set((i.summary()[\"short-name\"] for i in results))"
   ]
  },
  {
   "cell_type": "markdown",
   "id": "80b5cbe2",
   "metadata": {},
   "source": [
    "You will want to go on to https://search.earthdata.nasa.gov/ and enter the short names to read about each data collection. We want to use the `MODISA_L3m_CHL` data collection for our first plot. We can get the files (granules) in that collection with `earthaccess.search_data()`."
   ]
  },
  {
   "cell_type": "code",
   "execution_count": null,
   "id": "bb36e6b1-9b17-463f-8f0f-bec3b3e2d616",
   "metadata": {},
   "outputs": [],
   "source": [
    "tspan = (\"2016-09-20\", \"2016-09-20\")\n",
    "results = earthaccess.search_data(\n",
    "    short_name=\"MODISA_L3m_CHL\",\n",
    "    temporal=tspan,\n",
    ")"
   ]
  },
  {
   "cell_type": "markdown",
   "id": "29870dce-59a8-48dd-b360-60bba1111a62",
   "metadata": {},
   "source": [
    "Clearly, that's too many granules for a single day! The OB.DAAC publishes multiple variants of a dataset under the same short name, and the only way to distinguish them is by the product or granule name. The CMR search allows a `granule_name` parameter with wildcards for\n",
    "this kind of filter. The strings we need to see in the granule name are \".8D\" and \".9km\" (the \".\" is a separator used in granule names)."
   ]
  },
  {
   "cell_type": "code",
   "execution_count": null,
   "id": "2e3df779",
   "metadata": {},
   "outputs": [],
   "source": [
    "results = earthaccess.search_data(\n",
    "    short_name=\"MODISA_L3m_CHL\",\n",
    "    granule_name=\"*.8D*.9km*\",\n",
    "    temporal=tspan,\n",
    ")"
   ]
  },
  {
   "cell_type": "code",
   "execution_count": null,
   "id": "8155e17c-bc3e-48bc-bec8-d157453bd5c0",
   "metadata": {},
   "outputs": [],
   "source": [
    "results[0]"
   ]
  },
  {
   "cell_type": "markdown",
   "id": "50558abd",
   "metadata": {},
   "source": [
    "We need to check if the data are cloud-hosted. If they are, we can load into memory directly without downloading. If they are not cloud-hosted, we need to download the data file."
   ]
  },
  {
   "cell_type": "code",
   "execution_count": null,
   "id": "22136ab3",
   "metadata": {},
   "outputs": [],
   "source": [
    "results[0].cloud_hosted"
   ]
  },
  {
   "cell_type": "markdown",
   "id": "1451a787",
   "metadata": {},
   "source": [
    "The data are not cloud-hosted so we download with `earthaccess.download()`. `earthaccess` will handle authentication for us."
   ]
  },
  {
   "cell_type": "code",
   "execution_count": null,
   "id": "9df339e3",
   "metadata": {},
   "outputs": [],
   "source": [
    "paths = earthaccess.download(results, \"data\")"
   ]
  },
  {
   "cell_type": "code",
   "execution_count": null,
   "id": "77245c6a",
   "metadata": {},
   "outputs": [],
   "source": [
    "dataset = xr.open_dataset(paths[0])\n",
    "dataset"
   ]
  },
  {
   "cell_type": "markdown",
   "id": "0bca33f9",
   "metadata": {},
   "source": [
    "[Back to top](#toc)\n",
    "<a name=\"access\"></a>\n",
    "## 3. Plot Data"
   ]
  },
  {
   "cell_type": "code",
   "execution_count": null,
   "id": "a634a749-3c56-474a-9405-f8aa4dea86e3",
   "metadata": {},
   "outputs": [],
   "source": [
    "array = np.log10(dataset[\"chlor_a\"])\n",
    "array.attrs.update(\n",
    "    {\n",
    "        \"units\": f'log10({dataset[\"chlor_a\"].attrs[\"units\"]})',\n",
    "    }\n",
    ")\n",
    "crs_proj = cartopy.crs.Robinson()\n",
    "crs_data = cartopy.crs.PlateCarree()"
   ]
  },
  {
   "cell_type": "code",
   "execution_count": null,
   "id": "58c47fba-34a8-4f3c-92d3-9df00ca76231",
   "metadata": {},
   "outputs": [],
   "source": [
    "fig = plt.figure(figsize=(10, 5))\n",
    "ax = fig.add_subplot(projection=crs_proj)\n",
    "array.plot(x=\"lon\", y=\"lat\", cmap=\"jet\", ax=ax, robust=True, transform=crs_data)\n",
    "ax.coastlines()\n",
    "ax.set_title(dataset.attrs[\"product_name\"])\n",
    "plt.show()"
   ]
  },
  {
   "cell_type": "markdown",
   "id": "878173ed-9ed5-4803-83e4-162310a5610d",
   "metadata": {},
   "source": [
    "**Make another plot - of Rrs_412**\n",
    "\n",
    "Repeat these steps to map the monthly Rrs_412 dataset, a temporal average of cloud-free pixels, aggregated to 9km spatial resolution, for October 2020."
   ]
  },
  {
   "cell_type": "code",
   "execution_count": null,
   "id": "f7ad945c-18b6-4182-bc35-50a974d4a6f2",
   "metadata": {},
   "outputs": [],
   "source": [
    "tspan = (\"2020-10-01\", \"2020-10-01\")\n",
    "results = earthaccess.search_data(\n",
    "    short_name=\"MODISA_L3m_RRS\",\n",
    "    granule_name=\"*.MO*.Rrs_412*.9km*\",\n",
    "    temporal=tspan,\n",
    ")"
   ]
  },
  {
   "cell_type": "code",
   "execution_count": null,
   "id": "ebf636c2-3292-4260-916f-044af6b7a316",
   "metadata": {},
   "outputs": [],
   "source": [
    "paths = earthaccess.download(results, \"data\")"
   ]
  },
  {
   "cell_type": "code",
   "execution_count": null,
   "id": "96a73112",
   "metadata": {},
   "outputs": [],
   "source": [
    "dataset = xr.open_dataset(paths[0])"
   ]
  },
  {
   "cell_type": "code",
   "execution_count": null,
   "id": "c79e253d-f86d-4dac-989c-6506ec7099a1",
   "metadata": {},
   "outputs": [],
   "source": [
    "fig = plt.figure(figsize=(10, 5))\n",
    "ax = fig.add_subplot(projection=crs_proj)\n",
    "dataset[\"Rrs_412\"].plot(\n",
    "    x=\"lon\", y=\"lat\", cmap=\"jet\", robust=True, ax=ax, transform=crs_data\n",
    ")\n",
    "ax.coastlines()\n",
    "ax.set_title(dataset.attrs[\"product_name\"])\n",
    "plt.show()"
   ]
  },
  {
   "cell_type": "markdown",
   "id": "377d8692",
   "metadata": {},
   "source": [
    "<div class=\"alert alert-info\" role=\"alert\">\n",
    "<p>You have completed the notebook on Level-3 mapped ocean color data from Aqua/MODIS.</p>\n",
    "</div>"
   ]
  }
 ],
 "metadata": {
  "language_info": {
   "name": "python"
  }
 },
 "nbformat": 4,
 "nbformat_minor": 5
}
