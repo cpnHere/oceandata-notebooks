{
 "cells": [
  {
   "cell_type": "markdown",
   "id": "75786510",
   "metadata": {},
   "source": [
    "# Processing with OCSSW Tools: l2gen, l2bin, and l3mapgen\n",
    "\n",
    "**Authors:** Carina Poulin (NASA, SSAI), Ian Carroll (NASA, UMBC), Anna Windle (NASA, SSAI)\n",
    "\n",
    "> **PREREQUISITES**\n",
    ">\n",
    "> This notebook has the following prerequisites:\n",
    "> - An **<a href=\"https://urs.earthdata.nasa.gov/\" target=\"_blank\">Earthdata Login</a>**\n",
    ">   account is required to access data from the NASA Earthdata system, including NASA ocean color data.\n",
    "> - Learn with OCI: <a href=\"https://oceancolor.gsfc.nasa.gov/resources/docs/tutorials/notebooks/oci_ocssw_processing_bash/\" target=\"_blank\">Installing and Running OCSSW Command-line Tools</a>\n",
    "\n",
    "## Summary\n",
    "\n",
    "[SeaDAS][seadas] is the official data analysis sofware of NASA's Ocean Biology Distributed Active Archive Center (OB.DAAC); used to process, display and analyse ocean color data. SeaDAS is a dektop application that includes the Ocean Color Science Software (OCSSW) libraries. There are also command line programs for the OCSSW libraries, which we can use to write processing scripts or notebooks.\n",
    "\n",
    "This tutorial will show you how to process PACE OCI data using the sequence of OCSSW programs `l2gen`, `l2bin`, and `l3mapgen`.\n",
    "\n",
    "[seadas]: https://seadas.gsfc.nasa.gov/\n",
    "\n",
    "## Learning Objectives\n",
    "\n",
    "<a name=\"toc\"></a>\n",
    "At the end of this notebok you will know:\n",
    "* How to process Level-1B data to Level-2 with `l2gen`\n",
    "* How to merge two images with `l2bin`\n",
    "* How to create a map with `l3mapgen`\n",
    "\n",
    "## Contents\n",
    "\n",
    "1. [Setup](#setup)\n",
    "1. [Get L1B Data](#data)\n",
    "1. [Process L1B Data with `l2gen`](#l2gen)\n",
    "1. [Composite L2 Data with `l2bin`](#l2bin)\n",
    "1. [Make a Map from Binned Data with `l3mapgen`](#l3mapgen)\n",
    "     \n",
    "<a name=\"setup\"></a> \n",
    "## 1. Setup\n",
    "\n",
    "We begin by importing all of the packages used in this notebook."
   ]
  },
  {
   "cell_type": "code",
   "execution_count": null,
   "id": "ad550614",
   "metadata": {},
   "outputs": [],
   "source": [
    "import csv\n",
    "import os\n",
    "import pathlib\n",
    "\n",
    "import cartopy.crs as ccrs\n",
    "import earthaccess\n",
    "import xarray as xr\n",
    "import matplotlib.pyplot as plt"
   ]
  },
  {
   "cell_type": "markdown",
   "id": "8a418625",
   "metadata": {},
   "source": [
    "We are also going to define a function to help write OCSSW parameter files, which\n",
    "is needed several times in this tutorial. To write the results in the format understood\n",
    "by OCSSW, this function uses the `csv.writer` from the Python Standard Library. Instead of\n",
    "writing comma-separated values, however, we specify a non-default delimiter to get\n",
    "equals-separated values. Not something you usually see in a data file, but it's better than\n",
    "writing our own utility from scratch!"
   ]
  },
  {
   "cell_type": "code",
   "execution_count": null,
   "id": "e08e08aa",
   "metadata": {},
   "outputs": [],
   "source": [
    "def write_par(path, par):\n",
    "    \"\"\"\n",
    "    Prepare a \"par file\" to be read by one of the OCSSW tools, as an\n",
    "    alternative to specifying each parameter on the command line.\n",
    "\n",
    "    Args:\n",
    "        path (str): where to write the parameter file\n",
    "        par (dict): the parameter names and values included in the file\n",
    "    \"\"\"\n",
    "    with open(path, \"w\") as file:\n",
    "        writer = csv.writer(file, delimiter=\"=\")\n",
    "        values = writer.writerows(par.items())"
   ]
  },
  {
   "cell_type": "markdown",
   "id": "ac6c078b-cb10-4d40-b769-6e8b0339a394",
   "metadata": {},
   "source": [
    "The Python docstring (fenced by triple quotation marks in the function definition) is not\n",
    "essential, but it helps describe what the function does."
   ]
  },
  {
   "cell_type": "code",
   "execution_count": null,
   "id": "ce80870e-51d4-42fb-94c6-adb723b7d89c",
   "metadata": {},
   "outputs": [],
   "source": [
    "help(write_par)"
   ]
  },
  {
   "cell_type": "markdown",
   "id": "0b763932",
   "metadata": {},
   "source": [
    "## 2. Get OCI Data <a name=\"data\"></a>\n",
    "\n",
    "\n",
    "Set (and persist to your user profile on the host, if needed) your Earthdata Login credentials."
   ]
  },
  {
   "cell_type": "code",
   "execution_count": null,
   "id": "8b6a1868",
   "metadata": {},
   "outputs": [],
   "source": [
    "auth = earthaccess.login(persist=True)"
   ]
  },
  {
   "cell_type": "markdown",
   "id": "438b75d0",
   "metadata": {},
   "source": [
    "We will use the `earthaccess` search method used in the OCI Data Access notebook. Note that Level-1B (L1B) files\n",
    "do not include cloud coverage metadata, so we cannot use that filter. In this search, the spatial filter is\n",
    "performed on a location given as a point represented by a tuple of latitude and longitude in decimal degrees."
   ]
  },
  {
   "cell_type": "code",
   "execution_count": null,
   "id": "ac60975e",
   "metadata": {},
   "outputs": [],
   "source": [
    "tspan = (\"2024-04-27\", \"2024-04-28\")\n",
    "location = (-56.5, 49.8)"
   ]
  },
  {
   "cell_type": "markdown",
   "id": "bf70ae50",
   "metadata": {},
   "source": [
    "The `search_data` method accepts a `point` argument for this type of location."
   ]
  },
  {
   "cell_type": "code",
   "execution_count": null,
   "id": "05de30c9",
   "metadata": {},
   "outputs": [],
   "source": [
    "results = earthaccess.search_data(\n",
    "    short_name=\"PACE_OCI_L1B_SCI\",\n",
    "    temporal=tspan,\n",
    "    point=location,\n",
    ")"
   ]
  },
  {
   "cell_type": "code",
   "execution_count": null,
   "id": "b04d257d",
   "metadata": {},
   "outputs": [],
   "source": [
    "results[0]"
   ]
  },
  {
   "cell_type": "markdown",
   "id": "00cfc596",
   "metadata": {},
   "source": [
    "Create a directory where you will store downloaded granules (nb. this step is unnecessary with earthaccess >= 0.9.1)."
   ]
  },
  {
   "cell_type": "code",
   "execution_count": null,
   "id": "c9b80fe5",
   "metadata": {},
   "outputs": [],
   "source": [
    "parent = pathlib.Path(\"granules\")\n",
    "parent.mkdir(exist_ok=True)"
   ]
  },
  {
   "cell_type": "markdown",
   "id": "195d5c37",
   "metadata": {},
   "source": [
    "Download the granules found in the search."
   ]
  },
  {
   "cell_type": "code",
   "execution_count": null,
   "id": "afad2bdc",
   "metadata": {},
   "outputs": [],
   "source": [
    "paths = earthaccess.download(results, parent)"
   ]
  },
  {
   "cell_type": "markdown",
   "id": "1df335c6",
   "metadata": {},
   "source": [
    "While we have the downloaded location stored in the list `paths`, store one in a variable we won't overwrite for future use."
   ]
  },
  {
   "cell_type": "code",
   "execution_count": null,
   "id": "afd03da0",
   "metadata": {},
   "outputs": [],
   "source": [
    "l2gen_ifile = paths[0]"
   ]
  },
  {
   "cell_type": "markdown",
   "id": "c073e373",
   "metadata": {},
   "source": [
    "The Level-1B files contain top-of-atmosphere reflectances, typically denoted as $\\rho_t$.\n",
    "On OCI, the reflectances are grouped into blue, red, and short-wave infrared (SWIR) wavelengths. Open\n",
    "the dataset's \"observatin_data\" group in the netCDF file using `xarray` to plot a \"rhot_red\"\n",
    "wavelength."
   ]
  },
  {
   "cell_type": "code",
   "execution_count": null,
   "id": "154eb78e",
   "metadata": {},
   "outputs": [],
   "source": [
    "dataset = xr.open_dataset(paths[0], group=\"observation_data\")\n",
    "plot = dataset[\"rhot_red\"].sel({\"red_bands\": 100}).plot()"
   ]
  },
  {
   "cell_type": "markdown",
   "id": "32c65d7e",
   "metadata": {},
   "source": [
    "This tutorial will demonstrate processing this Level-1B granule into a Level-2 granule. Because that can\n",
    "take several minutes, we'll also download a couple of Level-2 granules to save time for the next step of compositing multiple Level-2 granules into a single granule."
   ]
  },
  {
   "cell_type": "code",
   "execution_count": null,
   "id": "1c899807",
   "metadata": {},
   "outputs": [],
   "source": [
    "location = [(-56.5, 49.8), (-55.0, 49.8)]"
   ]
  },
  {
   "cell_type": "markdown",
   "id": "9cfe7cf0",
   "metadata": {},
   "source": [
    "Searching on a location defined as a line, rather than a point, is a good way to get granules that are\n",
    "adjacent to eachother. Pass a list of latitude and longitude tuples to the `line` argument of `search_data`."
   ]
  },
  {
   "cell_type": "code",
   "execution_count": null,
   "id": "66266bd4",
   "metadata": {},
   "outputs": [],
   "source": [
    "results = earthaccess.search_data(\n",
    "    short_name=\"PACE_OCI_L2_BGC_NRT\",\n",
    "    temporal=tspan,\n",
    "    line=location,\n",
    ")"
   ]
  },
  {
   "cell_type": "code",
   "execution_count": null,
   "id": "decf1ed4",
   "metadata": {},
   "outputs": [],
   "source": [
    "for item in results:\n",
    "    display(item)"
   ]
  },
  {
   "cell_type": "code",
   "execution_count": null,
   "id": "f87df3fd",
   "metadata": {},
   "outputs": [],
   "source": [
    "paths = earthaccess.download(results, parent)\n",
    "paths"
   ]
  },
  {
   "cell_type": "markdown",
   "id": "14653388",
   "metadata": {},
   "source": [
    "While we have the downloaded location stored in the list `paths`, write it to a text file for future use."
   ]
  },
  {
   "cell_type": "code",
   "execution_count": null,
   "id": "9216891c",
   "metadata": {},
   "outputs": [],
   "source": [
    "with open(\"l2bin_ifile.txt\", \"w\") as file:\n",
    "    file.write(\"\".join(str(paths)))"
   ]
  },
  {
   "cell_type": "markdown",
   "id": "79e254fb",
   "metadata": {},
   "source": [
    "## 3. Process L1B Data with `l2gen` <a name=\"l2gen\"></a>\n"
   ]
  },
  {
   "cell_type": "markdown",
   "id": "204574c4",
   "metadata": {},
   "source": [
    "At Level-1, we neither have geophysical variables nor are the data projected for easy map making. We will need to process the L1B file to Level-2 and then to Level-3 to get both of those. Note that Level-2 data for many geophysical variables are available for download from the OB.DAAC, so you often don't need the first step. However, the Level-3 data distributed by the OB.DAAC are global composites, which may cover more Level-2 scenes than you want. You'll learn more about compositing below. This section shows how to use `l2gen` for processing the L1B data to L2 using customizable parameters. "
   ]
  },
  {
   "cell_type": "markdown",
   "id": "7fe4893c",
   "metadata": {},
   "source": [
    "<div class=\"alert alert-warning\">\n",
    "OCSSW programs are run from the command line in Bash, but we can have a Bash terminal-in-a-cell using the IPython <a href=\"https://ipython.readthedocs.io/en/stable/interactive/magics.html#built-in-magic-commands\" target=_blank>magic</a> command <code>%%bash</code>. In the specific case of OCSSW programs, the Bash environment created for that cell must be set up by loading <code>$OCSSWROOT/OCSSW_bash.env</code>.\n",
    "</div>\n",
    "\n",
    "Every `%%bash` cell that calls an OCSSW program needs to `source` the environment\n",
    "definition file shipped with OCSSW, because its effects are not retained from one cell to the next.\n",
    "We can, however, define the `OCSSWROOT` environment variable in a way that effects every `%%bash` cell."
   ]
  },
  {
   "cell_type": "code",
   "execution_count": null,
   "id": "f3dafb58",
   "metadata": {},
   "outputs": [],
   "source": [
    "os.environ.setdefault(\"OCSSWROOT\", \"/tmp/ocssw\")"
   ]
  },
  {
   "cell_type": "markdown",
   "id": "6ba5ac5b",
   "metadata": {},
   "source": [
    "Then we need a couple lines, which will appear in multiple cells below, to begin a Bash cell initiated with the `OCSSW_bash.env` file.\n",
    "\n",
    "Using this pattern, run the `l2gen` command with the single argument `help` to view the extensive list of options available. You can find more information about `l2gen` and other OCSSW functions on the [seadas website](https://seadas.gsfc.nasa.gov/help-8.3.0/processors/ProcessL2gen.html)"
   ]
  },
  {
   "cell_type": "code",
   "execution_count": null,
   "id": "a5186283",
   "metadata": {},
   "outputs": [],
   "source": [
    "%%bash\n",
    "source $OCSSWROOT/OCSSW_bash.env\n",
    "\n",
    "l2gen help"
   ]
  },
  {
   "cell_type": "markdown",
   "id": "8ab042df",
   "metadata": {},
   "source": [
    "To process a L1B file using `l2gen`, at a minimum, you need to set an infile name (`ifile`) and an outfile name (`ofile`). You can also indicate a data suite; in this example, we will proceed with the biogeochemical (BGC) suite that includes chlorophyll *a* estimates.\n",
    "\n",
    "Parameters can be passed to OCSSW programs through a text file. They can also be passed as arguments, but writing to a text file leaves a clear processing record. Define the parameters in a dictionary, then send it to the `write_par` function\n",
    "defined in the [Setup](#setup) section."
   ]
  },
  {
   "cell_type": "code",
   "execution_count": null,
   "id": "1d1a67fa",
   "metadata": {},
   "outputs": [],
   "source": [
    "par = {\n",
    "    \"ifile\": l2gen_ifile,\n",
    "    \"ofile\": str(l2gen_ifile).replace(\"L1B\", \"L2\"),\n",
    "    \"suite\": \"BGC\",\n",
    "    \"l2prod\": \"chlor_a\",\n",
    "    \"atmocor\": 1,\n",
    "}\n",
    "write_par(\"l2gen.par\", par)"
   ]
  },
  {
   "cell_type": "markdown",
   "id": "34865f08",
   "metadata": {},
   "source": [
    "With the parameter file ready, it's time to call `l2gen` from a `%%bash` cell. "
   ]
  },
  {
   "cell_type": "code",
   "execution_count": null,
   "id": "a4750def",
   "metadata": {},
   "outputs": [],
   "source": [
    "%%bash\n",
    "source $OCSSWROOT/OCSSW_bash.env\n",
    "\n",
    "l2gen par=l2gen.par"
   ]
  },
  {
   "cell_type": "markdown",
   "id": "316c2d5b",
   "metadata": {},
   "source": [
    "If successful, the `l2gen` program created a netCDF file at the `ofile` path. The contents should include the `chlor_a` product from the `BGC` suite of products. Once this process is done, you are ready to visualize your \"custom\" L2 data. Use the `robust=True` option to ignore outlier chl a values."
   ]
  },
  {
   "cell_type": "code",
   "execution_count": null,
   "id": "dc002225",
   "metadata": {},
   "outputs": [],
   "source": [
    "dataset = xr.open_dataset(par[\"ofile\"], group=\"geophysical_data\")\n",
    "plot = dataset[\"chlor_a\"].plot(cmap=\"viridis\", robust=True)"
   ]
  },
  {
   "cell_type": "markdown",
   "id": "add8d165",
   "metadata": {},
   "source": [
    "Feel free to explore `l2gen` options to produce the Level-2 dataset you need! The documentation\n",
    "for `l2gen` is kind of interactive, because so much depends on the data product being processed.\n",
    "For example, try `l2gen ifile=granules/PACE_OCI.20240427T161654.L1B.nc dump_options=true` to get\n",
    "a lot of information about the specifics of what the `l2gen` program generates.\n",
    "\n",
    "The next step for this tutorial is to merge multiple Level-2 granules together."
   ]
  },
  {
   "cell_type": "markdown",
   "id": "e0aa9a2a",
   "metadata": {},
   "source": [
    "[Back to top](#toc)\n",
    "<a name=\"l2bin\"></a>\n",
    "## 4. Composite L2 Data with `l2bin`\n",
    "\n",
    "It can be useful to merge adjacent scenes to create a single, larger image. The OCSSW program that performs merging, also known as \"compositing\" of remote sensing images, is called `l2bin`. Take a look at the program's options."
   ]
  },
  {
   "cell_type": "code",
   "execution_count": null,
   "id": "570ecfa0",
   "metadata": {},
   "outputs": [],
   "source": [
    "%%bash\n",
    "source $OCSSWROOT/OCSSW_bash.env\n",
    "\n",
    "l2bin help"
   ]
  },
  {
   "cell_type": "markdown",
   "id": "8f23fd8c",
   "metadata": {},
   "source": [
    "Write a parameter file with the previously saved list of Level-2 files standing in\n",
    "for the usual \"ifile\" value. We can leave the datetime out of the \"ofile\" name rather than extracing a\n",
    "time period from the granules chosen for binning."
   ]
  },
  {
   "cell_type": "code",
   "execution_count": null,
   "id": "3482a443",
   "metadata": {},
   "outputs": [],
   "source": [
    "ofile = \"granules/PACE_OCI.L3B.nc\"\n",
    "par = {\n",
    "    \"ifile\": \"l2bin_ifile.txt\",\n",
    "    \"ofile\": ofile,\n",
    "    \"prodtype\": \"regional\",\n",
    "    \"resolution\": 9,\n",
    "    \"flaguse\": \"NONE\",\n",
    "    \"rowgroup\": 2000,\n",
    "}\n",
    "write_par(\"l2bin.par\", par)"
   ]
  },
  {
   "cell_type": "markdown",
   "id": "43ba67d9",
   "metadata": {},
   "source": [
    "Now run `l2bin` using your chosen parameters:"
   ]
  },
  {
   "cell_type": "code",
   "execution_count": null,
   "id": "a4d99f96",
   "metadata": {},
   "outputs": [],
   "source": [
    "%%bash\n",
    "source $OCSSWROOT/OCSSW_bash.env\n",
    "\n",
    "l2bin par=l2bin.par"
   ]
  },
  {
   "cell_type": "markdown",
   "id": "f85fa650",
   "metadata": {},
   "source": [
    "[Back to top](#toc)\n",
    "<a name=\"l3mapgen\"></a>\n",
    "## 5. Make a Map from Binned Data with `l3mapgen`"
   ]
  },
  {
   "cell_type": "markdown",
   "id": "7956c6c7",
   "metadata": {},
   "source": [
    "The `l3mapgen` function of OCSSW allows you to create maps with a wide array of options you can see below:"
   ]
  },
  {
   "cell_type": "code",
   "execution_count": null,
   "id": "ade507eb",
   "metadata": {},
   "outputs": [],
   "source": [
    "%%bash\n",
    "source $OCSSWROOT/OCSSW_bash.env\n",
    "\n",
    "l3mapgen help"
   ]
  },
  {
   "cell_type": "markdown",
   "id": "2599f700",
   "metadata": {},
   "source": [
    "Run `l3mapgen` to make a 9km map with a Plate Carree projection."
   ]
  },
  {
   "cell_type": "code",
   "execution_count": null,
   "id": "3acbe9ee",
   "metadata": {},
   "outputs": [],
   "source": [
    "ifile = \"granules/PACE_OCI.L3B.nc\"\n",
    "ofile = ifile.replace(\".L3B.\", \".L3M.\")\n",
    "par = {\n",
    "    \"ifile\": ifile,\n",
    "    \"ofile\": ofile,\n",
    "    \"projection\": \"platecarree\",\n",
    "    \"resolution\": \"9km\",\n",
    "    \"interp\": \"bin\",\n",
    "    \"use_quality\": 0,\n",
    "    \"apply_pal\": 0,\n",
    "}\n",
    "write_par(\"l3mapgen.par\", par)"
   ]
  },
  {
   "cell_type": "code",
   "execution_count": null,
   "id": "a5c58d88",
   "metadata": {},
   "outputs": [],
   "source": [
    "%%bash\n",
    "source $OCSSWROOT/OCSSW_bash.env\n",
    "\n",
    "l3mapgen par=l3mapgen.par"
   ]
  },
  {
   "cell_type": "markdown",
   "id": "72b1a3a8",
   "metadata": {},
   "source": [
    "Open the output with XArray, note that there is no group anymore."
   ]
  },
  {
   "cell_type": "code",
   "execution_count": null,
   "id": "a8d57a08",
   "metadata": {},
   "outputs": [],
   "source": [
    "dataset = xr.open_dataset(par[\"ofile\"])\n",
    "dataset"
   ]
  },
  {
   "cell_type": "markdown",
   "id": "aea89764",
   "metadata": {},
   "source": [
    "Now that we have projected data, we can make a map with coastines and gridlines."
   ]
  },
  {
   "cell_type": "code",
   "execution_count": null,
   "id": "f3d9ea5d",
   "metadata": {},
   "outputs": [],
   "source": [
    "fig = plt.figure()\n",
    "ax = plt.axes(projection=ccrs.PlateCarree())\n",
    "ax.coastlines(linewidth=0.5)\n",
    "ax.gridlines(draw_labels={\"left\": \"y\", \"bottom\": \"x\"}, linewidth=0.3)\n",
    "plot = dataset[\"chlor_a\"].plot(x=\"lon\", y=\"lat\", cmap=\"viridis\", robust=True, ax=ax)"
   ]
  },
  {
   "cell_type": "markdown",
   "id": "0edf3156",
   "metadata": {},
   "source": [
    "<div class=\"alert alert-info\" role=\"alert\">\n",
    "<p>You have completed the notebook on using OCCSW to process PACE data. More notebooks are comming soon!</p>\n",
    "</div>"
   ]
  }
 ],
 "metadata": {
  "language_info": {
   "name": "python"
  }
 },
 "nbformat": 4,
 "nbformat_minor": 5
}
