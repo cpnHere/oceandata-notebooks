{
 "cells": [
  {
   "cell_type": "markdown",
   "id": "16901062",
   "metadata": {},
   "source": [
    "# File Structure at Three Processing Levels for the Ocean Color Instrument (OCI)\n",
    "\n",
    "**Authors:** Anna Windle (NASA, SSAI), Ian Carroll (NASA, UMBC), Carina Poulin (NASA, SSAI)\n",
    "\n",
    "> **PREREQUISITES**\n",
    ">\n",
    "> This notebook has the following prerequisites:\n",
    "> <a href=\"oci_data_access.html\" target=\"_blank\">OCI Data Access</a>\n",
    "\n",
    "## Summary\n",
    "\n",
    "In this example we will use the `earthaccess` package to access an OCI Level-1B, Level-2, and Level-3 NetCDF file and open them using `xarray`.\n",
    "\n",
    "**NetCDF** ([Network Common Data Format][netcdf]) is a binary file format for storing multidimensional scientific data (variables). It is optimized for array-oriented data access and support a machine-independent format for representing scientific data. Files ending in `.nc` are NetCDF files.\n",
    "\n",
    "**XArray** is a [package][xarray] that supports the use of multi-dimensional arrays in Python. It is widely used to handle Earth observation data, which often involves multiple dimensions — for instance, longitude, latitude, time, and channels/bands.\n",
    "\n",
    "## Learning Objectives\n",
    "\n",
    "At the end of this notebok you will know:\n",
    "* How to find groups in a NetCDF file\n",
    "* How to use `xarray` to open OCI data\n",
    "* What key variables are present in the groups within OCI L1B, L2, and L3 files\n",
    "\n",
    "<a name=\"toc\"></a>\n",
    "## Contents\n",
    "\n",
    "1. [Setup](#setup)\n",
    "1. [Inspecting OCI L1B File Structure](#l1b)\n",
    "1. [Inspecting OCI L2 File Structure](#l2)\n",
    "1. [Inspecting OCI L3 File Structure](#l3)\n",
    "\n",
    "<a name=\"setup\"></a>\n",
    "## 1. Setup\n",
    "\n",
    "We begin by importing all of the packages used in this notebook. If you have created an environment following the [guidance][tutorials] provided with this tutorial, then the imports will be successful.\n",
    "\n",
    "[netcdf]: https://www.unidata.ucar.edu/software/netcdf/\n",
    "[xarray]: https://docs.xarray.dev/\n",
    "[tutorials]: https://oceancolor.gsfc.nasa.gov/resources/docs/tutorials"
   ]
  },
  {
   "cell_type": "code",
   "execution_count": null,
   "id": "04d05ff8",
   "metadata": {},
   "outputs": [],
   "source": [
    "import cartopy.crs as ccrs\n",
    "import earthaccess\n",
    "import h5netcdf\n",
    "import matplotlib.pyplot as plt\n",
    "import numpy as np\n",
    "import xarray as xr\n",
    "import pandas as pd"
   ]
  },
  {
   "cell_type": "markdown",
   "id": "99b0e490",
   "metadata": {},
   "source": [
    "Set (and persist to your user profile on the host, if needed) your Earthdata Login credentials."
   ]
  },
  {
   "cell_type": "code",
   "execution_count": null,
   "id": "fa40e859",
   "metadata": {},
   "outputs": [],
   "source": [
    "auth = earthaccess.login(persist=True)"
   ]
  },
  {
   "cell_type": "markdown",
   "id": "12ad0d47",
   "metadata": {},
   "source": [
    "[Back to top](#toc)\n",
    "<a name=\"l1b\"></a>\n",
    "## 2. Inspecting OCI L1B File Structure\n",
    "\n",
    "Let's use `xarray` to open up a OCI L1B NetCDF file using `earthaccess`. We will use the same search method used in <a href=\"oci_data_access.html\">OCI Data Access</a>. Note that L1B files do not include cloud coverage metadata, so we cannot use that filter."
   ]
  },
  {
   "cell_type": "code",
   "execution_count": null,
   "id": "c5c138d4",
   "metadata": {},
   "outputs": [],
   "source": [
    "tspan = (\"2024-05-01\", \"2024-05-16\")\n",
    "bbox = (-76.75, 36.97, -75.74, 39.01)\n",
    "\n",
    "results = earthaccess.search_data(\n",
    "    short_name=\"PACE_OCI_L1B_SCI\",\n",
    "    temporal=tspan,\n",
    "    bounding_box=bbox,\n",
    ")"
   ]
  },
  {
   "cell_type": "code",
   "execution_count": null,
   "id": "1e59dc8c",
   "metadata": {},
   "outputs": [],
   "source": [
    "paths = earthaccess.open(results)"
   ]
  },
  {
   "cell_type": "markdown",
   "id": "1542c5b5",
   "metadata": {},
   "source": [
    "We want to confirm we are running code on a remote host with direct access to the NASA Earthdata Cloud. The next cell has\n",
    "no effect if we are, and otherwise raises an error. If there's an error, consider the substitution explained in the OCI Data Access notebook."
   ]
  },
  {
   "cell_type": "code",
   "execution_count": null,
   "id": "89ccb50c",
   "metadata": {},
   "outputs": [],
   "source": [
    "try:\n",
    "    paths[0].f.bucket\n",
    "except AttributeError:\n",
    "    raise \"The result opened without an S3FileSystem.\""
   ]
  },
  {
   "cell_type": "markdown",
   "id": "bfda5e4b",
   "metadata": {},
   "source": [
    "Let's open the first file of the L1B files list:"
   ]
  },
  {
   "cell_type": "code",
   "execution_count": null,
   "id": "3710ba61",
   "metadata": {},
   "outputs": [],
   "source": [
    "dataset = xr.open_dataset(paths[0])\n",
    "dataset"
   ]
  },
  {
   "cell_type": "markdown",
   "id": "75796149",
   "metadata": {},
   "source": [
    "Notice that this `xarray.Dataset` has nothing but \"Attributes\". We cannot use `xarray` to open multi-group hierarchies or list groups within a NetCDF file, but it can open a specific group if you know its path. The `xarray-datatree` package is going to be merged into `xarray` in the not too distant future, which will allow `xarray` to open the entire hieerarchy. In the meantime, we can use a lower level reader to see the top-level groups."
   ]
  },
  {
   "cell_type": "code",
   "execution_count": null,
   "id": "80490b6c",
   "metadata": {},
   "outputs": [],
   "source": [
    "with h5netcdf.File(paths[0]) as file:\n",
    "    groups = list(file)\n",
    "groups"
   ]
  },
  {
   "cell_type": "markdown",
   "id": "39101f1f",
   "metadata": {},
   "source": [
    "Let's open the \"observation_data\" group, which contains the core science variables."
   ]
  },
  {
   "cell_type": "code",
   "execution_count": null,
   "id": "48c75bfb",
   "metadata": {},
   "outputs": [],
   "source": [
    "dataset = xr.open_dataset(paths[0], group=\"observation_data\")\n",
    "dataset"
   ]
  },
  {
   "cell_type": "markdown",
   "id": "10dc2698",
   "metadata": {},
   "source": [
    "Now you can view the Dimensions, Coordinates, and Variables of this group. To show/hide attributes, press the paper icon on the right hand side of each variable. To show/hide data representation, press the cylinder icon. For instance, you could check the attributes on \"rhot_blue\" to see that this variable is the \"Top of Atmosphere Blue Band Reflectance\".\n",
    "\n",
    "The dimensions of the \"rhot_blue\" variable are (\"blue_bands\", \"number_of_scans\", \"ccd_pixels\"), and it has shape (119, 1709, 1272). The `sizes` attribute of a variable gives us that information as a dictionary."
   ]
  },
  {
   "cell_type": "code",
   "execution_count": null,
   "id": "bd7ea7c6",
   "metadata": {},
   "outputs": [],
   "source": [
    "dataset[\"rhot_blue\"].sizes"
   ]
  },
  {
   "cell_type": "markdown",
   "id": "9ff59c43",
   "metadata": {},
   "source": [
    "Let's plot the reflectance at postion 100 in the \"blue_bands\" dimension."
   ]
  },
  {
   "cell_type": "code",
   "execution_count": null,
   "id": "bb1f5383",
   "metadata": {},
   "outputs": [],
   "source": [
    "plot = dataset[\"rhot_blue\"].sel({\"blue_bands\": 100}).plot()"
   ]
  },
  {
   "cell_type": "markdown",
   "id": "b15ce243",
   "metadata": {},
   "source": [
    "[Back to top](#toc)\n",
    "<a name=\"l2\"></a>\n",
    "## 3. Inspecting OCI L2 File Structure\n",
    "\n",
    "OCI L2 files include retrievals of geophysical variables, such as Apparent Optical Properties (AOP), for each L1 swath. We'll use the same `earthaccess` search for L2 AOP data. Although now we can use `cloud_cover` too."
   ]
  },
  {
   "cell_type": "code",
   "execution_count": null,
   "id": "a63a355b",
   "metadata": {},
   "outputs": [],
   "source": [
    "tspan = (\"2024-05-01\", \"2024-05-16\")\n",
    "bbox = (-76.75, 36.97, -75.74, 39.01)\n",
    "clouds = (0, 50)\n",
    "\n",
    "results = earthaccess.search_data(\n",
    "    short_name=\"PACE_OCI_L2_AOP_NRT\",\n",
    "    temporal=tspan,\n",
    "    bounding_box=bbox,\n",
    "    cloud_cover=clouds,\n",
    ")"
   ]
  },
  {
   "cell_type": "code",
   "execution_count": null,
   "id": "23371108",
   "metadata": {},
   "outputs": [],
   "source": [
    "paths = earthaccess.open(results)"
   ]
  },
  {
   "cell_type": "code",
   "execution_count": null,
   "id": "a7f98385",
   "metadata": {},
   "outputs": [],
   "source": [
    "with h5netcdf.File(paths[0]) as file:\n",
    "    groups = list(file)\n",
    "groups"
   ]
  },
  {
   "cell_type": "markdown",
   "id": "8c93205d",
   "metadata": {},
   "source": [
    "Let's look at the \"geophysical_data\" group, which is a new group generated by the level 2 processing."
   ]
  },
  {
   "cell_type": "code",
   "execution_count": null,
   "id": "b6a80520",
   "metadata": {},
   "outputs": [],
   "source": [
    "dataset = xr.open_dataset(paths[0], group=\"geophysical_data\")\n",
    "rrs = dataset[\"Rrs\"]\n",
    "rrs"
   ]
  },
  {
   "cell_type": "code",
   "execution_count": null,
   "id": "a62cdf5c",
   "metadata": {},
   "outputs": [],
   "source": [
    "rrs.sizes"
   ]
  },
  {
   "cell_type": "markdown",
   "id": "fef2e1ab",
   "metadata": {},
   "source": [
    "The Rrs variable has length 184 in the wavelength dimension, so the blue, red, and SWIR wavelengths have been combined. Let's map the Rrs at \"wavelength_3d\" position 100."
   ]
  },
  {
   "cell_type": "code",
   "execution_count": null,
   "id": "2349baaa",
   "metadata": {},
   "outputs": [],
   "source": [
    "plot = rrs.sel({\"wavelength_3d\": 100}).plot(cmap=\"viridis\")"
   ]
  },
  {
   "cell_type": "markdown",
   "id": "f4936fc2",
   "metadata": {},
   "source": [
    "Right now, the scene is being plotted using `number_of_lines` and `pixels_per_line` as \"x\" and \"y\", respectively. We need to add latitude and longitude values to create a true map. To do this, we will create a merged `xarray.Dataset` that pulls in information from the \"navigation_data\" group."
   ]
  },
  {
   "cell_type": "code",
   "execution_count": null,
   "id": "8b4665d5",
   "metadata": {},
   "outputs": [],
   "source": [
    "dataset = xr.open_dataset(paths[0], group=\"navigation_data\")\n",
    "dataset = dataset.set_coords((\"longitude\", \"latitude\"))\n",
    "dataset = dataset.rename({\"pixel_control_points\": \"pixels_per_line\"})\n",
    "dataset = xr.merge((rrs, dataset.coords))\n",
    "dataset"
   ]
  },
  {
   "cell_type": "markdown",
   "id": "d60c8916",
   "metadata": {},
   "source": [
    "Although we now have coordinates, they won't immediately help because the data are not gridded by latitude and longitude.\n",
    "The Level 2 data cover the original instrument swath and have not been resampled to a regular grid. Therefore latitude\n",
    "and longitude are known, but cannot be used immediately to \"look-up\" values like you can along an array's dimensions.\n",
    "\n",
    "Let's make a scatter plot of the pixel locations so we can see the irregular spacing. By selecting a `slice` with a step size larger than one, we get a subset of the locations for better visualization."
   ]
  },
  {
   "cell_type": "code",
   "execution_count": null,
   "id": "7c992ad5",
   "metadata": {},
   "outputs": [],
   "source": [
    "plot = dataset.sel(\n",
    "    {\n",
    "        \"number_of_lines\": slice(None, None, 1720 // 20),\n",
    "        \"pixels_per_line\": slice(None, None, 1272 // 20),\n",
    "    },\n",
    ").plot.scatter(x=\"longitude\", y=\"latitude\")"
   ]
  },
  {
   "cell_type": "markdown",
   "id": "d24afc40",
   "metadata": {},
   "source": [
    "Let's plot this new `xarray.Dataset` the same way as before, but add latitude and longitude."
   ]
  },
  {
   "cell_type": "code",
   "execution_count": null,
   "id": "80b6f592",
   "metadata": {},
   "outputs": [],
   "source": [
    "rrs = dataset[\"Rrs\"].sel({\"wavelength_3d\": 100})\n",
    "plot = rrs.plot(x=\"longitude\", y=\"latitude\", cmap=\"viridis\", vmin=0)"
   ]
  },
  {
   "cell_type": "markdown",
   "id": "51f3a235",
   "metadata": {},
   "source": [
    "Now you can project the data onto a grid. If you wanna get fancy, add a coastline."
   ]
  },
  {
   "cell_type": "code",
   "execution_count": null,
   "id": "c1b506af",
   "metadata": {},
   "outputs": [],
   "source": [
    "fig = plt.figure()\n",
    "ax = plt.axes(projection=ccrs.PlateCarree())\n",
    "ax.coastlines()\n",
    "ax.gridlines(draw_labels={\"left\": \"y\", \"bottom\": \"x\"})\n",
    "plot = rrs.plot(x=\"longitude\", y=\"latitude\", cmap=\"viridis\", vmin=0, ax=ax)"
   ]
  },
  {
   "cell_type": "markdown",
   "id": "4675cc85",
   "metadata": {},
   "source": [
    "Let's plot the full \"Rrs\" spectrum for individual pixels. A visualization with all the pixels\n",
    "wouldn't be useful, but limiting to a bounding box gives a simple way to subset pixels. Note that,\n",
    "since we still don't have gridded data (i.e. our latitude and longitude coordinates are two-dimensional),\n",
    "we can't `slice` on a built-in index. Without getting into anything complex, we can just box it out."
   ]
  },
  {
   "cell_type": "code",
   "execution_count": null,
   "id": "dde0ff85",
   "metadata": {},
   "outputs": [],
   "source": [
    "rrs_box = dataset[\"Rrs\"].where(\n",
    "    (\n",
    "        (dataset[\"latitude\"] > 37.52)\n",
    "        & (dataset[\"latitude\"] < 37.55)\n",
    "        & (dataset[\"longitude\"] > -75.46)\n",
    "        & (dataset[\"longitude\"] < -75.43)\n",
    "    ),\n",
    "    drop=True,\n",
    ")\n",
    "rrs_box.sizes"
   ]
  },
  {
   "cell_type": "markdown",
   "id": "60adf2a0",
   "metadata": {},
   "source": [
    "The line plotting method will only draw a line plot for 1D data, which we can get by stacking\n",
    "our two spatial dimensions and choosing to show the new \"pixel dimension\" as different colors."
   ]
  },
  {
   "cell_type": "code",
   "execution_count": null,
   "id": "10e0b863",
   "metadata": {},
   "outputs": [],
   "source": [
    "rrs_stack = rrs_box.stack(\n",
    "    {\"pixel\": [\"number_of_lines\", \"pixels_per_line\"]},\n",
    "    create_index=False,\n",
    ")\n",
    "plot = rrs_stack.plot.line(hue=\"pixel\")"
   ]
  },
  {
   "cell_type": "markdown",
   "id": "4b17bd27",
   "metadata": {},
   "source": [
    "We will go over how to plot Rrs spectra with accurate wavelength values on the x-axis in an upcoming notebook."
   ]
  },
  {
   "cell_type": "markdown",
   "id": "860a7868",
   "metadata": {},
   "source": [
    "[Back to top](#toc)\n",
    "<a name=\"l3\"></a>\n",
    "## 4. Inspecting OCI L3 File Structure\n",
    "\n",
    "At Level-3 there are binned (B) and mapped (M) products available for OCI. The L3M remote sensing reflectance (Rrs) files contain global maps of Rrs. We'll use the same `earthaccess` method to find the data."
   ]
  },
  {
   "cell_type": "code",
   "execution_count": null,
   "id": "99194f6a",
   "metadata": {},
   "outputs": [],
   "source": [
    "tspan = (\"2024-05-01\", \"2024-05-16\")\n",
    "bbox = (-76.75, 36.97, -75.74, 39.01)\n",
    "\n",
    "results = earthaccess.search_data(\n",
    "    short_name=\"PACE_OCI_L3M_RRS_NRT\",\n",
    "    temporal=tspan,\n",
    "    bounding_box=bbox,\n",
    ")"
   ]
  },
  {
   "cell_type": "code",
   "execution_count": null,
   "id": "36d9ff53",
   "metadata": {},
   "outputs": [],
   "source": [
    "paths = earthaccess.open(results)"
   ]
  },
  {
   "cell_type": "markdown",
   "id": "2222a837",
   "metadata": {},
   "source": [
    "OCI L3 data do not have any groups, so we can open the dataset without the `group` argument.\n",
    "Let's take a look at the first file."
   ]
  },
  {
   "cell_type": "code",
   "execution_count": null,
   "id": "89659693",
   "metadata": {},
   "outputs": [],
   "source": [
    "dataset = xr.open_dataset(paths[0])\n",
    "dataset"
   ]
  },
  {
   "cell_type": "markdown",
   "id": "5e7e43bd",
   "metadata": {},
   "source": [
    "Notice that OCI L3M data has `lat` and `lon` coordinates, so it's easy to slice out a bounding box and map the \"Rrs_442\" variable."
   ]
  },
  {
   "cell_type": "code",
   "execution_count": null,
   "id": "d2346f84",
   "metadata": {},
   "outputs": [],
   "source": [
    "fig = plt.figure()\n",
    "ax = plt.axes(projection=ccrs.PlateCarree())\n",
    "ax.coastlines()\n",
    "ax.gridlines(draw_labels={\"left\": \"y\", \"bottom\": \"x\"})\n",
    "\n",
    "rrs_442 = dataset[\"Rrs_442\"].sel({\"lat\": slice(-25, -45), \"lon\": slice(10, 30)})\n",
    "plot = rrs_442.plot(cmap=\"viridis\", vmin=0, ax=ax)"
   ]
  },
  {
   "cell_type": "markdown",
   "id": "ec090058",
   "metadata": {},
   "source": [
    "Also becuase the L3M variables have `lat` and `lon` coordinates, it's possible to stack multiple granules along a\n",
    "new dimension that corresponds to time.\n",
    "Instead of `xr.open_dataset`, we use `xr.open_mfdataset` to create a single `xarray.Dataset` (the \"mf\" in `open_mfdataset` stands for multiple files) from an array of paths.\n",
    "\n",
    "We also use a new search filter available in `earthaccess.search_data`: the `granule_name` argument accepts strings with the \"*\" wildcard. We need this to distinguish daily (\"DAY\") from eight-day (\"8D\") composites, as well as to get the 0.1 degree resolution projections."
   ]
  },
  {
   "cell_type": "code",
   "execution_count": null,
   "id": "e046a7c3",
   "metadata": {},
   "outputs": [],
   "source": [
    "tspan = (\"2024-05-01\", \"2024-05-8\")\n",
    "\n",
    "results = earthaccess.search_data(\n",
    "    short_name=\"PACE_OCI_L3M_CHL_NRT\",\n",
    "    temporal=tspan,\n",
    "    granule_name=\"*.DAY.*.0p1deg.*\",\n",
    ")"
   ]
  },
  {
   "cell_type": "code",
   "execution_count": null,
   "id": "dbe179a3",
   "metadata": {},
   "outputs": [],
   "source": [
    "paths = earthaccess.open(results)"
   ]
  },
  {
   "cell_type": "markdown",
   "id": "abd43415",
   "metadata": {},
   "source": [
    "The `paths` list is sorted temporally by default, which means the shape of the `paths` array specifies the way we need to tile the files together into larger arrays. We specify `combine=\"nested\"` to combine the files according to the shape of the array of files (or file-like objects), even though `paths` is not a \"nested\" list in this case. The `concat_dim=\"date\"` argument generates a new dimension in the combined dataset, because \"date\" is not an existing dimension in the individual files."
   ]
  },
  {
   "cell_type": "code",
   "execution_count": null,
   "id": "a757d1de",
   "metadata": {},
   "outputs": [],
   "source": [
    "dataset = xr.open_mfdataset(\n",
    "    paths,\n",
    "    combine=\"nested\",\n",
    "    concat_dim=\"date\",\n",
    ")"
   ]
  },
  {
   "cell_type": "markdown",
   "id": "616e8c09",
   "metadata": {},
   "source": [
    "Add a date dimension using the dates from the netCDF files."
   ]
  },
  {
   "cell_type": "code",
   "execution_count": null,
   "id": "c83cbfb8",
   "metadata": {},
   "outputs": [],
   "source": [
    "dates = [ xr.open_dataset(a).attrs[\"time_coverage_end\"] for a in paths]\n",
    "dt = pd.to_datetime(dates)\n",
    "dataset = dataset.assign_coords(date=dt.values)\n",
    "dataset"
   ]
  },
  {
   "cell_type": "markdown",
   "id": "f0546d5b",
   "metadata": {},
   "source": [
    "A common reason to generate a single dataset from multiple, daily images is to create a composite. Compare the map from a single day ..."
   ]
  },
  {
   "cell_type": "code",
   "execution_count": null,
   "id": "29fd6225",
   "metadata": {},
   "outputs": [],
   "source": [
    "chla = np.log10(dataset[\"chlor_a\"])\n",
    "chla.attrs.update(\n",
    "    {\n",
    "        \"units\": f'lg({dataset[\"chlor_a\"].attrs[\"units\"]})',\n",
    "    }\n",
    ")\n",
    "plot = chla.sel(date = \"2024-05-02\").plot(aspect=2, size=4, cmap=\"GnBu_r\")"
   ]
  },
  {
   "cell_type": "markdown",
   "id": "c6c0076b",
   "metadata": {},
   "source": [
    "... to a map of average values, skipping \"NaN\" values that result from clouds and the OCI's tilt maneuver."
   ]
  },
  {
   "cell_type": "code",
   "execution_count": null,
   "id": "8b3e4880",
   "metadata": {},
   "outputs": [],
   "source": [
    "chla_avg = chla.mean(\"date\")\n",
    "chla_avg.attrs.update(\n",
    "    {\n",
    "        \"long_name\": chla.attrs[\"long_name\"],\n",
    "        \"units\": chla.attrs[\"units\"],\n",
    "    }\n",
    ")\n",
    "plot = chla_avg.plot(aspect=2, size=4, cmap=\"GnBu_r\")"
   ]
  },
  {
   "cell_type": "markdown",
   "id": "4a312ada",
   "metadata": {},
   "source": [
    "We can also create a time series of mean values over the whole region."
   ]
  },
  {
   "cell_type": "code",
   "execution_count": null,
   "id": "e7b50e22",
   "metadata": {},
   "outputs": [],
   "source": [
    "chla_avg = chla.mean(dim=[\"lon\", \"lat\"], keep_attrs=True)\n",
    "plot = chla_avg.plot(linestyle='-', marker='o', color='b')"
   ]
  },
  {
   "cell_type": "markdown",
   "id": "d7f517e1",
   "metadata": {},
   "source": [
    "<div class=\"alert alert-info\" role=\"alert\">\n",
    "<p>You have completed the notebook on OCI file structure.</p>\n",
    "</div>"
   ]
  },
  {
   "cell_type": "code",
   "execution_count": null,
   "id": "cc4238d6",
   "metadata": {},
   "outputs": [],
   "source": []
  }
 ],
 "metadata": {
  "language_info": {
   "name": "python"
  }
 },
 "nbformat": 4,
 "nbformat_minor": 5
}
