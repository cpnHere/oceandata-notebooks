{
 "cells": [
  {
   "cell_type": "markdown",
   "id": "d1d7ee16",
   "metadata": {},
   "source": [
    "# Explore Level-2 Ocean Color data from the Moderate Resolution Imaging Spectroradiometer (MODIS) on the Aqua Satellite\n",
    "**Authors:** Guoqing Wang (NASA, GSFC); Ian Carroll (NASA, UMBC), Eli Holmes (NOAA), Anna Windle (NASA, GSFC)\n",
    "\n",
    "> **PREREQUISITES**\n",
    ">\n",
    "> This notebook has the following prerequisites:\n",
    "> - An **<a href=\"https://urs.earthdata.nasa.gov/\" target=\"_blank\">Earthdata Login</a>**\n",
    ">   account is required to access data from the NASA Earthdata system, including NASA ocean color data.\n",
    "> - There are no prerequisite notebooks for this module.\n",
    "\n",
    "## Summary\n",
    "\n",
    "This tutorial demonstrates accessing and analyzing NASA ocean color data using Python from the NASA Ocean Biology Distributed Active Archive Center (OB.DAAC) archives. Currently, there are several ways to find and access ocean color data:\n",
    "1. [NASA's Earthdata Search](https://search.earthdata.nasa.gov/search)\n",
    "2. [NASA's CMR API](https://cmr.earthdata.nasa.gov/search/site/docs/search/api.html)\n",
    "3. [OB.DAAC OPENDAP](https://oceandata.sci.gsfc.nasa.gov/opendap/)\n",
    "4. [OB.DAAC File Search](https://oceandata.sci.gsfc.nasa.gov/api/file_search_help)\n",
    "\n",
    "In this tutorial, we will focus on using `earthaccess` Python module to access MODIS Aqua ocean color data through NASA's Common Metadata Repository (CMR), a metadata system that catalogs Earth Science data and associated metadata records. The level 2 dataset of MODIS Aqua is one of the most popular datasets of OB.DAAC. Here we will use MODIS Aqua L2 Chlorophyll *a* data of the Chesapeake Bay as an example.\n",
    "The standard NASA ocean color Chlorophyll *a* algorithm is described in the [Algorithm Theoretical Basis Document (ATBD)](https://www.earthdata.nasa.gov/apt/documents/chlor-a/v1.0).\n",
    "\n",
    "## Learning Objectives\n",
    "\n",
    "At the end of this notebok you will know:\n",
    "* How to find OB.DAAC ocean color data\n",
    "* How to download files using `earthaccess`\n",
    "* How to create a plot using `xarray`\n",
    "<a name=\"toc\"></a>\n",
    "## Contents\n",
    "\n",
    "1. [Setup](#setup)\n",
    "1. [NASA Earthdata Authentication](#auth)\n",
    "1. [Search for Data](#search)\n",
    "1. [Download Data](#download)\n",
    "1. [Plot Data](#plot)\n",
    "<a name=\"setup\"></a>\n",
    "## 1. Setup\n",
    "\n",
    "We begin by importing all of the packages used in this notebook. If you have created an environment following the [guidance][tutorials] provided with this tutorial, then the imports will be successful.\n",
    "\n",
    "[tutorials]: https://oceancolor.gsfc.nasa.gov/resources/docs/tutorials"
   ]
  },
  {
   "cell_type": "code",
   "execution_count": null,
   "id": "21160ad0",
   "metadata": {},
   "outputs": [],
   "source": [
    "from cartopy.mpl.ticker import LongitudeFormatter, LatitudeFormatter\n",
    "from IPython.display import JSON\n",
    "import cartopy\n",
    "import earthaccess\n",
    "import matplotlib.pyplot as plt\n",
    "import numpy as np\n",
    "import xarray as xr"
   ]
  },
  {
   "cell_type": "markdown",
   "id": "20125ab1",
   "metadata": {},
   "source": [
    "[Back to top](#toc)\n",
    "<a name=\"auth\"></a>\n",
    "## 2. NASA Earthdata Authentication\n",
    "\n",
    "Next, we authenticate using our Earthdata Login\n",
    "credentials. Authentication is not needed to search publicaly\n",
    "available collections in Earthdata, but is always needed to access\n",
    "data. We can use the `login` method from the `earthaccess`\n",
    "package. This will create an authenticated session when we provide a\n",
    "valid Earthdata Login username and password. The `earthaccess`\n",
    "package will search for credentials defined by **environmental\n",
    "variables** or within a **.netrc** file saved in the home\n",
    "directory. If credentials are not found, an interactive prompt will\n",
    "allow you to input credentials.\n",
    "\n",
    "<div class=\"alert alert-info\" role=\"alert\">\n",
    "The <code>persist=True</code> argument ensures any discovered credentials are\n",
    "stored in a <code>.netrc</code> file, so the argument is not necessary (but\n",
    "it's also harmless) for subsequent calls to <code>earthaccess.login</code>.\n",
    "</div>"
   ]
  },
  {
   "cell_type": "code",
   "execution_count": null,
   "id": "9071a4fc",
   "metadata": {},
   "outputs": [],
   "source": [
    "auth = earthaccess.login(persist=True)"
   ]
  },
  {
   "cell_type": "markdown",
   "id": "40cb88ba",
   "metadata": {},
   "source": [
    "[Back to top](#toc)\n",
    "<a name=\"search\"></a>\n",
    "## 3. Search for Data\n",
    "\n",
    "The MODIS instrument, on board the Aqua satellite, collects ocean color data, processed from Level-1 through Level-4 and distributed by the OB.DAAC. In this example, we will use the standard Chlorophyll a data from Level-2 ocean color files. To find data we will use the `earthaccess` Python library to search on NASA's CMR API.\n",
    "\n",
    "NASA data collections, i.e. a series of related granules, are discoverable with `earthaccess.search_datasets`. Various search parameters can be used to search collections and granules using metadata attributes. See more details [here](https://github.com/nsidc/earthaccess/blob/main/notebooks/Demo.ipynb). Below, CMR Catalog are queried to find collections with **\"L2 ocean color\"** keyword in them, with the **MODIS** instrument. The returned response can be used to retrieve the `ShortName` and `concept-id` for each dataset."
   ]
  },
  {
   "cell_type": "code",
   "execution_count": null,
   "id": "e4569c6f",
   "metadata": {},
   "outputs": [],
   "source": [
    "results = earthaccess.search_datasets(\n",
    "    keyword=\"L2 ocean color\",\n",
    "    instrument=\"MODIS\",\n",
    ")"
   ]
  },
  {
   "cell_type": "markdown",
   "id": "ebc89fce",
   "metadata": {},
   "source": [
    "Each result has a `summary` method with information such as the collection's short-name."
   ]
  },
  {
   "cell_type": "code",
   "execution_count": null,
   "id": "d2590ff8",
   "metadata": {},
   "outputs": [],
   "source": [
    "set((i.summary()[\"short-name\"] for i in results))"
   ]
  },
  {
   "cell_type": "markdown",
   "id": "58827dfd",
   "metadata": {},
   "source": [
    "We are interested in the `MODISA_L2_OC` dataset."
   ]
  },
  {
   "cell_type": "markdown",
   "id": "503a0b3f",
   "metadata": {},
   "source": [
    "We can use spatial and temporal arguments to search for granules covering Chesapeake Bay during the time frame of Oct 15 - 23, 2020. We can also add the cloud_cover parameter to filter out granules with too much cloud coverage.\n",
    "cloud_cover = (0, 50) # max 50% of cloud coverage"
   ]
  },
  {
   "cell_type": "code",
   "execution_count": null,
   "id": "f4e5004e-f1c3-4686-b942-73f53b9d7a9b",
   "metadata": {},
   "outputs": [],
   "source": [
    "tspan = (\"2020-10-15\", \"2020-10-23\")\n",
    "bbox = (-76.75, 36.97, -75.74, 39.01)\n",
    "cc = (0, 50)"
   ]
  },
  {
   "cell_type": "code",
   "execution_count": null,
   "id": "ee434f87-6d5f-47c2-b228-622c8aee5ae6",
   "metadata": {},
   "outputs": [],
   "source": [
    "results = earthaccess.search_data(\n",
    "    short_name=\"MODISA_L2_OC\",\n",
    "    temporal=tspan,\n",
    "    bounding_box=bbox,\n",
    "    cloud_cover=cc,\n",
    ")"
   ]
  },
  {
   "cell_type": "markdown",
   "id": "100963d0-4d8b-4cd9-b9cb-171c1a47bf20",
   "metadata": {},
   "source": [
    "Now we can print some info about these granules using the built-in methods. We can see how each result prefers to display itself."
   ]
  },
  {
   "cell_type": "code",
   "execution_count": null,
   "id": "efb487e4",
   "metadata": {},
   "outputs": [],
   "source": [
    "results[0]"
   ]
  },
  {
   "cell_type": "markdown",
   "id": "41070e0f-a559-448a-bd57-693d08e6cc44",
   "metadata": {},
   "source": [
    "Or we could use the `data_links` and `size` methods provided on each result."
   ]
  },
  {
   "cell_type": "code",
   "execution_count": null,
   "id": "64c252d4",
   "metadata": {},
   "outputs": [],
   "source": [
    "data_links = [{\"links\": i.data_links(), \"size (MB):\": i.size()} for i in results]\n",
    "JSON(data_links, expanded=True)"
   ]
  },
  {
   "cell_type": "markdown",
   "id": "2116cb07-2cba-4364-9ceb-b6e4ca0fd599",
   "metadata": {},
   "source": [
    "Or we can interactively inspect all the fields underlying a result."
   ]
  },
  {
   "cell_type": "code",
   "execution_count": null,
   "id": "981ff595",
   "metadata": {},
   "outputs": [],
   "source": [
    "JSON(results)"
   ]
  },
  {
   "cell_type": "markdown",
   "id": "ef8992f4",
   "metadata": {},
   "source": [
    "[Back to top](#top)\n",
    "<a name=\"download\"></a>\n",
    "## 4. Download Data\n",
    "\n",
    "Since the data are not hosted in the Earthdata Cloud (see output from `results[0]` above), we need to download files. This will download the data in a folder called \"data\" in your working directory."
   ]
  },
  {
   "cell_type": "code",
   "execution_count": null,
   "id": "6686fc9b",
   "metadata": {},
   "outputs": [],
   "source": [
    "paths = earthaccess.download(results, \"data\")"
   ]
  },
  {
   "cell_type": "markdown",
   "id": "f1a52b27",
   "metadata": {},
   "source": [
    "[Back to top](#toc)\n",
    "<a name=\"plot\"></a>\n",
    "## 5. Plot Data\n"
   ]
  },
  {
   "cell_type": "markdown",
   "id": "d5587cf9-9314-4f32-8f58-4151176a36f8",
   "metadata": {},
   "source": [
    "Step-by-step, we'll build a nice map showing the log-transformed chlorophyll a estimate for the first granule we\n",
    "downloaded. The first step is to open some of the \"groups\" present within the NetCDF files to begin preparing\n",
    "a variable to plot."
   ]
  },
  {
   "cell_type": "code",
   "execution_count": null,
   "id": "d980d330-d246-4f9c-aad7-da875100648f",
   "metadata": {},
   "outputs": [],
   "source": [
    "prod = xr.open_dataset(paths[0])\n",
    "product_name = prod.attrs[\"product_name\"]\n",
    "obs = xr.open_dataset(paths[0], group=\"geophysical_data\")\n",
    "nav = xr.open_dataset(paths[0], group=\"navigation_data\")"
   ]
  },
  {
   "cell_type": "markdown",
   "id": "64564311-705b-4e5e-afe5-7c4dc7e174cc",
   "metadata": {},
   "source": [
    "The \"navigation_data\" group has geospatial coordinates that we merge into the \"geophysical_data\" group, which has the\n",
    "\"chlor_a\" product."
   ]
  },
  {
   "cell_type": "code",
   "execution_count": null,
   "id": "84184b9d-065a-48c1-adb0-369fbc4d09e8",
   "metadata": {},
   "outputs": [],
   "source": [
    "nav = nav.set_coords((\"longitude\", \"latitude\"))\n",
    "nav = nav.rename({\"pixel_control_points\": \"pixels_per_line\"})\n",
    "dataset = xr.merge((obs, nav.coords))"
   ]
  },
  {
   "cell_type": "markdown",
   "id": "eb2bad53-dbe1-4800-bbc3-f5f3e7002e69",
   "metadata": {},
   "source": [
    "Now, we can pull out and fine-tune the \"chlor_a\" variable for visualization."
   ]
  },
  {
   "cell_type": "code",
   "execution_count": null,
   "id": "a1a28c07-1185-43b0-a2d5-4485fec05603",
   "metadata": {},
   "outputs": [],
   "source": [
    "array = np.log10(dataset[\"chlor_a\"])\n",
    "array.attrs.update(\n",
    "    {\n",
    "        \"units\": f'log10({dataset[\"chlor_a\"].attrs[\"units\"]})',\n",
    "    }\n",
    ")"
   ]
  },
  {
   "cell_type": "markdown",
   "id": "f91423bd-62c7-4c34-b70e-ff1f29224eea",
   "metadata": {},
   "source": [
    "The `plot` method from XArray's plotting api is an easy way to take an `xr.Dataset` or `xr.DataArray` to\n",
    "a `matplotlib` figure."
   ]
  },
  {
   "cell_type": "code",
   "execution_count": null,
   "id": "71af3c9b",
   "metadata": {},
   "outputs": [],
   "source": [
    "plot = array.plot(\n",
    "    x=\"longitude\", y=\"latitude\", aspect=2, size=4, cmap=\"jet\", robust=True\n",
    ")"
   ]
  },
  {
   "cell_type": "markdown",
   "id": "d69a8e41",
   "metadata": {},
   "source": [
    "We can enrich the visualiation using `matplotlib` and `cartopy`. The coordinates are latitude and longitude, so if we add the \"Plate Carree\" coordinate reference system (CRS) to our axes, we will get an improved map."
   ]
  },
  {
   "cell_type": "code",
   "execution_count": null,
   "id": "786b12ac-3220-4408-9e24-cf63301f0e83",
   "metadata": {},
   "outputs": [],
   "source": [
    "fig, ax = plt.subplots(\n",
    "    figsize=(10, 7), subplot_kw={\"projection\": cartopy.crs.PlateCarree()}\n",
    ")\n",
    "array.plot(x=\"longitude\", y=\"latitude\", cmap=\"jet\", robust=True, ax=ax)\n",
    "ax.gridlines(draw_labels={\"bottom\": \"x\", \"left\": \"y\"})\n",
    "ax.add_feature(cartopy.feature.STATES, linewidth=0.5)\n",
    "ax.set_title(product_name, loc=\"center\")\n",
    "plt.show()"
   ]
  },
  {
   "cell_type": "markdown",
   "id": "0e79ebcc",
   "metadata": {},
   "source": [
    "<div class=\"alert alert-info\" role=\"alert\">\n",
    "<p>You have completed the notebook on Aqua/MODIS L2 data exploration.</p>\n",
    "</div>"
   ]
  }
 ],
 "metadata": {
  "language_info": {
   "name": "python"
  }
 },
 "nbformat": 4,
 "nbformat_minor": 5
}
