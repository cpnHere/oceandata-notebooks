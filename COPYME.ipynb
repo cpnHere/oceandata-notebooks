{
 "cells": [
  {
   "cell_type": "markdown",
   "id": "4aceda82",
   "metadata": {},
   "source": [
    "# Title of the Tutorial\n",
    "\n",
    "**Authors:** First Last (NASA, ...), First Last (NASA, ...)\n",
    "\n",
    "<div class=\"alert alert-success\" role=\"alert\">\n",
    "\n",
    "The following notebooks are **prerequisites** for this tutorial.\n",
    "\n",
    "- Learn with OCI: [Data Access][oci-data-access]\n",
    "\n",
    "</div>\n",
    "\n",
    "<div class=\"alert alert-info\" role=\"alert\">\n",
    "\n",
    "An [Earthdata Login][edl] account is required to access data from the NASA Earthdata system, including NASA ocean color data.\n",
    "\n",
    "</div>\n",
    "\n",
    "[edl]: https://urs.earthdata.nasa.gov/\n",
    "[oci-data-access]: https://oceancolor.gsfc.nasa.gov/resources/docs/tutorials/notebooks/oci_data_access/\n",
    "\n",
    "## Summary\n",
    "\n",
    "Succinct description of the tutorial ...\n",
    "\n",
    "## Learning Objectives\n",
    "\n",
    "At the end of this notebook you will know:\n",
    "\n",
    "- How to ...\n",
    "- What ...\n",
    "\n",
    "## Contents\n",
    "\n",
    "1. [Setup](#setup)\n",
    "1. [Section Title](#section-name)\n",
    "1. [Style Notes](#other-name)\n",
    "\n",
    "<a name=\"setup\"></a>"
   ]
  },
  {
   "cell_type": "markdown",
   "id": "63db9a7f",
   "metadata": {},
   "source": [
    "## 1. Setup\n",
    "\n",
    "Begin by importing all of the packages used in this notebook. If your kernel uses an environment defined following the guidance on the [tutorials] page, then the imports will be successful.\n",
    "\n",
    "[tutorials]: https://oceancolor.gsfc.nasa.gov/resources/docs/tutorials/"
   ]
  },
  {
   "cell_type": "code",
   "execution_count": null,
   "id": "e4152ba8",
   "metadata": {},
   "outputs": [],
   "source": [
    "import os\n",
    "from pathlib import Path\n",
    "\n",
    "import earthaccess"
   ]
  },
  {
   "cell_type": "markdown",
   "id": "deedaab0",
   "metadata": {},
   "source": [
    "Consider describing anything about the above imports, especially if a package must be installed [conda forge][conda] rather than from [PyPI][pypi].\n",
    "\n",
    "Also define any functions or classes used in the notebook.\n",
    "\n",
    "[conda]: https://anaconda.org/conda-forge/earthaccess\n",
    "[pypi]: https://pypi.org/project/earthaccess/\n",
    "\n",
    "[back to top](#contents) <a name=\"section-name\"></a>"
   ]
  },
  {
   "cell_type": "markdown",
   "id": "6baa9b80",
   "metadata": {},
   "source": [
    "## 2. Section Title\n",
    "\n",
    "When using alerts, like the one below, those blank lines are needed.\n",
    "\n",
    "<div class=\"alert alert-info\" role=\"alert\">\n",
    "    \n",
    "The `persist=True` argument ensures any discovered credentials are\n",
    "stored in a `.netrc` file, so the argument is not necessary (but\n",
    "it's also harmless) for subsequent calls to `earthaccess.login`.\n",
    "\n",
    "</div>"
   ]
  },
  {
   "cell_type": "code",
   "execution_count": null,
   "id": "1b23b553",
   "metadata": {},
   "outputs": [],
   "source": [
    "auth = earthaccess.login(persist=True)"
   ]
  },
  {
   "cell_type": "markdown",
   "id": "8813b478",
   "metadata": {},
   "source": [
    "[back to top](#contents) <a name=\"other-name\"></a>"
   ]
  },
  {
   "cell_type": "markdown",
   "id": "05deb6eb",
   "metadata": {},
   "source": [
    "## 3. Style Notes\n",
    "\n",
    "Some recomendations for consistency between notebooks, and a good user experience:\n",
    "\n",
    "- avoid code cells much longer than twenty lines\n",
    "- avoid code cells with blank lines (except where preferred by PEP 8)\n",
    "- prefer a whole markdown cell, with full descriptions, over inline code comments\n",
    "- avoid splitting markdown cells that are adjacent\n",
    "- remove any empty cell at the end of the notebook\n",
    "- enable output scrolling for long outputs\n",
    "\n",
    "Here are the two additional \"alert\" boxes used in some notebooks to help you choose between \"success\", \"danger\", \"warning\", and \"info\".\n",
    "\n",
    "<div class=\"alert alert-warning\" role=\"alert\">\n",
    "\n",
    "Anywhere in any of [these notebooks][tutorials] where `paths = earthaccess.open(...)` is used to read data directly from the NASA Earthdata Cloud, you need to substitute `paths = earthaccess.download(..., local_path)` before running the notebook on a local host or a remote host that does not have direct access to the NASA Earthdata Cloud.\n",
    "\n",
    "</div>\n",
    "\n",
    "<div class=\"alert alert-danger\" role=\"alert\">\n",
    "    \n",
    "Conda uses a lot of memory while configuring your environment. Choose an option with more than about 5GB of RAM from the JupyterHub Control Panel, or your install will fail.\n",
    "\n",
    "</div>"
   ]
  },
  {
   "cell_type": "code",
   "execution_count": null,
   "id": "241d40b2",
   "metadata": {
    "scrolled": true
   },
   "outputs": [],
   "source": [
    "for i in range(42):\n",
    "    print(i)"
   ]
  },
  {
   "cell_type": "markdown",
   "id": "0ca8cce9",
   "metadata": {},
   "source": [
    "[back to top](#contents)\n",
    "\n",
    "<div class=\"alert alert-info\" role=\"alert\">\n",
    "\n",
    "You have completed the notebook on downloading and opening datasets. We now suggest starting the notebook on ...\n",
    "\n",
    "</div>"
   ]
  }
 ],
 "metadata": {
  "jupytext": {
   "cell_metadata_filter": "-all,scrolled",
   "notebook_metadata_filter": "-all"
  },
  "kernelspec": {
   "display_name": "Python 3 (ipykernel)",
   "language": "python",
   "name": "python3"
  },
  "language_info": {
   "codemirror_mode": {
    "name": "ipython",
    "version": 3
   },
   "file_extension": ".py",
   "mimetype": "text/x-python",
   "name": "python",
   "nbconvert_exporter": "python",
   "pygments_lexer": "ipython3",
   "version": "3.10.14"
  }
 },
 "nbformat": 4,
 "nbformat_minor": 5
}
