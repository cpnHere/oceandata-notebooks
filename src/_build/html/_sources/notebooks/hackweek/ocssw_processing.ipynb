{
 "cells": [
  {
   "cell_type": "markdown",
   "id": "8d365a9a",
   "metadata": {
    "tags": []
   },
   "source": [
    "# Processing with OCSSW Command Line Interface (CLI)\n",
    "\n",
    "**Tutorial Lead:** Carina Poulin (NASA, SSAI)\n",
    "\n",
    "<div class=\"alert alert-success\" role=\"alert\">\n",
    "\n",
    "The following notebooks are **prerequisites** for this tutorial:\n",
    "\n",
    "- [Earthdata Cloud Access](../earthdata_cloud_access)\n",
    "- [Satellite Data Visualization](../satdata_vizualization)\n",
    "\n",
    "</div>\n",
    "\n",
    "## Summary\n",
    "\n",
    "[SeaDAS][seadas] is the official data analysis sofware of NASA's Ocean Biology Distributed Active Archive Center (OB.DAAC); used to process, display and analyse ocean color data. SeaDAS is a dektop application that includes the Ocean Color Science Software (OCSSW) libraries. There is also a command line interface (CLI) for the OCSSW libraries, which we can use to write processing scripts and notebooks.\n",
    "\n",
    "This tutorial will show you how to process PACE OCI data using the sequence of OCSSW programs `l2gen`, `l2bin`, and `l3mapgen`.\n",
    "\n",
    "[seadas]: https://seadas.gsfc.nasa.gov/\n",
    "\n",
    "## Learning Objectives\n",
    "\n",
    "At the end of this notebok you will know:\n",
    "* How to process Level-1B data to Level-2 with `l2gen` to make different products including surface reflectances and MOANA phytoplankton products\n",
    "* How to merge two images with `l2bin`\n",
    "* How to create a map with `l3mapgen`\n",
    "\n",
    "## Contents\n",
    "\n",
    "1. [Setup](#1.-Setup)\n",
    "2. [Get L1B Data](#2.-Get-L1B-Data)\n",
    "3. [Process L1B Data to L2 Surface Reflectances with `l2gen`](#3.-Process-L1B-Data-with-l2gen)\n",
    "4. [Process L1B Data to L2 MOANA Phytoplankton products with `l2gen`](#4.-L1B-Data-to-L2-MOANA) \n",
    "5. [Composite L2 Data with `l2bin`](#4.-Composite-L2-Data-with-l2bin)\n",
    "6. [Make a Map from Binned Data with `l3mapgen`](#5.-Make-a-Map-from-Binned-Data-with-l3mapgen)"
   ]
  },
  {
   "cell_type": "markdown",
   "id": "82e81cf9",
   "metadata": {
    "tags": []
   },
   "source": [
    "## 1. Setup\n",
    "\n",
    "Begin by importing all of the packages used in this notebook. If your kernel uses an environment defined following the guidance on the [tutorials] page, then the imports will be successful.\n",
    "\n",
    "[tutorials]: https://oceancolor.gsfc.nasa.gov/resources/docs/tutorials/"
   ]
  },
  {
   "cell_type": "code",
   "execution_count": null,
   "id": "05a08623",
   "metadata": {
    "tags": []
   },
   "outputs": [],
   "source": [
    "import csv\n",
    "import os\n",
    "\n",
    "import cartopy.crs as ccrs\n",
    "import earthaccess\n",
    "import xarray as xr\n",
    "import matplotlib.pyplot as plt"
   ]
  },
  {
   "cell_type": "markdown",
   "id": "e3809baf",
   "metadata": {
    "tags": []
   },
   "source": [
    "We are also going to define a function to help write OCSSW parameter files, which\n",
    "is needed several times in this tutorial. To write the results in the format understood\n",
    "by OCSSW, this function uses the `csv.writer` from the Python Standard Library. Instead of\n",
    "writing comma-separated values, however, we specify a non-default delimiter to get\n",
    "equals-separated values. Not something you usually see in a data file, but it's better than\n",
    "writing our own utility from scratch!"
   ]
  },
  {
   "cell_type": "code",
   "execution_count": null,
   "id": "3b78c12d",
   "metadata": {
    "tags": []
   },
   "outputs": [],
   "source": [
    "def write_par(path, par):\n",
    "    \"\"\"\n",
    "    Prepare a \"par file\" to be read by one of the OCSSW tools, as an\n",
    "    alternative to specifying each parameter on the command line.\n",
    "\n",
    "    Args:\n",
    "        path (str): where to write the parameter file\n",
    "        par (dict): the parameter names and values included in the file\n",
    "    \"\"\"\n",
    "    with open(path, \"w\") as file:\n",
    "        writer = csv.writer(file, delimiter=\"=\")\n",
    "        values = writer.writerows(par.items())"
   ]
  },
  {
   "cell_type": "markdown",
   "id": "2654a741",
   "metadata": {
    "tags": []
   },
   "source": [
    "The Python docstring (fenced by triple quotation marks in the function definition) is not\n",
    "essential, but it helps describe what the function does."
   ]
  },
  {
   "cell_type": "code",
   "execution_count": null,
   "id": "cc75a523",
   "metadata": {
    "tags": []
   },
   "outputs": [],
   "source": [
    "help(write_par)"
   ]
  },
  {
   "cell_type": "markdown",
   "id": "b355a9a9",
   "metadata": {
    "tags": []
   },
   "source": [
    "[back to top](#Contents)"
   ]
  },
  {
   "cell_type": "markdown",
   "id": "3c2a438d",
   "metadata": {
    "tags": []
   },
   "source": [
    "## 2. Get L1B Data\n",
    "\n",
    "\n",
    "Set (and persist to your user profile on the host, if needed) your Earthdata Login credentials."
   ]
  },
  {
   "cell_type": "code",
   "execution_count": null,
   "id": "d2182fb8",
   "metadata": {
    "tags": []
   },
   "outputs": [],
   "source": [
    "auth = earthaccess.login(persist=True)"
   ]
  },
  {
   "cell_type": "markdown",
   "id": "3a4e4987",
   "metadata": {
    "tags": []
   },
   "source": [
    "We will use the `earthaccess` search method used in the OCI Data Access notebook. Note that Level-1B (L1B) files\n",
    "do not include cloud coverage metadata, so we cannot use that filter. In this search, the spatial filter is\n",
    "performed on a location given as a point represented by a tuple of latitude and longitude in decimal degrees."
   ]
  },
  {
   "cell_type": "code",
   "execution_count": null,
   "id": "286ca274",
   "metadata": {
    "tags": []
   },
   "outputs": [],
   "source": [
    "tspan = (\"2024-06-05\", \"2024-06-05\")\n",
    "location = (40, 45)"
   ]
  },
  {
   "cell_type": "code",
   "execution_count": null,
   "id": "1782173a",
   "metadata": {
    "tags": []
   },
   "outputs": [],
   "source": [
    "results = earthaccess.search_data(\n",
    "    short_name=\"PACE_OCI_L1B_SCI\",\n",
    "    temporal=tspan,\n",
    "    point=location,\n",
    ")\n",
    "results[0]"
   ]
  },
  {
   "cell_type": "markdown",
   "id": "4ee47487",
   "metadata": {
    "tags": []
   },
   "source": [
    "Download the granules found in the search."
   ]
  },
  {
   "cell_type": "code",
   "execution_count": null,
   "id": "19096270",
   "metadata": {
    "tags": []
   },
   "outputs": [],
   "source": [
    "paths = earthaccess.download(results, local_path=\"data\")"
   ]
  },
  {
   "cell_type": "markdown",
   "id": "88576369",
   "metadata": {
    "tags": []
   },
   "source": [
    "While we have the downloaded location stored in the list `paths`, store one in a variable we won't overwrite for future use."
   ]
  },
  {
   "cell_type": "code",
   "execution_count": null,
   "id": "cecd0ce8",
   "metadata": {
    "tags": []
   },
   "outputs": [],
   "source": [
    "l2gen_ifile = paths[0]"
   ]
  },
  {
   "cell_type": "markdown",
   "id": "bdf1fed1",
   "metadata": {
    "tags": []
   },
   "source": [
    "The Level-1B files contain top-of-atmosphere reflectances, typically denoted as $\\rho_t$.\n",
    "On OCI, the reflectances are grouped into blue, red, and short-wave infrared (SWIR) wavelengths. Open\n",
    "the dataset's \"observation_data\" group in the netCDF file using `xarray` to plot a \"rhot_red\"\n",
    "wavelength."
   ]
  },
  {
   "cell_type": "code",
   "execution_count": null,
   "id": "bf053240",
   "metadata": {
    "tags": []
   },
   "outputs": [],
   "source": [
    "dataset = xr.open_dataset(l2gen_ifile, group=\"observation_data\")\n",
    "artist = dataset[\"rhot_red\"].sel({\"red_bands\": 100}).plot()"
   ]
  },
  {
   "cell_type": "markdown",
   "id": "92d0913e",
   "metadata": {
    "tags": []
   },
   "source": [
    "[back to top](#Contents)"
   ]
  },
  {
   "cell_type": "markdown",
   "id": "c0127351",
   "metadata": {
    "tags": []
   },
   "source": [
    "## 3. Process L1B Data with `l2gen`\n",
    "\n",
    "At Level-1, we neither have geophysical variables nor are the data projected for easy map making. We will need to process the L1B file to Level-2 and then to Level-3 to get both of those. Note that Level-2 data for many geophysical variables are available for download from the OB.DAAC, so you often don't need the first step. However, the Level-3 data distributed by the OB.DAAC are global composites, which may cover more Level-2 scenes than you want. You'll learn more about compositing below. `l2gen` also allows you to customize products in a way that allows you to get products you cannot directly download from earthdata, like you will see from the following two examples. The first shows how to produce surface reflectances to make true-color images. The second covers the upcoming MOANA phytoplankton community composition products. \n",
    "\n",
    "This section shows how to use `l2gen` for processing the L1B data to L2 using customizable parameters. \n",
    "\n",
    "<div class=\"alert alert-warning\">\n",
    "\n",
    "OCSSW programs are run from the command line in Bash, but we can have a Bash terminal-in-a-cell using the [IPython magic][magic] command `%%bash`. In the specific case of OCSSW programs, the Bash environment created for that cell must be set up by loading `$OCSSWROOT/OCSSW_bash.env`.\n",
    "\n",
    "</div>\n",
    "\n",
    "Every `%%bash` cell that calls an OCSSW program needs to `source` the environment\n",
    "definition file shipped with OCSSW, because its effects are not retained from one cell to the next.\n",
    "We can, however, define the `OCSSWROOT` environment variable in a way that effects every `%%bash` cell.\n",
    "\n",
    "[magic]: https://ipython.readthedocs.io/en/stable/interactive/magics.html#built-in-magic-commands"
   ]
  },
  {
   "cell_type": "code",
   "execution_count": null,
   "id": "5bae1246",
   "metadata": {
    "tags": []
   },
   "outputs": [],
   "source": [
    "os.environ.setdefault(\"OCSSWROOT\", \"/opt/ocssw\")"
   ]
  },
  {
   "cell_type": "markdown",
   "id": "11788853",
   "metadata": {
    "tags": []
   },
   "source": [
    "Then we need a couple lines, which will appear in multiple cells below, to begin a Bash cell initiated with the `OCSSW_bash.env` file.\n",
    "\n",
    "Using this pattern, run the `l2gen` command with the single argument `help` to view the extensive list of options available. You can find more information about `l2gen` and other OCSSW functions on the [seadas website](https://seadas.gsfc.nasa.gov/help-8.3.0/processors/ProcessL2gen.html)"
   ]
  },
  {
   "cell_type": "code",
   "execution_count": null,
   "id": "36df8d86",
   "metadata": {
    "scrolled": true,
    "tags": [
     "scroll-output"
    ]
   },
   "outputs": [],
   "source": [
    "%%bash\n",
    "source $OCSSWROOT/OCSSW_bash.env\n",
    "\n",
    "l2gen help"
   ]
  },
  {
   "cell_type": "markdown",
   "id": "12b3e327",
   "metadata": {
    "tags": []
   },
   "source": [
    "To process a L1B file using `l2gen`, at a minimum, you need to set an infile name (`ifile`) and an outfile name (`ofile`). You can also indicate a data suite; in this example, we will proceed with the biogeochemical (BGC) suite that includes chlorophyll *a* estimates.\n",
    "\n",
    "Parameters can be passed to OCSSW programs through a text file. They can also be passed as arguments, but writing to a text file leaves a clear processing record. Define the parameters in a dictionary, then send it to the `write_par` function\n",
    "defined in the [Setup](#1.-Setup) section."
   ]
  },
  {
   "cell_type": "code",
   "execution_count": null,
   "id": "18e4943b",
   "metadata": {
    "tags": []
   },
   "outputs": [],
   "source": [
    "par = {\n",
    "    \"ifile\": l2gen_ifile,\n",
    "    \"ofile\": str(l2gen_ifile).replace(\".L1B.\", \".L2_SFREFL.\"),\n",
    "    \"suite\": \"SFREFL\",\n",
    "    \"atmocor\": 0,\n",
    "}\n",
    "write_par(\"l2gen.par\", par)"
   ]
  },
  {
   "cell_type": "markdown",
   "id": "4694d20d",
   "metadata": {
    "tags": []
   },
   "source": [
    "With the parameter file ready, it's time to call `l2gen` from a `%%bash` cell. "
   ]
  },
  {
   "cell_type": "code",
   "execution_count": null,
   "id": "11b6d417",
   "metadata": {
    "scrolled": true,
    "tags": [
     "scroll-output"
    ]
   },
   "outputs": [],
   "source": [
    "%%bash\n",
    "source $OCSSWROOT/OCSSW_bash.env\n",
    "\n",
    "l2gen par=l2gen.par"
   ]
  },
  {
   "cell_type": "markdown",
   "id": "f797a97b",
   "metadata": {
    "tags": []
   },
   "source": [
    "If successful, the `l2gen` program created a netCDF file at the `ofile` path. The contents should include the `chlor_a` product from the `BGC` suite of products. Once this process is done, you are ready to visualize your \"custom\" L2 data. Use the `robust=True` option to ignore outlier chl a values."
   ]
  },
  {
   "cell_type": "code",
   "execution_count": null,
   "id": "a99f22e5",
   "metadata": {
    "tags": []
   },
   "outputs": [],
   "source": [
    "dataset = xr.open_dataset(par[\"ofile\"], group=\"geophysical_data\")\n",
    "artist = dataset[\"rhos\"].sel({\"wavelength_3d\": 25}).plot(cmap=\"viridis\", robust=True)"
   ]
  },
  {
   "cell_type": "markdown",
   "id": "467212e8",
   "metadata": {
    "tags": []
   },
   "source": [
    "Feel free to explore `l2gen` options to produce the Level-2 dataset you need! The documentation\n",
    "for `l2gen` is kind of interactive, because so much depends on the data product being processed.\n",
    "For example, try `l2gen ifile=data/PACE_OCI.20240605T092137.L1B.V2.nc dump_options=true` to get\n",
    "a lot of information about the specifics of what the `l2gen` program generates.\n",
    "\n",
    "The next step for this tutorial is to merge multiple Level-2 granules together.\n",
    "\n",
    "[back to top](#Contents)"
   ]
  },
  {
   "cell_type": "markdown",
   "id": "3c182331",
   "metadata": {
    "tags": []
   },
   "source": [
    "## 4. Make MOANA Phytoplankton Community Products with `l2gen`"
   ]
  },
  {
   "cell_type": "markdown",
   "id": "3a668f69",
   "metadata": {
    "tags": []
   },
   "source": [
    "One of the most exciting new PACE algorithms for the ocean color community is the MOANA algorithm that produces phytoplankton abundances for three different groups: Synechococcus, Prochlorococcus and picoeukaryotes. "
   ]
  },
  {
   "cell_type": "code",
   "execution_count": null,
   "id": "f3fbadfb",
   "metadata": {
    "tags": []
   },
   "outputs": [],
   "source": [
    "tspan = (\"2024-03-09\", \"2024-03-09\")\n",
    "location = (20, -30)\n",
    "\n",
    "results = earthaccess.search_data(\n",
    "    short_name=\"PACE_OCI_L1B_SCI\",\n",
    "    temporal=tspan,\n",
    "    point=location,\n",
    ")\n",
    "results[0]"
   ]
  },
  {
   "cell_type": "markdown",
   "id": "0848ad79",
   "metadata": {
    "tags": []
   },
   "source": [
    "Download the granules found in the search."
   ]
  },
  {
   "cell_type": "code",
   "execution_count": null,
   "id": "c317a046",
   "metadata": {
    "tags": []
   },
   "outputs": [],
   "source": [
    "paths = earthaccess.download(results, local_path=\"data\")"
   ]
  },
  {
   "cell_type": "markdown",
   "id": "4e451067",
   "metadata": {
    "tags": []
   },
   "source": [
    "The Level-1B files contain top-of-atmosphere reflectances, typically denoted as $\\rho_t$.\n",
    "On OCI, the reflectances are grouped into blue, red, and short-wave infrared (SWIR) wavelengths. Open\n",
    "the dataset's \"observatin_data\" group in the NetCDF file using `xarray` to plot a \"rhot_red\"\n",
    "wavelength."
   ]
  },
  {
   "cell_type": "code",
   "execution_count": null,
   "id": "efcbb089",
   "metadata": {
    "tags": []
   },
   "outputs": [],
   "source": [
    "dataset = xr.open_dataset(paths[0], group=\"observation_data\")\n",
    "artist = dataset[\"rhot_red\"].sel({\"red_bands\": 100}).plot()"
   ]
  },
  {
   "cell_type": "code",
   "execution_count": null,
   "id": "85180214",
   "metadata": {
    "tags": []
   },
   "outputs": [],
   "source": [
    "ifile = paths[0]\n",
    "par = {\n",
    "    \"ifile\": ifile,\n",
    "    \"ofile\": str(ifile).replace(\".L1B.\", \".L2_MOANA.\"),\n",
    "    \"suite\": \"BGC\",\n",
    "    \"l2prod\": \"picoeuk_moana prococcus_moana syncoccus_moana rhos_465 rhos_555 rhos_645 poc chlor_a \",\n",
    "    \"atmocor\": 1,\n",
    "}\n",
    "write_par(\"l2gen-moana.par\", par)"
   ]
  },
  {
   "cell_type": "markdown",
   "id": "38d61557",
   "metadata": {
    "tags": []
   },
   "source": [
    "Now run `l2bin` using your chosen parameters. Be very patient."
   ]
  },
  {
   "cell_type": "code",
   "execution_count": null,
   "id": "d695a01b",
   "metadata": {
    "scrolled": true,
    "tags": [
     "scroll-output"
    ]
   },
   "outputs": [],
   "source": [
    "%%bash\n",
    "source $OCSSWROOT/OCSSW_bash.env\n",
    "\n",
    "l2gen par=l2gen-moana.par"
   ]
  },
  {
   "cell_type": "code",
   "execution_count": null,
   "id": "bb008192",
   "metadata": {
    "tags": []
   },
   "outputs": [],
   "source": [
    "dataset = xr.open_dataset(par[\"ofile\"], group=\"geophysical_data\")\n",
    "artist = dataset[\"picoeuk_moana\"].plot(cmap=\"viridis\", robust=True)"
   ]
  },
  {
   "cell_type": "markdown",
   "id": "6acd062d",
   "metadata": {
    "tags": []
   },
   "source": [
    "## 5. Composite L2 Data with `l2bin`\n",
    "\n",
    "It can be useful to merge adjacent scenes to create a single, larger image. Let's do it with a chlorophyll product. \n",
    "\n",
    "Searching on a location defined as a line, rather than a point, is a good way to get granules that are\n",
    "adjacent to eachother. Pass a list of latitude and longitude tuples to the `line` argument of `search_data`."
   ]
  },
  {
   "cell_type": "code",
   "execution_count": null,
   "id": "e8aa7a02",
   "metadata": {
    "tags": []
   },
   "outputs": [],
   "source": [
    "tspan = (\"2024-04-27\", \"2024-04-27\")\n",
    "location = [(-56.5, 49.8), (-55.0, 49.8)]\n",
    "\n",
    "results = earthaccess.search_data(\n",
    "    short_name=\"PACE_OCI_L2_BGC_NRT\",\n",
    "    temporal=tspan,\n",
    "    line=location,\n",
    ")\n",
    "\n",
    "for item in results:\n",
    "    display(item)"
   ]
  },
  {
   "cell_type": "code",
   "execution_count": null,
   "id": "ddd98f9b",
   "metadata": {
    "tags": []
   },
   "outputs": [],
   "source": [
    "paths = earthaccess.download(results, \"data\")"
   ]
  },
  {
   "cell_type": "markdown",
   "id": "cc6f60be",
   "metadata": {
    "tags": []
   },
   "source": [
    "While we have the downloaded location stored in the list `paths`, write the list to a text file for future use."
   ]
  },
  {
   "cell_type": "code",
   "execution_count": null,
   "id": "2a5486fb",
   "metadata": {
    "tags": []
   },
   "outputs": [],
   "source": [
    "paths = [str(i) for i in paths]\n",
    "with open(\"l2bin_ifile.txt\", \"w\") as file:\n",
    "    file.write(\"\\n\".join(paths))"
   ]
  },
  {
   "cell_type": "markdown",
   "id": "e5d34468",
   "metadata": {
    "tags": []
   },
   "source": [
    "The OCSSW program that performs merging, also known as \"compositing\" of remote sensing images, is called `l2bin`. Take a look at the program's options."
   ]
  },
  {
   "cell_type": "code",
   "execution_count": null,
   "id": "06b67e96",
   "metadata": {
    "scrolled": true,
    "tags": [
     "scroll-output"
    ]
   },
   "outputs": [],
   "source": [
    "%%bash\n",
    "source $OCSSWROOT/OCSSW_bash.env\n",
    "\n",
    "l2bin help"
   ]
  },
  {
   "cell_type": "markdown",
   "id": "72a1d7ff",
   "metadata": {
    "tags": []
   },
   "source": [
    "Write a parameter file with the previously saved list of Level-2 BGC files standing in\n",
    "for the usual \"ifile\" value. We can leave the datetime out of the \"ofile\" name rather than extracing a\n",
    "time period from the granules chosen for binning."
   ]
  },
  {
   "cell_type": "code",
   "execution_count": null,
   "id": "ead54a8d",
   "metadata": {
    "tags": []
   },
   "outputs": [],
   "source": [
    "ofile = \"data/PACE_OCI.L3B.nc\"\n",
    "par = {\n",
    "    \"ifile\": \"l2bin_ifile.txt\",\n",
    "    \"ofile\": ofile,\n",
    "    \"prodtype\": \"regional\",\n",
    "    \"resolution\": 9,\n",
    "    \"flaguse\": \"NONE\",\n",
    "    \"rowgroup\": 2000,\n",
    "}\n",
    "write_par(\"l2bin.par\", par)"
   ]
  },
  {
   "cell_type": "code",
   "execution_count": null,
   "id": "6fba5a04",
   "metadata": {
    "scrolled": true,
    "tags": [
     "scroll-output"
    ]
   },
   "outputs": [],
   "source": [
    "%%bash\n",
    "source $OCSSWROOT/OCSSW_bash.env\n",
    "\n",
    "l2bin par=l2bin.par"
   ]
  },
  {
   "cell_type": "code",
   "execution_count": null,
   "id": "7575c726",
   "metadata": {
    "tags": []
   },
   "outputs": [],
   "source": [
    "dataset = xr.open_dataset(par[\"ofile\"], group=\"level-3_binned_data\")\n",
    "dataset"
   ]
  },
  {
   "cell_type": "markdown",
   "id": "decd889a",
   "metadata": {
    "tags": []
   },
   "source": [
    "[back to top](#Contents)"
   ]
  },
  {
   "cell_type": "markdown",
   "id": "66562faa",
   "metadata": {
    "tags": []
   },
   "source": [
    "## 5. Make a Map from Binned Data with `l3mapgen`\n",
    "\n",
    "The `l3mapgen` function of OCSSW allows you to create maps with a wide array of options you can see below:"
   ]
  },
  {
   "cell_type": "code",
   "execution_count": null,
   "id": "53c4bb4d",
   "metadata": {
    "scrolled": true,
    "tags": [
     "scroll-output"
    ]
   },
   "outputs": [],
   "source": [
    "%%bash\n",
    "source $OCSSWROOT/OCSSW_bash.env\n",
    "\n",
    "l3mapgen help"
   ]
  },
  {
   "cell_type": "markdown",
   "id": "a22bcbb3",
   "metadata": {
    "tags": []
   },
   "source": [
    "Run `l3mapgen` to make a 9km map with a Plate Carree projection."
   ]
  },
  {
   "cell_type": "code",
   "execution_count": null,
   "id": "a9e07283",
   "metadata": {
    "tags": []
   },
   "outputs": [],
   "source": [
    "ifile = \"data/PACE_OCI.L3B.nc\"\n",
    "ofile = ifile.replace(\".L3B.\", \".L3M.\")\n",
    "par = {\n",
    "    \"ifile\": ifile,\n",
    "    \"ofile\": ofile,\n",
    "    \"projection\": \"platecarree\",\n",
    "    \"resolution\": \"9km\",\n",
    "    \"interp\": \"bin\",\n",
    "    \"use_quality\": 0,\n",
    "    \"apply_pal\": 0,\n",
    "}\n",
    "write_par(\"l3mapgen.par\", par)"
   ]
  },
  {
   "cell_type": "code",
   "execution_count": null,
   "id": "282f5c3b",
   "metadata": {
    "scrolled": true,
    "tags": [
     "scroll-output"
    ]
   },
   "outputs": [],
   "source": [
    "%%bash\n",
    "source $OCSSWROOT/OCSSW_bash.env\n",
    "\n",
    "l3mapgen par=l3mapgen.par"
   ]
  },
  {
   "cell_type": "markdown",
   "id": "1473a61e",
   "metadata": {
    "tags": []
   },
   "source": [
    "Open the output with XArray, note that there is no group anymore and that `lat` and `lon` are coordinates as well as indexes."
   ]
  },
  {
   "cell_type": "code",
   "execution_count": null,
   "id": "457248fa",
   "metadata": {
    "tags": []
   },
   "outputs": [],
   "source": [
    "dataset = xr.open_dataset(par[\"ofile\"])\n",
    "dataset"
   ]
  },
  {
   "cell_type": "markdown",
   "id": "e7c7972a",
   "metadata": {
    "tags": []
   },
   "source": [
    "Now that we have projected chlorophyll data, we can make a map with coastines and gridlines provided by Cartopy. The `projection` argument to `plt.axes` indicates the projection we want to have in the visualization. The `transform`\n",
    "argument in the `Dataset.plot` call indicates the projection the data are in. Cartopy does reprojection easilly\n",
    "between two projected coordinate reference systems."
   ]
  },
  {
   "cell_type": "code",
   "execution_count": null,
   "id": "746a390c",
   "metadata": {
    "tags": []
   },
   "outputs": [],
   "source": [
    "fig = plt.figure(figsize=(10, 3))\n",
    "ax = plt.axes(projection=ccrs.AlbersEqualArea(-45))\n",
    "artist = dataset[\"chlor_a\"].plot(x=\"lon\", y=\"lat\", cmap=\"viridis\", robust=True, ax=ax, transform=ccrs.PlateCarree())\n",
    "ax.gridlines(draw_labels={\"left\": \"y\", \"bottom\": \"x\"}, linewidth=0.2)\n",
    "ax.coastlines(linewidth=0.5)\n",
    "plt.show()"
   ]
  },
  {
   "cell_type": "markdown",
   "id": "f5b26cb9",
   "metadata": {
    "tags": []
   },
   "source": [
    "[back to top](#Contents)"
   ]
  }
 ],
 "metadata": {
  "jupytext": {
   "cell_metadata_filter": "-all,scrolled,tags",
   "main_language": "python",
   "notebook_metadata_filter": "-all"
  }
 },
 "nbformat": 4,
 "nbformat_minor": 5
}
