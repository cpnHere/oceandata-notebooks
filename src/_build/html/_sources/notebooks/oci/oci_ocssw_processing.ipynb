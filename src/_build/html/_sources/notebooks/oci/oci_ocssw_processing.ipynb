{
 "cells": [
  {
   "cell_type": "markdown",
   "id": "edd43860",
   "metadata": {},
   "source": [
    "# Processing with OCSSW Command Line Interface (CLI)\n",
    "\n",
    "**Authors:** Carina Poulin (NASA, SSAI), Ian Carroll (NASA, UMBC), Anna Windle (NASA, SSAI)\n",
    "\n",
    "<div class=\"alert alert-success\" role=\"alert\">\n",
    "\n",
    "The following notebooks are **prerequisites** for this tutorial.\n",
    "\n",
    "- Learn with OCI: [Data Access][oci-data-access]\n",
    "- Learn with OCI: [Installing and Running OCSSW Command-line Tools][ocssw_install]\n",
    "\n",
    "</div>\n",
    "\n",
    "<div class=\"alert alert-info\" role=\"alert\">\n",
    "\n",
    "An [Earthdata Login][edl] account is required to access data from the NASA Earthdata system, including NASA ocean color data.\n",
    "\n",
    "</div>\n",
    "\n",
    "[edl]: https://urs.earthdata.nasa.gov/\n",
    "[oci-data-access]: https://oceancolor.gsfc.nasa.gov/resources/docs/tutorials/notebooks/oci_data_access/\n",
    "[ocssw_install]: https://oceancolor.gsfc.nasa.gov/resources/docs/tutorials/notebooks/oci_ocssw_install/\n",
    "\n",
    "## Summary\n",
    "\n",
    "[SeaDAS][seadas] is the official data analysis sofware of NASA's Ocean Biology Distributed Active Archive Center (OB.DAAC); used to process, display and analyse ocean color data. SeaDAS is a dektop application that includes the Ocean Color Science Software (OCSSW) libraries. There is also a command line interface (CLI) for the OCSSW libraries, which we can use to write processing scripts and notebooks.\n",
    "\n",
    "This tutorial will show you how to process PACE OCI data using the sequence of OCSSW programs `l2gen`, `l2bin`, and `l3mapgen`.\n",
    "\n",
    "[seadas]: https://seadas.gsfc.nasa.gov/\n",
    "\n",
    "## Learning Objectives\n",
    "\n",
    "At the end of this notebok you will know:\n",
    "* How to process Level-1B data to Level-2 with `l2gen`\n",
    "* How to merge two images with `l2bin`\n",
    "* How to create a map with `l3mapgen`\n",
    "\n",
    "## Contents\n",
    "\n",
    "1. [Setup](#1.-Setup)\n",
    "2. [Get L1B Data](#2.-Get-L1B-Data)\n",
    "3. [Process L1B Data with `l2gen`](#3.-Process-L1B-Data-with-l2gen)\n",
    "4. [Composite L2 Data with `l2bin`](#4.-Composite-L2-Data-with-l2bin)\n",
    "5. [Make a Map from Binned Data with `l3mapgen`](#5.-Make-a-Map-from-Binned-Data-with-l3mapgen)"
   ]
  },
  {
   "cell_type": "markdown",
   "id": "d1a8fc51",
   "metadata": {},
   "source": [
    "## 1. Setup\n",
    "\n",
    "Begin by importing all of the packages used in this notebook. If your kernel uses an environment defined following the guidance on the [tutorials] page, then the imports will be successful.\n",
    "\n",
    "[tutorials]: https://oceancolor.gsfc.nasa.gov/resources/docs/tutorials/"
   ]
  },
  {
   "cell_type": "code",
   "execution_count": null,
   "id": "98d48fb4",
   "metadata": {
    "lines_to_end_of_cell_marker": 0,
    "lines_to_next_cell": 1
   },
   "outputs": [],
   "source": [
    "import csv\n",
    "import os\n",
    "\n",
    "import cartopy.crs as ccrs\n",
    "import earthaccess\n",
    "import xarray as xr\n",
    "import matplotlib.pyplot as plt"
   ]
  },
  {
   "cell_type": "markdown",
   "id": "33acbae5",
   "metadata": {},
   "source": [
    "We are also going to define a function to help write OCSSW parameter files, which\n",
    "is needed several times in this tutorial. To write the results in the format understood\n",
    "by OCSSW, this function uses the `csv.writer` from the Python Standard Library. Instead of\n",
    "writing comma-separated values, however, we specify a non-default delimiter to get\n",
    "equals-separated values. Not something you usually see in a data file, but it's better than\n",
    "writing our own utility from scratch!"
   ]
  },
  {
   "cell_type": "code",
   "execution_count": null,
   "id": "43b05643",
   "metadata": {},
   "outputs": [],
   "source": [
    "def write_par(path, par):\n",
    "    \"\"\"\n",
    "    Prepare a \"par file\" to be read by one of the OCSSW tools, as an\n",
    "    alternative to specifying each parameter on the command line.\n",
    "\n",
    "    Args:\n",
    "        path (str): where to write the parameter file\n",
    "        par (dict): the parameter names and values included in the file\n",
    "    \"\"\"\n",
    "    with open(path, \"w\") as file:\n",
    "        writer = csv.writer(file, delimiter=\"=\")\n",
    "        values = writer.writerows(par.items())"
   ]
  },
  {
   "cell_type": "markdown",
   "id": "f6cbcf01",
   "metadata": {},
   "source": [
    "The Python docstring (fenced by triple quotation marks in the function definition) is not\n",
    "essential, but it helps describe what the function does."
   ]
  },
  {
   "cell_type": "code",
   "execution_count": null,
   "id": "74f0799a",
   "metadata": {},
   "outputs": [],
   "source": [
    "help(write_par)"
   ]
  },
  {
   "cell_type": "markdown",
   "id": "3b562024",
   "metadata": {},
   "source": [
    "[back to top](#Contents)"
   ]
  },
  {
   "cell_type": "markdown",
   "id": "0546487d",
   "metadata": {},
   "source": [
    "## 2. Get L1B Data\n",
    "\n",
    "\n",
    "Set (and persist to your user profile on the host, if needed) your Earthdata Login credentials."
   ]
  },
  {
   "cell_type": "code",
   "execution_count": null,
   "id": "db11d898",
   "metadata": {},
   "outputs": [],
   "source": [
    "auth = earthaccess.login(persist=True)"
   ]
  },
  {
   "cell_type": "markdown",
   "id": "a3d35183",
   "metadata": {},
   "source": [
    "We will use the `earthaccess` search method used in the OCI Data Access notebook. Note that Level-1B (L1B) files\n",
    "do not include cloud coverage metadata, so we cannot use that filter. In this search, the spatial filter is\n",
    "performed on a location given as a point represented by a tuple of latitude and longitude in decimal degrees."
   ]
  },
  {
   "cell_type": "code",
   "execution_count": null,
   "id": "9a23ccb8",
   "metadata": {},
   "outputs": [],
   "source": [
    "tspan = (\"2024-04-27\", \"2024-04-27\")\n",
    "location = (-56.5, 49.8)"
   ]
  },
  {
   "cell_type": "markdown",
   "id": "e8124f43",
   "metadata": {},
   "source": [
    "The `search_data` method accepts a `point` argument for this type of location."
   ]
  },
  {
   "cell_type": "code",
   "execution_count": null,
   "id": "c4aa2e5c",
   "metadata": {},
   "outputs": [],
   "source": [
    "results = earthaccess.search_data(\n",
    "    short_name=\"PACE_OCI_L1B_SCI\",\n",
    "    temporal=tspan,\n",
    "    point=location,\n",
    ")"
   ]
  },
  {
   "cell_type": "code",
   "execution_count": null,
   "id": "83a4cac7",
   "metadata": {},
   "outputs": [],
   "source": [
    "results[0]"
   ]
  },
  {
   "cell_type": "markdown",
   "id": "ce4a5210",
   "metadata": {},
   "source": [
    "Download the granules found in the search."
   ]
  },
  {
   "cell_type": "code",
   "execution_count": null,
   "id": "78870670",
   "metadata": {},
   "outputs": [],
   "source": [
    "paths = earthaccess.download(results, local_path=\"L1B\")"
   ]
  },
  {
   "cell_type": "markdown",
   "id": "651ec076",
   "metadata": {},
   "source": [
    "While we have the downloaded location stored in the list `paths`, store one in a variable we won't overwrite for future use."
   ]
  },
  {
   "cell_type": "code",
   "execution_count": null,
   "id": "28621f94",
   "metadata": {},
   "outputs": [],
   "source": [
    "l2gen_ifile = paths[0]"
   ]
  },
  {
   "cell_type": "markdown",
   "id": "295fad08",
   "metadata": {},
   "source": [
    "The Level-1B files contain top-of-atmosphere reflectances, typically denoted as $\\rho_t$.\n",
    "On OCI, the reflectances are grouped into blue, red, and short-wave infrared (SWIR) wavelengths. Open\n",
    "the dataset's \"observatin_data\" group in the netCDF file using `xarray` to plot a \"rhot_red\"\n",
    "wavelength."
   ]
  },
  {
   "cell_type": "code",
   "execution_count": null,
   "id": "c7d2a14f",
   "metadata": {},
   "outputs": [],
   "source": [
    "dataset = xr.open_dataset(l2gen_ifile, group=\"observation_data\")\n",
    "plot = dataset[\"rhot_red\"].sel({\"red_bands\": 100}).plot()"
   ]
  },
  {
   "cell_type": "markdown",
   "id": "ab651ffc",
   "metadata": {},
   "source": [
    "This tutorial will demonstrate processing this Level-1B granule into a Level-2 granule. Because that can\n",
    "take several minutes, we'll also download a couple of Level-2 granules to save time for the next step of compositing multiple Level-2 granules into a single granule."
   ]
  },
  {
   "cell_type": "code",
   "execution_count": null,
   "id": "003feb77",
   "metadata": {},
   "outputs": [],
   "source": [
    "location = [(-56.5, 49.8), (-55.0, 49.8)]"
   ]
  },
  {
   "cell_type": "markdown",
   "id": "860bb290",
   "metadata": {},
   "source": [
    "Searching on a location defined as a line, rather than a point, is a good way to get granules that are\n",
    "adjacent to eachother. Pass a list of latitude and longitude tuples to the `line` argument of `search_data`."
   ]
  },
  {
   "cell_type": "code",
   "execution_count": null,
   "id": "af556de5",
   "metadata": {},
   "outputs": [],
   "source": [
    "results = earthaccess.search_data(\n",
    "    short_name=\"PACE_OCI_L2_BGC_NRT\",\n",
    "    temporal=tspan,\n",
    "    line=location,\n",
    ")"
   ]
  },
  {
   "cell_type": "code",
   "execution_count": null,
   "id": "af4f684d",
   "metadata": {},
   "outputs": [],
   "source": [
    "for item in results:\n",
    "    display(item)"
   ]
  },
  {
   "cell_type": "code",
   "execution_count": null,
   "id": "36cd4073",
   "metadata": {},
   "outputs": [],
   "source": [
    "paths = earthaccess.download(results, \"L2_BGC\")\n",
    "paths"
   ]
  },
  {
   "cell_type": "markdown",
   "id": "779bb528",
   "metadata": {},
   "source": [
    "While we have the downloaded location stored in the list `paths`, write the list to a text file for future use."
   ]
  },
  {
   "cell_type": "code",
   "execution_count": null,
   "id": "f9e0baa2",
   "metadata": {},
   "outputs": [],
   "source": [
    "paths = [str(i) for i in paths]\n",
    "with open(\"l2bin_ifile.txt\", \"w\") as file:\n",
    "    file.write(\"\\n\".join(paths))"
   ]
  },
  {
   "cell_type": "markdown",
   "id": "56099862",
   "metadata": {},
   "source": [
    "[back to top](#Contents)"
   ]
  },
  {
   "cell_type": "markdown",
   "id": "48e7d081",
   "metadata": {},
   "source": [
    "## 3. Process L1B Data with `l2gen`\n",
    "\n",
    "At Level-1, we neither have geophysical variables nor are the data projected for easy map making. We will need to process the L1B file to Level-2 and then to Level-3 to get both of those. Note that Level-2 data for many geophysical variables are available for download from the OB.DAAC, so you often don't need the first step. However, the Level-3 data distributed by the OB.DAAC are global composites, which may cover more Level-2 scenes than you want. You'll learn more about compositing below. This section shows how to use `l2gen` for processing the L1B data to L2 using customizable parameters.\n",
    "\n",
    "<div class=\"alert alert-warning\">\n",
    "\n",
    "OCSSW programs are run from the command line in Bash, but we can have a Bash terminal-in-a-cell using the [IPython magic][magic] command `%%bash`. In the specific case of OCSSW programs, the Bash environment created for that cell must be set up by loading `$OCSSWROOT/OCSSW_bash.env`.\n",
    "\n",
    "</div>\n",
    "\n",
    "Every `%%bash` cell that calls an OCSSW program needs to `source` the environment\n",
    "definition file shipped with OCSSW, because its effects are not retained from one cell to the next.\n",
    "We can, however, define the `OCSSWROOT` environment variable in a way that effects every `%%bash` cell.\n",
    "\n",
    "[magic]: https://ipython.readthedocs.io/en/stable/interactive/magics.html#built-in-magic-commands"
   ]
  },
  {
   "cell_type": "code",
   "execution_count": null,
   "id": "6095fe3b",
   "metadata": {},
   "outputs": [],
   "source": [
    "os.environ.setdefault(\"OCSSWROOT\", \"/tmp/ocssw\")"
   ]
  },
  {
   "cell_type": "markdown",
   "id": "49361e03",
   "metadata": {},
   "source": [
    "Then we need a couple lines, which will appear in multiple cells below, to begin a Bash cell initiated with the `OCSSW_bash.env` file.\n",
    "\n",
    "Using this pattern, run the `l2gen` command with the single argument `help` to view the extensive list of options available. You can find more information about `l2gen` and other OCSSW functions on the [seadas website](https://seadas.gsfc.nasa.gov/help-8.3.0/processors/ProcessL2gen.html)"
   ]
  },
  {
   "cell_type": "code",
   "execution_count": null,
   "id": "aa4988e2",
   "metadata": {
    "scrolled": true
   },
   "outputs": [],
   "source": [
    "%%bash\n",
    "source $OCSSWROOT/OCSSW_bash.env\n",
    "\n",
    "l2gen help"
   ]
  },
  {
   "cell_type": "markdown",
   "id": "70c108d4",
   "metadata": {},
   "source": [
    "To process a L1B file using `l2gen`, at a minimum, you need to set an infile name (`ifile`) and an outfile name (`ofile`). You can also indicate a data suite; in this example, we will proceed with the biogeochemical (BGC) suite that includes chlorophyll *a* estimates.\n",
    "\n",
    "Parameters can be passed to OCSSW programs through a text file. They can also be passed as arguments, but writing to a text file leaves a clear processing record. Define the parameters in a dictionary, then send it to the `write_par` function\n",
    "defined in the [Setup](#1.-Setup) section."
   ]
  },
  {
   "cell_type": "code",
   "execution_count": null,
   "id": "4f328ed1",
   "metadata": {},
   "outputs": [],
   "source": [
    "par = {\n",
    "    \"ifile\": l2gen_ifile,\n",
    "    \"ofile\": str(l2gen_ifile).replace(\"L1B\", \"L2_BGC\"),\n",
    "    \"suite\": \"SFREFL\",\n",
    "    \"atmocor\": 0,\n",
    "}\n",
    "write_par(\"l2gen.par\", par)"
   ]
  },
  {
   "cell_type": "markdown",
   "id": "51cbc948",
   "metadata": {},
   "source": [
    "With the parameter file ready, it's time to call `l2gen` from a `%%bash` cell."
   ]
  },
  {
   "cell_type": "code",
   "execution_count": null,
   "id": "83652da3",
   "metadata": {
    "scrolled": true
   },
   "outputs": [],
   "source": [
    "%%bash\n",
    "source $OCSSWROOT/OCSSW_bash.env\n",
    "\n",
    "l2gen par=l2gen.par"
   ]
  },
  {
   "cell_type": "markdown",
   "id": "95f7f522",
   "metadata": {},
   "source": [
    "If successful, the `l2gen` program created a netCDF file at the `ofile` path. The contents should include the `chlor_a` product from the `BGC` suite of products. Once this process is done, you are ready to visualize your \"custom\" L2 data. Use the `robust=True` option to ignore outlier chl a values."
   ]
  },
  {
   "cell_type": "code",
   "execution_count": null,
   "id": "72c443be",
   "metadata": {},
   "outputs": [],
   "source": [
    "dataset = xr.open_dataset(par[\"ofile\"], group=\"geophysical_data\")\n",
    "plot = dataset[\"rhos\"].sel({\"wavelength_3d\": 25}).plot(cmap=\"viridis\", robust=True)"
   ]
  },
  {
   "cell_type": "markdown",
   "id": "8a6b76dc",
   "metadata": {},
   "source": [
    "Feel free to explore `l2gen` options to produce the Level-2 dataset you need! The documentation\n",
    "for `l2gen` is kind of interactive, because so much depends on the data product being processed.\n",
    "For example, try `l2gen ifile=granules/PACE_OCI.20240427T161654.L1B.nc dump_options=true` to get\n",
    "a lot of information about the specifics of what the `l2gen` program generates.\n",
    "\n",
    "The next step for this tutorial is to merge multiple Level-2 granules together.\n",
    "\n",
    "[back to top](#Contents)"
   ]
  },
  {
   "cell_type": "markdown",
   "id": "ed94deeb",
   "metadata": {},
   "source": [
    "## 4. Composite L2 Data with `l2bin`\n",
    "\n",
    "It can be useful to merge adjacent scenes to create a single, larger image. The OCSSW program that performs merging, also known as \"compositing\" of remote sensing images, is called `l2bin`. Take a look at the program's options."
   ]
  },
  {
   "cell_type": "code",
   "execution_count": null,
   "id": "690bfb9e",
   "metadata": {
    "scrolled": true
   },
   "outputs": [],
   "source": [
    "%%bash\n",
    "source $OCSSWROOT/OCSSW_bash.env\n",
    "\n",
    "l2bin help"
   ]
  },
  {
   "cell_type": "markdown",
   "id": "acff30fc",
   "metadata": {},
   "source": [
    "Write a parameter file with the previously saved list of Level-2 files standing in\n",
    "for the usual \"ifile\" value. We can leave the datetime out of the \"ofile\" name rather than extracing a\n",
    "time period from the granules chosen for binning."
   ]
  },
  {
   "cell_type": "code",
   "execution_count": null,
   "id": "201813b0",
   "metadata": {},
   "outputs": [],
   "source": [
    "ofile = \"granules/PACE_OCI.L3B.nc\"\n",
    "par = {\n",
    "    \"ifile\": \"l2bin_ifile.txt\",\n",
    "    \"ofile\": ofile,\n",
    "    \"prodtype\": \"regional\",\n",
    "    \"resolution\": 9,\n",
    "    \"flaguse\": \"NONE\",\n",
    "    \"rowgroup\": 2000,\n",
    "}\n",
    "write_par(\"l2bin.par\", par)"
   ]
  },
  {
   "cell_type": "markdown",
   "id": "c8b8a343",
   "metadata": {},
   "source": [
    "Now run `l2bin` using your chosen parameters:"
   ]
  },
  {
   "cell_type": "code",
   "execution_count": null,
   "id": "96db30eb",
   "metadata": {
    "scrolled": true
   },
   "outputs": [],
   "source": [
    "%%bash\n",
    "source $OCSSWROOT/OCSSW_bash.env\n",
    "\n",
    "l2bin par=l2bin.par"
   ]
  },
  {
   "cell_type": "markdown",
   "id": "5399b7f1",
   "metadata": {},
   "source": [
    "[back to top](#Contents)"
   ]
  },
  {
   "cell_type": "markdown",
   "id": "aaeac83a",
   "metadata": {},
   "source": [
    "## 5. Make a Map from Binned Data with `l3mapgen`\n",
    "\n",
    "The `l3mapgen` function of OCSSW allows you to create maps with a wide array of options you can see below:"
   ]
  },
  {
   "cell_type": "code",
   "execution_count": null,
   "id": "f64e237b",
   "metadata": {
    "scrolled": true
   },
   "outputs": [],
   "source": [
    "%%bash\n",
    "source $OCSSWROOT/OCSSW_bash.env\n",
    "\n",
    "l3mapgen help"
   ]
  },
  {
   "cell_type": "markdown",
   "id": "d89c1021",
   "metadata": {},
   "source": [
    "Run `l3mapgen` to make a 9km map with a Plate Carree projection."
   ]
  },
  {
   "cell_type": "code",
   "execution_count": null,
   "id": "066a622e",
   "metadata": {},
   "outputs": [],
   "source": [
    "ifile = \"granules/PACE_OCI.L3B.nc\"\n",
    "ofile = ifile.replace(\".L3B.\", \".L3M.\")\n",
    "par = {\n",
    "    \"ifile\": ifile,\n",
    "    \"ofile\": ofile,\n",
    "    \"projection\": \"platecarree\",\n",
    "    \"resolution\": \"9km\",\n",
    "    \"interp\": \"bin\",\n",
    "    \"use_quality\": 0,\n",
    "    \"apply_pal\": 0,\n",
    "}\n",
    "write_par(\"l3mapgen.par\", par)"
   ]
  },
  {
   "cell_type": "code",
   "execution_count": null,
   "id": "cc56b506",
   "metadata": {
    "scrolled": true
   },
   "outputs": [],
   "source": [
    "%%bash\n",
    "source $OCSSWROOT/OCSSW_bash.env\n",
    "\n",
    "l3mapgen par=l3mapgen.par"
   ]
  },
  {
   "cell_type": "markdown",
   "id": "69fa0e5f",
   "metadata": {},
   "source": [
    "Open the output with XArray, note that there is no group anymore."
   ]
  },
  {
   "cell_type": "code",
   "execution_count": null,
   "id": "d71b5290",
   "metadata": {},
   "outputs": [],
   "source": [
    "dataset = xr.open_dataset(par[\"ofile\"])\n",
    "dataset"
   ]
  },
  {
   "cell_type": "markdown",
   "id": "663df1d7",
   "metadata": {},
   "source": [
    "Now that we have projected data, we can make a map with coastines and gridlines."
   ]
  },
  {
   "cell_type": "code",
   "execution_count": null,
   "id": "063025aa",
   "metadata": {},
   "outputs": [],
   "source": [
    "fig = plt.figure()\n",
    "ax = plt.axes(projection=ccrs.PlateCarree())\n",
    "plot = dataset[\"chlor_a\"].plot(x=\"lon\", y=\"lat\", cmap=\"viridis\", robust=True, ax=ax)\n",
    "ax.gridlines(draw_labels={\"left\": \"y\", \"bottom\": \"x\"}, linewidth=0.3)\n",
    "ax.coastlines(linewidth=0.5)"
   ]
  },
  {
   "cell_type": "markdown",
   "id": "389e125a",
   "metadata": {},
   "source": [
    "[back to top](#Contents)\n",
    "\n",
    "<div class=\"alert alert-info\" role=\"alert\">\n",
    "\n",
    "You have completed the notebook on using OCCSW to process PACE data. More notebooks are comming soon!\n",
    "\n",
    "</div>"
   ]
  }
 ],
 "metadata": {
  "jupytext": {
   "cell_metadata_filter": "-all,scrolled,tags",
   "main_language": "python",
   "notebook_metadata_filter": "-all"
  }
 },
 "nbformat": 4,
 "nbformat_minor": 5
}
