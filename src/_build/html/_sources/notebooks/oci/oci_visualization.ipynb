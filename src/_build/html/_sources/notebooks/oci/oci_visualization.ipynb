{
 "cells": [
  {
   "cell_type": "code",
   "execution_count": null,
   "id": "448b6beb",
   "metadata": {},
   "outputs": [],
   "source": []
  },
  {
   "cell_type": "markdown",
   "id": "e835fe04",
   "metadata": {},
   "source": [
    "# Title of the Tutorial\n",
    "\n",
    "**Authors:** Carina Poulin (NASA, SSAI), Ian Carroll (NASA, UMBC), Anna Windle (NASA, SSAI)\n",
    "\n",
    "<div class=\"alert alert-success\" role=\"alert\">\n",
    "\n",
    "**PREREQUISITES**\n",
    " This notebook has the following prerequisites:\n",
    " - An **<a href=\"https://urs.earthdata.nasa.gov/\" target=\"_blank\">**\n",
    "   account is required to access data from the NASA Earthdata system, including NASA ocean color data.\n",
    " - Learn with OCI: <a href=\"https://oceancolor.gsfc.nasa.gov/resources/docs/tutorials/notebooks/oci_ocssw_processing_bash/\" target=\"_blank\">Installing and Running OCSSW Command-line Tools\n",
    "\n",
    "\n",
    "</div>\n",
    "\n",
    "<div class=\"alert alert-info\" role=\"alert\">\n",
    "\n",
    "An [Earthdata Login][edl] account is required to access data from the NASA Earthdata system, including NASA ocean color data.\n",
    "\n",
    "</div>\n",
    "\n",
    "[edl]: https://urs.earthdata.nasa.gov/\n",
    "[oci-data-access]: https://oceancolor.gsfc.nasa.gov/resources/docs/tutorials/notebooks/oci_data_access/\n",
    "\n",
    "## Summary\n",
    "\n",
    "Succinct description of the tutorial ...\n",
    "\n",
    "## Learning Objectives\n",
    "\n",
    "At the end of this notebook you will know:\n",
    "\n",
    "- How to create a true-color image from OCI data from the cloud *WHOLE GLOBE L3!\n",
    "- How to create a true-color image from OCI data processed with OCSSW\n",
    "- How to make a false color image to look at clouds or smoke\n",
    "- How to make an interactive tool to explore OCI data\n",
    "- What ...\n",
    "\n",
    "## Contents\n",
    "\n",
    "1. [Setup](#setup)\n",
    "1. [Section Title](#section-name)\n",
    "1. [Style Notes](#other-name)\n",
    "\n",
    "<a name=\"setup\"></a>"
   ]
  },
  {
   "cell_type": "markdown",
   "id": "adcb51a9",
   "metadata": {},
   "source": [
    "## 1. Setup\n",
    "\n",
    "Begin by importing all of the packages used in this notebook. If your kernel uses an environment defined following the guidance on the [tutorials] page, then the imports will be successful.\n",
    "\n",
    "[tutorials]: https://oceancolor.gsfc.nasa.gov/resources/docs/tutorials/"
   ]
  },
  {
   "cell_type": "code",
   "execution_count": null,
   "id": "b0d1d88a",
   "metadata": {},
   "outputs": [],
   "source": [
    "import os\n",
    "#import earthaccess\n",
    "#from pathlib import Path\n",
    "import cartopy.crs as ccrs\n",
    "import h5netcdf\n",
    "import matplotlib.pyplot as plt\n",
    "import numpy as np\n",
    "import xarray as xr\n",
    "from netCDF4 import Dataset\n",
    "import pandas as pd\n",
    "from PIL import Image, ImageEnhance # Pillow image enhancement library\n",
    "import warnings\n",
    "import matplotlib.pylab as pl\n",
    "from matplotlib.colors import ListedColormap"
   ]
  },
  {
   "cell_type": "markdown",
   "id": "a227973b",
   "metadata": {},
   "source": [
    "In this tutorial, we suppress runtime warnings that show up when calculating log for negative values, which is common with our datasets. "
   ]
  },
  {
   "cell_type": "code",
   "execution_count": null,
   "id": "b8e40b2a",
   "metadata": {},
   "outputs": [],
   "source": [
    "warnings.simplefilter(action='ignore', category=RuntimeWarning)"
   ]
  },
  {
   "cell_type": "markdown",
   "id": "54c5f9cf",
   "metadata": {},
   "source": [
    "[back to top](#contents) <a name=\"other-name\"></a>"
   ]
  },
  {
   "cell_type": "markdown",
   "id": "52e3d23f",
   "metadata": {},
   "source": [
    "## Make image from L2 file processed with OCSSW\n",
    "\n",
    "The best product to create a high-quality RGB image from PACE is the Surface Reflectance (rhos). Cloud-masked rhos are distributed in the SFREFL product suite. If you want to create an image that includes clouds, however, you need to process a L1B file to L2 using l2gen, like we showed in the OCSSW data processing exercise. We will use the L2 file that was created for this exercise. \n",
    "\n",
    "Open the L2 netcdf file you created in the previous exercise in read-mode with netCDF4 and look at the information in the file. \n",
    "\n",
    "If you do not have the file, download it with the following code:\n",
    "\n",
    "```\n",
    "%%bash\n",
    "wget https://oceancolor.gsfc.nasa.gov/fileshare/carina_poulin/PACE_OCI.20240501T165311.L2.SFREFL.nc\n",
    "```"
   ]
  },
  {
   "cell_type": "code",
   "execution_count": null,
   "id": "1d928194",
   "metadata": {},
   "outputs": [],
   "source": [
    "nc_file = \"/home/jovyan/ocssw_test/granules/PACE_OCI.20240605T092137.L2.V2.nc\"\n",
    "\n",
    "with h5netcdf.File(nc_file, 'r') as nc:\n",
    "    groups = list(nc)\n",
    "groups"
   ]
  },
  {
   "cell_type": "markdown",
   "id": "4035df7f",
   "metadata": {},
   "source": [
    "When exploring the dataset, we find that the rhos bands are not identified by their respective wavelength. "
   ]
  },
  {
   "cell_type": "code",
   "execution_count": null,
   "id": "f237c69b",
   "metadata": {},
   "outputs": [],
   "source": [
    "dataset_geo = xr.open_dataset(nc_file, group=\"geophysical_data\")\n",
    "rhos = dataset_geo[\"rhos\"]\n",
    "rhos"
   ]
  },
  {
   "cell_type": "code",
   "execution_count": null,
   "id": "d900efe4",
   "metadata": {},
   "outputs": [],
   "source": [
    "bands = rhos[\"wavelength_3d\"]\n",
    "bands"
   ]
  },
  {
   "cell_type": "markdown",
   "id": "fde419c0",
   "metadata": {},
   "source": [
    "To find the wavelengths corresponding to the bands, we need to look in the sensor band parameters. "
   ]
  },
  {
   "cell_type": "code",
   "execution_count": null,
   "id": "063a1a88",
   "metadata": {},
   "outputs": [],
   "source": [
    "dataset_band_pars = xr.open_dataset(nc_file, group=\"sensor_band_parameters\")\n",
    "\n",
    "wavelength_3d = dataset_band_pars[\"wavelength_3d\"]\n",
    "wavelength_3d"
   ]
  },
  {
   "cell_type": "code",
   "execution_count": null,
   "id": "0d3d69c5",
   "metadata": {
    "scrolled": true
   },
   "outputs": [],
   "source": [
    "df = pd.DataFrame({\"Wavelengths\": wavelength_3d})\n",
    "print(df)"
   ]
  },
  {
   "cell_type": "code",
   "execution_count": null,
   "id": "c8b2db40",
   "metadata": {},
   "outputs": [],
   "source": [
    "dataset = xr.open_dataset(nc_file, group=\"navigation_data\")\n",
    "dataset = dataset.set_coords((\"longitude\", \"latitude\"))\n",
    "dataset = xr.merge((rhos, dataset.coords))\n",
    "dataset"
   ]
  },
  {
   "cell_type": "code",
   "execution_count": null,
   "id": "2cb07860",
   "metadata": {},
   "outputs": [],
   "source": [
    "rhos = dataset[\"rhos\"].sel({\"wavelength_3d\": 25})\n",
    "rhos"
   ]
  },
  {
   "cell_type": "code",
   "execution_count": null,
   "id": "704c87a9",
   "metadata": {},
   "outputs": [],
   "source": [
    "plot = rhos.plot(x=\"longitude\", y=\"latitude\", cmap=\"viridis\", vmin=0)"
   ]
  },
  {
   "cell_type": "code",
   "execution_count": null,
   "id": "3a06df55",
   "metadata": {},
   "outputs": [],
   "source": [
    "# Natural colour single band\n",
    "red = dataset[\"rhos\"].sel({\"wavelength_3d\": 25}) # 645 nm\n",
    "green = dataset[\"rhos\"].sel({\"wavelength_3d\": 17}) # 555 nm\n",
    "blue = dataset[\"rhos\"].sel({\"wavelength_3d\": 2}) # 368 nm\n",
    "rgb = np.dstack((red, green, blue))\n",
    "rgb = (rgb -  np.nanmin(rgb)) / (np.nanmax(rgb) - np.nanmin(rgb)) # Normalize image\n",
    "\n",
    "plt.figure(figsize=(3, 3))\n",
    "plt.imshow(rgb)"
   ]
  },
  {
   "cell_type": "code",
   "execution_count": null,
   "id": "ce1e4e1e",
   "metadata": {},
   "outputs": [],
   "source": [
    "# Create a figure with a projection\n",
    "fig = plt.figure(figsize=(5, 5))\n",
    "ax = plt.subplot(projection=ccrs.PlateCarree())\n",
    "extent=(rhos.longitude.min(), rhos.longitude.max(), rhos.latitude.min(), rhos.latitude.max())\n",
    "ax.imshow(rgb, extent=extent, origin='lower', transform=ccrs.PlateCarree(), interpolation='none')"
   ]
  },
  {
   "cell_type": "markdown",
   "id": "88492779",
   "metadata": {},
   "source": [
    "DO IT EASY IN SEADAS"
   ]
  },
  {
   "cell_type": "code",
   "execution_count": null,
   "id": "c104b117",
   "metadata": {},
   "outputs": [],
   "source": [
    "# OCI True Color 1 band (SEADAS recipe for OCI RGB)\n",
    "rhos_red = dataset[\"rhos\"].sel({\"wavelength_3d\": 25})\n",
    "rhos_green = dataset[\"rhos\"].sel({\"wavelength_3d\": 17})\n",
    "rhos_blue = dataset[\"rhos\"].sel({\"wavelength_3d\": 2})\n",
    "\n",
    "red = np.log(rhos_red/0.01)/np.log(1/0.01)\n",
    "green = np.log(rhos_green/0.01)/np.log(1/0.01)\n",
    "blue = np.log(rhos_blue/0.01)/np.log(1/0.01)\n",
    "rgb = np.dstack((red, green, blue))\n",
    "rgb = (rgb -  np.nanmin(rgb)) / (np.nanmax(rgb) - np.nanmin(rgb))\n",
    "\n",
    "fig = plt.figure(figsize=(5, 5))\n",
    "ax = fig.add_subplot(1, 1, 1, projection=ccrs.PlateCarree())\n",
    "extent=(rhos.longitude.min(), rhos.longitude.max(), rhos.latitude.min(), rhos.latitude.max())\n",
    "ax.imshow(rgb, extent=extent, origin='lower', transform=ccrs.PlateCarree(), interpolation='none')"
   ]
  },
  {
   "cell_type": "code",
   "execution_count": null,
   "id": "2220e196",
   "metadata": {},
   "outputs": [],
   "source": [
    "# OCI True Color 1 band -min/max adjusted\n",
    "vmin = 0.01\n",
    "vmax = 1.04 # Above 1 because whites can be higher than 1\n",
    "#---- \n",
    "\n",
    "rhos_red = dataset[\"rhos\"].sel({\"wavelength_3d\": 25})\n",
    "rhos_green = dataset[\"rhos\"].sel({\"wavelength_3d\": 17})\n",
    "rhos_blue = dataset[\"rhos\"].sel({\"wavelength_3d\": 2})\n",
    "red = np.log(rhos_red/0.01)/np.log(1/0.01)\n",
    "green = np.log(rhos_green/0.01)/np.log(1/0.01)\n",
    "blue = np.log(rhos_blue/0.01)/np.log(1/0.01)\n",
    "red = red.where((red >= vmin) & (red <= vmax), vmin, vmax)\n",
    "green = green.where((green >= vmin) & (green <= vmax), vmin, vmax)\n",
    "blue = blue.where((blue >= vmin) & (blue <= vmax), vmin, vmax)\n",
    "rgb = np.dstack((red, green, blue))\n",
    "rgb = (rgb -  np.nanmin(rgb)) / (np.nanmax(rgb) - np.nanmin(rgb)) #normalize\n",
    "\n",
    "fig = plt.figure(figsize=(5, 5))\n",
    "ax = fig.add_subplot(projection=ccrs.PlateCarree())\n",
    "extent=(rhos.longitude.min(), rhos.longitude.max(), rhos.latitude.min(), rhos.latitude.max())\n",
    "ax.imshow(rgb, extent=extent, origin='lower', transform=ccrs.PlateCarree(), interpolation='none')"
   ]
  },
  {
   "cell_type": "code",
   "execution_count": null,
   "id": "97716ebc",
   "metadata": {
    "lines_to_next_cell": 2
   },
   "outputs": [],
   "source": [
    "# OCI True Color 1 band - Normalized by channel\n",
    "vmin = 0.0\n",
    "vmax = 1.03 #because whites are higher than 1\n",
    "\n",
    "rhos_red = dataset[\"rhos\"].sel({\"wavelength_3d\": 25})\n",
    "rhos_green = dataset[\"rhos\"].sel({\"wavelength_3d\": 17})\n",
    "rhos_blue = dataset[\"rhos\"].sel({\"wavelength_3d\": 2})\n",
    "red = np.log(rhos_red/0.01)/np.log(1/0.01)\n",
    "green = np.log(rhos_green/0.01)/np.log(1/0.01)\n",
    "blue = np.log(rhos_blue/0.01)/np.log(1/0.01)\n",
    "red = red.where((red >= vmin) & (red <= vmax), vmin, vmax)\n",
    "green = green.where((green >= vmin) & (green <= vmax), vmin, vmax)\n",
    "blue = blue.where((blue >= vmin) & (blue <= vmax), vmin, vmax)\n",
    "\n",
    "red = (red - red.min()) / (red.max() - red.min()) # Normaling by channel\n",
    "green = (green - green.min()) / (green.max() - green.min())\n",
    "blue = (blue - blue.min()) / (blue.max() - blue.min())\n",
    "rgb = np.dstack((red, green, blue))\n",
    "rgb = (rgb -  np.nanmin(rgb)) / (np.nanmax(rgb) - np.nanmin(rgb)) #normalize\n",
    "\n",
    "fig = plt.figure(figsize=(5, 5))\n",
    "ax = plt.subplot(projection=ccrs.PlateCarree())\n",
    "extent=(rhos.longitude.min(), rhos.longitude.max(), rhos.latitude.min(), rhos.latitude.max())\n",
    "ax.imshow(rgb, extent=extent, origin='lower', transform=ccrs.PlateCarree(), alpha=1)"
   ]
  },
  {
   "cell_type": "code",
   "execution_count": null,
   "id": "55a00e15",
   "metadata": {},
   "outputs": [],
   "source": [
    "# OCI True Color 1 band -min/max adjusted\n",
    "vmin = 0.01\n",
    "vmax = 1.04 # Above 1 because whites can be higher than 1\n",
    "#---- \n",
    "\n",
    "rhos_red = dataset[\"rhos\"].sel({\"wavelength_3d\": 25})\n",
    "rhos_green = dataset[\"rhos\"].sel({\"wavelength_3d\": 17})\n",
    "rhos_blue = dataset[\"rhos\"].sel({\"wavelength_3d\": 2})\n",
    "red = np.log(rhos_red/0.01)/np.log(1/0.01)\n",
    "green = np.log(rhos_green/0.01)/np.log(1/0.01)\n",
    "blue = np.log(rhos_blue/0.01)/np.log(1/0.01)\n",
    "red = red.where((red >= vmin) & (red <= vmax), vmin, vmax)\n",
    "green = green.where((green >= vmin) & (green <= vmax), vmin, vmax)\n",
    "blue = blue.where((blue >= vmin) & (blue <= vmax), vmin, vmax)\n",
    "rgb = np.dstack((red, green, blue))\n",
    "rgb = (rgb -  np.nanmin(rgb)) / (np.nanmax(rgb) - np.nanmin(rgb)) #normalize\n",
    "\n",
    "fig = plt.figure(figsize=(7, 7))\n",
    "ax = plt.subplot(projection=ccrs.PlateCarree())\n",
    "extent = (rhos.longitude.min(), rhos.longitude.max(), rhos.latitude.min(), rhos.latitude.max())\n",
    "ax.imshow(rgb, extent=extent, origin='lower', transform=ccrs.PlateCarree(), interpolation='none')"
   ]
  },
  {
   "cell_type": "code",
   "execution_count": null,
   "id": "67f06e63",
   "metadata": {},
   "outputs": [],
   "source": [
    "# Image adjustments: change values from 0 to 2, 1 being unchanged\n",
    "contrast = 1.2 \n",
    "brightness = 1.1 \n",
    "sharpness = 2\n",
    "saturation = .8\n",
    "gamma = .95\n",
    "#----\n",
    "\n",
    "normalized_image = (rgb - rgb.min()) / (rgb.max() - rgb.min())\n",
    "normalized_image = normalized_image** gamma\n",
    "normalized_image = (normalized_image* 255).astype(np.uint8)\n",
    "image_pil = Image.fromarray(normalized_image) # Convert numpy array to Pillow Image\n",
    "\n",
    "# Adjust contrast, brightness and sharpness using Pillow\n",
    "enhancer = ImageEnhance.Contrast(image_pil)\n",
    "image_enhanced = enhancer.enhance(contrast)  \n",
    "enhancer = ImageEnhance.Brightness(image_enhanced)\n",
    "image_enhanced = enhancer.enhance(brightness)  \n",
    "enhancer = ImageEnhance.Sharpness(image_enhanced)\n",
    "image_enhanced = enhancer.enhance(sharpness)\n",
    "enhancer = ImageEnhance.Color(image_enhanced)\n",
    "image_enhanced = enhancer.enhance(saturation)\n",
    "enhanced_image_np = np.array(image_enhanced) / 255.0  # Normalize back to [0, 1] range\n",
    "\n",
    "fig = plt.figure(figsize=(7, 7))\n",
    "ax = plt.subplot(projection=ccrs.PlateCarree())\n",
    "extent = (rhos.longitude.min(), rhos.longitude.max(), rhos.latitude.min(), rhos.latitude.max())\n",
    "ax.imshow(enhanced_image_np, extent=extent, origin='lower', transform=ccrs.PlateCarree(), alpha=1)"
   ]
  },
  {
   "cell_type": "code",
   "execution_count": null,
   "id": "bd82a0b0",
   "metadata": {},
   "outputs": [],
   "source": [
    "# OCI False-color for ice clouds\n",
    "vmin = 0.0\n",
    "vmax = 0.68\n",
    "\n",
    "# IR Bands to create false-color image that highlights ice clouds\n",
    "rhos_red = dataset[\"rhos\"].sel({\"wavelength_3d\": 47})\n",
    "rhos_green = dataset[\"rhos\"].sel({\"wavelength_3d\": 48})\n",
    "rhos_blue = dataset[\"rhos\"].sel({\"wavelength_3d\": 49})\n",
    "\n",
    "red = rhos_red.where((rhos_red >= vmin) & (rhos_red <= vmax), vmin, vmax)\n",
    "green = rhos_green.where((rhos_green >= vmin) & (rhos_green <= vmax), vmin, vmax)\n",
    "blue = rhos_blue.where((rhos_blue >= vmin) & (rhos_blue <= vmax), vmin, vmax)\n",
    "red = red[:,8:1267] # Cutting edge pixels to get same-size bands\n",
    "green = green[:,1:1260]\n",
    "rgb = np.dstack((red, green, blue))\n",
    "rgb = (rgb -  np.nanmin(rgb)) / (np.nanmax(rgb) - np.nanmin(rgb)) #normalize\n",
    "\n",
    "fig = plt.figure(figsize=(7, 7))\n",
    "ax = plt.subplot(projection=ccrs.PlateCarree())\n",
    "extent=(rhos.longitude.min(), rhos.longitude.max(), rhos.latitude.min(), rhos.latitude.max())\n",
    "ax.imshow(rgb, extent=extent, origin='lower', transform=ccrs.PlateCarree(), interpolation='none')"
   ]
  },
  {
   "cell_type": "markdown",
   "id": "ef9bd37a",
   "metadata": {},
   "source": [
    "## Make image from L3 file\n",
    "\n",
    "The best product to create a high-quality RGB image from PACE is the Surface Reflectance (rhos). Cloud-masked rhos are distributed in the SFREFL product suite. If you want to create an image that includes clouds, however, you need to process a L1B file to L2 using l2gen, like we showed in the OCSSW data processing exercise. We will use the L2 file that was created for this exercise. \n",
    "\n",
    "Open the L2 netcdf file you created in the previous exercise in read-mode with netCDF4 and look at the information in the file. "
   ]
  },
  {
   "cell_type": "markdown",
   "id": "498ccd94",
   "metadata": {},
   "source": [
    "auth = earthaccess.login(persist=True)"
   ]
  },
  {
   "cell_type": "markdown",
   "id": "c7fa8e19",
   "metadata": {},
   "source": [
    "tspan = (\"2024-07-15\", \"2024-07-15\")\n",
    "bbox = (-76.75, 36.97, -75.74, 39.01)\n",
    "\n",
    "results = earthaccess.search_data(\n",
    "    short_name=\"PACE_OCI_L3M_SFREFL_NRT\",\n",
    "    temporal=tspan,\n",
    "    bounding_box=bbox,\n",
    ")"
   ]
  },
  {
   "cell_type": "markdown",
   "id": "ef96717a",
   "metadata": {},
   "source": [
    "paths = earthaccess.open(results)"
   ]
  },
  {
   "cell_type": "markdown",
   "id": "7682e186",
   "metadata": {},
   "source": [
    "dataset = xr.open_dataset(paths[0])\n",
    "dataset"
   ]
  },
  {
   "cell_type": "code",
   "execution_count": null,
   "id": "7a896a02",
   "metadata": {},
   "outputs": [],
   "source": [
    "nc_file = \"/home/jovyan/ocssw_test/granules/PACE_OCI.20240715.L3m.DAY.SFREFL.V2_0.rhos.0p1deg.NRT.nc\"\n",
    "\n",
    "import h5netcdf\n",
    "with h5netcdf.File(nc_file, 'r') as nc:\n",
    "    groups = list(nc)\n",
    "groups"
   ]
  },
  {
   "cell_type": "markdown",
   "id": "69dbe878",
   "metadata": {},
   "source": [
    "When exploring the dataset, we find that the rhos bands are not identified by their respective wavelength. "
   ]
  },
  {
   "cell_type": "code",
   "execution_count": null,
   "id": "1dd214fd",
   "metadata": {},
   "outputs": [],
   "source": [
    "dataset = xr.open_dataset(nc_file)\n",
    "rhos = dataset[\"rhos\"]\n",
    "rhos"
   ]
  },
  {
   "cell_type": "code",
   "execution_count": null,
   "id": "9a136299",
   "metadata": {
    "scrolled": true
   },
   "outputs": [],
   "source": [
    "wavelength = rhos[\"wavelength\"]\n",
    "df = pd.DataFrame({\"Wavelengths\": wavelength})\n",
    "print(df)\n"
   ]
  },
  {
   "cell_type": "markdown",
   "id": "14988c44",
   "metadata": {},
   "source": [
    "To find the wavelengths corresponding to the bands, we need to look in the sensor band parameters. "
   ]
  },
  {
   "cell_type": "code",
   "execution_count": null,
   "id": "964e3b2f",
   "metadata": {},
   "outputs": [],
   "source": [
    "rhos555 = dataset[\"rhos\"].sel({\"wavelength\": 555})\n",
    "plot = rhos555.plot(x=\"lon\", y=\"lat\", cmap=\"viridis\", vmin=0)"
   ]
  },
  {
   "cell_type": "code",
   "execution_count": null,
   "id": "20b20974",
   "metadata": {},
   "outputs": [],
   "source": [
    "# OCI True Color 1 band -min/max adjusted\n",
    "vmin = 0.01\n",
    "vmax = 1.02 # Above 1 because whites can be higher than 1\n",
    "#---- \n",
    "\n",
    "rhos_red = dataset[\"rhos\"].sel({\"wavelength\": 645}) # 645 nm\n",
    "rhos_green = dataset[\"rhos\"].sel({\"wavelength\": 555}) # 555 nm\n",
    "rhos_blue = dataset[\"rhos\"].sel({\"wavelength\": 465}) # 368 nm\n",
    "red = np.log(rhos_red/0.01)/np.log(1/0.01)\n",
    "green = np.log(rhos_green/0.01)/np.log(1/0.01)\n",
    "blue = np.log(rhos_blue/0.01)/np.log(1/0.01)\n",
    "red = red.where((red >= vmin) & (red <= vmax), vmin, vmax)\n",
    "green = green.where((green >= vmin) & (green <= vmax), vmin, vmax)\n",
    "blue = blue.where((blue >= vmin) & (blue <= vmax), vmin, vmax)\n",
    "rgb = np.dstack((red, green, blue))\n",
    "rgb = (rgb -  np.nanmin(rgb)) / (np.nanmax(rgb) - np.nanmin(rgb))\n",
    "\n",
    "plt.figure(figsize=(15, 15))\n",
    "plt.imshow(rgb)\n",
    "plt.axis('off')\n",
    "plt.axis(\"image\")"
   ]
  },
  {
   "cell_type": "code",
   "execution_count": null,
   "id": "90cc96a5",
   "metadata": {},
   "outputs": [],
   "source": [
    "# Image adjustments: change values from 0 to 2, 1 being unchanged\n",
    "contrast = 1.5 \n",
    "brightness = 1.02 \n",
    "sharpness = 2\n",
    "saturation = 1.1\n",
    "gamma = .95\n",
    "#----\n",
    "\n",
    "normalized_image = (rgb - rgb.min()) / (rgb.max() - rgb.min())\n",
    "normalized_image = normalized_image** gamma\n",
    "normalized_image = (normalized_image* 255).astype(np.uint8)\n",
    "image_pil = Image.fromarray(normalized_image)\n",
    "enhancer = ImageEnhance.Contrast(image_pil)\n",
    "image_enhanced = enhancer.enhance(contrast)  \n",
    "enhancer = ImageEnhance.Brightness(image_enhanced)\n",
    "image_enhanced = enhancer.enhance(brightness)  \n",
    "enhancer = ImageEnhance.Sharpness(image_enhanced)\n",
    "image_enhanced = enhancer.enhance(sharpness)\n",
    "enhancer = ImageEnhance.Color(image_enhanced)\n",
    "image_enhanced = enhancer.enhance(saturation)\n",
    "enhanced_image_np = np.array(image_enhanced) / 255.0\n",
    "\n",
    "plt.figure(figsize=(10, 10))\n",
    "plt.imshow(enhanced_image_np)\n",
    "plt.axis('off')\n",
    "plt.axis(\"image\")"
   ]
  },
  {
   "cell_type": "code",
   "execution_count": null,
   "id": "49c8d1ee",
   "metadata": {},
   "outputs": [],
   "source": [
    "# Create a large figure and export to png\n",
    "plt.figure(figsize=(25, 25))\n",
    "plt.imshow(enhanced_image_np)\n",
    "plt.axis('off')\n",
    "plt.axis(\"image\")\n",
    "plt.savefig('mapJuly152024.png')"
   ]
  },
  {
   "cell_type": "markdown",
   "id": "1a2bb434",
   "metadata": {},
   "source": [
    "### MOANA"
   ]
  },
  {
   "cell_type": "code",
   "execution_count": null,
   "id": "72f28f24",
   "metadata": {},
   "outputs": [],
   "source": [
    "nc_file = \"/home/jovyan/PACE_OCI.20240309T115927.L2.BGC.nc\"\n",
    "\n",
    "import h5netcdf\n",
    "with h5netcdf.File(nc_file, 'r') as nc:\n",
    "    groups = list(nc)\n",
    "groups"
   ]
  },
  {
   "cell_type": "code",
   "execution_count": null,
   "id": "cb4eda11",
   "metadata": {},
   "outputs": [],
   "source": [
    "dataset_geo = xr.open_dataset(nc_file, group=\"geophysical_data\")\n",
    "dataset_geo"
   ]
  },
  {
   "cell_type": "code",
   "execution_count": null,
   "id": "76275347",
   "metadata": {},
   "outputs": [],
   "source": [
    "rhos_465 = dataset_geo[\"rhos_465\"]\n",
    "rhos_555 = dataset_geo[\"rhos_555\"]\n",
    "rhos_645 = dataset_geo[\"rhos_645\"]\n",
    "syn = dataset_geo[\"syncoccus_moana\"]\n",
    "pro = dataset_geo[\"prococcus_moana\"]\n",
    "pico = dataset_geo[\"picoeuk_moana\"]\n",
    "\n",
    "dataset = xr.open_dataset(nc_file, group=\"navigation_data\")\n",
    "dataset = dataset.set_coords((\"longitude\", \"latitude\"))\n",
    "dataset = xr.merge((rhos_465, rhos_555, rhos_645, syn, pro, pico, dataset.coords))\n",
    "dataset"
   ]
  },
  {
   "cell_type": "code",
   "execution_count": null,
   "id": "0cb80ced",
   "metadata": {},
   "outputs": [],
   "source": [
    "plot = dataset[\"rhos_555\"].plot(x=\"longitude\", y=\"latitude\", cmap=\"viridis\", vmin=0)"
   ]
  },
  {
   "cell_type": "code",
   "execution_count": null,
   "id": "332cb574",
   "metadata": {},
   "outputs": [],
   "source": [
    "# OCI True Color 1 band -min/max adjusted\n",
    "vmin = 0.01\n",
    "vmax = 1.04 # Above 1 because whites can be higher than 1\n",
    "#---- \n",
    "\n",
    "rhos_red = dataset[\"rhos_645\"]\n",
    "rhos_green = dataset[\"rhos_555\"]\n",
    "rhos_blue = dataset[\"rhos_465\"]\n",
    "red = np.log(rhos_red/0.01)/np.log(1/0.01)\n",
    "green = np.log(rhos_green/0.01)/np.log(1/0.01)\n",
    "blue = np.log(rhos_blue/0.01)/np.log(1/0.01)\n",
    "red = red.where((red >= vmin) & (red <= vmax), vmin, vmax)\n",
    "green = green.where((green >= vmin) & (green <= vmax), vmin, vmax)\n",
    "blue = blue.where((blue >= vmin) & (blue <= vmax), vmin, vmax)\n",
    "rgb = np.dstack((red, green, blue))\n",
    "rgb = (rgb -  np.nanmin(rgb)) / (np.nanmax(rgb) - np.nanmin(rgb)) #normalize\n",
    "\n",
    "fig = plt.figure(figsize=(5, 5))\n",
    "ax = fig.add_subplot(projection=ccrs.PlateCarree())\n",
    "ax.imshow(rgb,\n",
    "          extent=(dataset.longitude.min(), dataset.longitude.max(), dataset.latitude.min(), dataset.latitude.max()),\n",
    "          origin='lower', transform=ccrs.PlateCarree(), interpolation='none')"
   ]
  },
  {
   "cell_type": "code",
   "execution_count": null,
   "id": "bdf30f93",
   "metadata": {
    "lines_to_next_cell": 0
   },
   "outputs": [],
   "source": [
    "# Image adjustments: change values from 0 to 2, 1 being unchanged\n",
    "contrast = 1.72\n",
    "brightness = 1 \n",
    "sharpness = 2\n",
    "saturation = 1.3\n",
    "gamma = .43\n",
    "#----\n",
    "\n",
    "normalized_image = (rgb - rgb.min()) / (rgb.max() - rgb.min())\n",
    "normalized_image = normalized_image** gamma\n",
    "normalized_image = (normalized_image* 255).astype(np.uint8)\n",
    "image_pil = Image.fromarray(normalized_image)\n",
    "enhancer = ImageEnhance.Contrast(image_pil)\n",
    "image_enhanced = enhancer.enhance(contrast)  \n",
    "enhancer = ImageEnhance.Brightness(image_enhanced)\n",
    "image_enhanced = enhancer.enhance(brightness)  \n",
    "enhancer = ImageEnhance.Sharpness(image_enhanced)\n",
    "image_enhanced = enhancer.enhance(sharpness)\n",
    "enhancer = ImageEnhance.Color(image_enhanced)\n",
    "image_enhanced = enhancer.enhance(saturation)\n",
    "enhanced_image_np = np.array(image_enhanced) / 255.0  # Normalize back to [0, 1] range\n",
    "\n",
    "fig = plt.figure(figsize=(5, 5))\n",
    "ax = plt.subplot(projection=ccrs.PlateCarree())\n",
    "extent=(dataset.longitude.min(), dataset.longitude.max(), dataset.latitude.min(), dataset.latitude.max())\n",
    "ax.imshow(enhanced_image_np, extent=extent, origin='lower', transform=ccrs.PlateCarree(), alpha=1)"
   ]
  },
  {
   "cell_type": "code",
   "execution_count": null,
   "id": "563a353c",
   "metadata": {
    "lines_to_next_cell": 2
   },
   "outputs": [],
   "source": []
  },
  {
   "cell_type": "code",
   "execution_count": null,
   "id": "32894581",
   "metadata": {},
   "outputs": [],
   "source": [
    "fig = plt.figure(figsize=(5, 5))\n",
    "ax = fig.add_subplot(projection=ccrs.PlateCarree())\n",
    "extent=(dataset.longitude.min(), dataset.longitude.max(), dataset.latitude.min(), dataset.latitude.max())\n",
    "ax.imshow(dataset[\"syncoccus_moana\"], extent=extent, origin='lower', transform=ccrs.PlateCarree(), interpolation='none', cmap=\"Reds\", vmin=0, vmax=35000, alpha = 1)"
   ]
  },
  {
   "cell_type": "markdown",
   "id": "e84a09f2",
   "metadata": {},
   "source": [
    "Create transparent color maps for MOANA products"
   ]
  },
  {
   "cell_type": "code",
   "execution_count": null,
   "id": "7ab41667",
   "metadata": {},
   "outputs": [],
   "source": [
    "cmap_greens = pl.cm.Greens # Get original color map\n",
    "my_cmap_greens = cmap_greens(np.arange(cmap_greens.N)) \n",
    "my_cmap_greens[:,-1] = np.linspace(0, 1, cmap_greens.N) # Set alpha for transparency\n",
    "my_cmap_greens = ListedColormap(my_cmap_greens) # Create new colormap\n",
    "cmap_reds = pl.cm.Reds\n",
    "my_cmap_reds = cmap_reds(np.arange(cmap_reds.N))\n",
    "my_cmap_reds[:,-1] = np.linspace(0, 1, cmap_reds.N)\n",
    "my_cmap_reds = ListedColormap(my_cmap_reds)\n",
    "cmap_blues = pl.cm.Blues\n",
    "my_cmap_blues = cmap_blues(np.arange(cmap_blues.N))\n",
    "my_cmap_blues[:,-1] = np.linspace(0, 1, cmap_blues.N)\n",
    "my_cmap_blues = ListedColormap(my_cmap_blues)\n",
    "\n",
    "fig = plt.figure(figsize=(5, 5))\n",
    "ax = fig.add_subplot(projection=ccrs.PlateCarree())\n",
    "extent=(dataset.longitude.min(), dataset.longitude.max(), dataset.latitude.min(), dataset.latitude.max())\n",
    "ax.imshow(dataset[\"syncoccus_moana\"], extent=extent, origin='lower', transform=ccrs.PlateCarree(), interpolation='none', cmap=my_cmap_reds, vmin=0, vmax=35000, alpha = 1)"
   ]
  },
  {
   "cell_type": "code",
   "execution_count": null,
   "id": "cc606ace",
   "metadata": {
    "lines_to_next_cell": 0
   },
   "outputs": [],
   "source": [
    "# Image adjustments: change values from 0 to 2, 1 being unchanged\n",
    "contrast = 1.9 \n",
    "brightness = 1 \n",
    "sharpness = 2\n",
    "saturation = 1.4\n",
    "gamma = .48\n",
    "#----\n",
    "\n",
    "normalized_image = (rgb - rgb.min()) / (rgb.max() - rgb.min())\n",
    "normalized_image = normalized_image** gamma\n",
    "normalized_image = (normalized_image* 255).astype(np.uint8)\n",
    "image_pil = Image.fromarray(normalized_image)\n",
    "enhancer = ImageEnhance.Contrast(image_pil)\n",
    "image_enhanced = enhancer.enhance(contrast)  \n",
    "enhancer = ImageEnhance.Brightness(image_enhanced)\n",
    "image_enhanced = enhancer.enhance(brightness)  \n",
    "enhancer = ImageEnhance.Sharpness(image_enhanced)\n",
    "image_enhanced = enhancer.enhance(sharpness)\n",
    "enhancer = ImageEnhance.Color(image_enhanced)\n",
    "image_enhanced = enhancer.enhance(saturation)\n",
    "enhanced_image_np = np.array(image_enhanced) / 255.0  # Normalize back to [0, 1] range\n",
    "\n",
    "fig = plt.figure(figsize=(7, 7))\n",
    "ax = plt.subplot(projection=ccrs.PlateCarree())\n",
    "extent=(dataset.longitude.min(), dataset.longitude.max(), dataset.latitude.min(), dataset.latitude.max())\n",
    "ax.imshow(enhanced_image_np, extent=extent, origin='lower', transform=ccrs.PlateCarree(), alpha=1)\n",
    "ax.imshow(dataset[\"prococcus_moana\"], extent=extent, origin='lower', transform=ccrs.PlateCarree(), interpolation='none', cmap=my_cmap_blues, vmin=0, vmax=300000, alpha = .5)\n",
    "ax.imshow(dataset[\"syncoccus_moana\"], extent=extent, origin='lower', transform=ccrs.PlateCarree(), interpolation='none', cmap=my_cmap_reds, vmin=0, vmax=20000, alpha = .5)\n",
    "ax.imshow(dataset[\"picoeuk_moana\"], extent=extent, origin='lower', transform=ccrs.PlateCarree(), interpolation='none', cmap=my_cmap_greens, vmin=0, vmax=50000, alpha = .5)\n",
    "plt.show()"
   ]
  },
  {
   "cell_type": "code",
   "execution_count": null,
   "id": "cc9f1cc3",
   "metadata": {
    "lines_to_next_cell": 2
   },
   "outputs": [],
   "source": []
  }
 ],
 "metadata": {
  "jupytext": {
   "cell_metadata_filter": "-all,scrolled,tags",
   "main_language": "python",
   "notebook_metadata_filter": "-all"
  }
 },
 "nbformat": 4,
 "nbformat_minor": 5
}
