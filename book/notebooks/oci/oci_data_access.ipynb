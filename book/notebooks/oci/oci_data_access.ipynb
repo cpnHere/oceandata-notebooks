{
 "cells": [
  {
   "cell_type": "markdown",
   "id": "ee486928",
   "metadata": {},
   "source": [
    "# Access Data from the Ocean Color Instrument (OCI)\n",
    "\n",
    "**Authors:** Anna Windle (NASA, SSAI), Ian Carroll (NASA, UMBC), Carina Poulin (NASA, SSAI)\n",
    "\n",
    "<div class=\"alert alert-info\" role=\"alert\">\n",
    "\n",
    "An [Earthdata Login][edl] account is required to access data from the NASA Earthdata system, including NASA ocean color data.\n",
    "\n",
    "</div>\n",
    "\n",
    "[edl]: https://urs.earthdata.nasa.gov/\n",
    "[oci-data-access]: https://oceancolor.gsfc.nasa.gov/resources/docs/tutorials/notebooks/oci_data_access/\n",
    "\n",
    "## Summary\n",
    "\n",
    "In this example we will use the `earthaccess` package to search for\n",
    "OCI products on NASA Earthdata. The `earthaccess` package, published\n",
    "on the [Python Package Index][pypi] and [conda-forge][conda],\n",
    "facilitates discovery and use of all NASA Earth Science data\n",
    "products by providing an abstraction layer for NASA’s [Common\n",
    "Metadata Repository (CMR) API][cmr] and by simplifying requests to\n",
    "NASA's [Earthdata Cloud][edcloud]. Searching for data is more\n",
    "approachable using `earthaccess` than low-level HTTP requests, and\n",
    "the same goes for S3 requests.\n",
    "\n",
    "In short, `earthaccess` helps **authenticate** with Earthdata Login,\n",
    "makes **search** easier, and provides a stream-lined way to **load\n",
    "data** into `xarray` containers. For more on `earthaccess`, visit\n",
    "the [documentation][earthaccess-docs] site. Be aware that\n",
    "`earthaccess` is under active development.\n",
    "\n",
    "To understand the discussions below on downloading and opening data,\n",
    "we need to clearly understand **where our notebook is\n",
    "running**. There are three cases to distinguish:\n",
    "\n",
    "1. The notebook is running on the local host. For instance, you started a Jupyter server on your laptop.\n",
    "1. The notebook is running on a remote host, but it does not have direct access to the NASA Earthdata Cloud. For instance, you are running in [GitHub Codespaces][codespaces].\n",
    "1. The notebook is running on a remote host that does have direct access to the NASA Earthdata Cloud. At this time, we cannot provide a \"for instance\" which is available to everyone.\n",
    "\n",
    "[pypi]: https://pypi.org/\n",
    "[conda]: https://oceancolor.gsfc.nasa.gov/resources/docs/tutorials/notebooks/oci-data-access/\n",
    "[cmr]: https://www.earthdata.nasa.gov/eosdis/science-system-description/eosdis-components/cmr\n",
    "[edcloud]: https://www.earthdata.nasa.gov/eosdis/cloud-evolution\n",
    "[earthaccess-docs]: https://earthaccess.readthedocs.io/en/latest/\n",
    "[codespaces]: https://github.com/features/codespaces\n",
    "\n",
    "## Learning Objectives\n",
    "\n",
    "At the end of this notebook you will know:\n",
    "\n",
    "* How to store your NASA Earthdata Login credentials with `earthaccess`\n",
    "* How to use `earthaccess` to search for OCI data using search filters\n",
    "* How to download OCI data, but only when you need to\n",
    "\n",
    "## Contents\n",
    "\n",
    "1. [Setup](#1.-Setup)\n",
    "2. [NASA Earthdata Authentication](#2.-NASA-Earthdata-Authentication)\n",
    "3. [Search for Data](#3.-Search-for-Data)\n",
    "4. [Download Data](#4.-Download-Data)"
   ]
  },
  {
   "cell_type": "markdown",
   "id": "158fd04a",
   "metadata": {},
   "source": [
    "## 1. Setup\n",
    "\n",
    "We begin by importing the only package used in this notebook. If you\n",
    "have created an environment following the [guidance][tutorials]\n",
    "provided with this tutorial, then the import will be successful.\n",
    "\n",
    "[tutorials]: https://oceancolor.gsfc.nasa.gov/resources/docs/tutorials"
   ]
  },
  {
   "cell_type": "code",
   "execution_count": null,
   "id": "b8479840",
   "metadata": {},
   "outputs": [],
   "source": [
    "import earthaccess"
   ]
  },
  {
   "cell_type": "markdown",
   "id": "025325ab",
   "metadata": {},
   "source": [
    "[back to top](#Contents)"
   ]
  },
  {
   "cell_type": "markdown",
   "id": "692a430f",
   "metadata": {},
   "source": [
    "## 2. NASA Earthdata Authentication\n",
    "\n",
    "Next, we authenticate using our Earthdata Login\n",
    "credentials. Authentication is not needed to search publicaly\n",
    "available collections in Earthdata, but is always needed to access\n",
    "data. We can use the `login` method from the `earthaccess`\n",
    "package. This will create an authenticated session when we provide a\n",
    "valid Earthdata Login username and password. The `earthaccess`\n",
    "package will search for credentials defined by **environmental\n",
    "variables** or within a **.netrc** file saved in the home\n",
    "directory. If credentials are not found, an interactive prompt will\n",
    "allow you to input credentials.\n",
    "\n",
    "<div class=\"alert alert-info\" role=\"alert\">\n",
    "\n",
    "The `persist=True` argument ensures any discovered credentials are\n",
    "stored in a `.netrc` file, so the argument is not necessary (but\n",
    "it's also harmless) for subsequent calls to `earthaccess.login`.\n",
    "\n",
    "</div>"
   ]
  },
  {
   "cell_type": "code",
   "execution_count": null,
   "id": "6331a0e1",
   "metadata": {},
   "outputs": [],
   "source": [
    "auth = earthaccess.login(persist=True)"
   ]
  },
  {
   "cell_type": "markdown",
   "id": "415acf05",
   "metadata": {},
   "source": [
    "[back to top](#Contents)"
   ]
  },
  {
   "cell_type": "markdown",
   "id": "dd739a28",
   "metadata": {},
   "source": [
    "## 3. Search for Data\n",
    "\n",
    "Collections on NASA Earthdata are discovered with the\n",
    "`search_datasets` function, which accepts an `instrument` filter as an\n",
    "easy way to get started. Each of the items in the list of\n",
    "collections returned has a \"short-name\"."
   ]
  },
  {
   "cell_type": "code",
   "execution_count": null,
   "id": "f03b68f9",
   "metadata": {},
   "outputs": [],
   "source": [
    "results = earthaccess.search_datasets(instrument=\"oci\")"
   ]
  },
  {
   "cell_type": "code",
   "execution_count": null,
   "id": "76e55e7f",
   "metadata": {},
   "outputs": [],
   "source": [
    "for item in results:\n",
    "    summary = item.summary()\n",
    "    print(summary[\"short-name\"])"
   ]
  },
  {
   "cell_type": "markdown",
   "id": "26e5eb37",
   "metadata": {},
   "source": [
    "Next, we use the `search_data` function to find granules within a\n",
    "collection. Let's use the `short_name` for the PACE/OCI Level-2\n",
    "quick-look, or near real time (NRT), product for biogeochemical properties (although you can\n",
    "search for granules accross collections too).\n",
    "\n",
    "<div class=\"alert alert-info\" role=\"alert\">\n",
    "\n",
    "The short name can also be found on [Earthdata Search](https://search.earthdata.nasa.gov/search?fi=OCI),\n",
    "directly under the collection name, after clicking on the \"i\" button for a collection in any search result.\n",
    "\n",
    "</div>\n",
    "\n",
    "The `count` argument limits the number of granules whose metadata is returned and stored in the `results` list."
   ]
  },
  {
   "cell_type": "code",
   "execution_count": null,
   "id": "ac4221f3",
   "metadata": {},
   "outputs": [],
   "source": [
    "results = earthaccess.search_data(\n",
    "    short_name=\"PACE_OCI_L2_BGC_NRT\",\n",
    "    count=1,\n",
    ")"
   ]
  },
  {
   "cell_type": "markdown",
   "id": "91cb151e",
   "metadata": {},
   "source": [
    "We can refine our search by passing more parameters that describe\n",
    "the spatiotemporal domain of our use case. Here, we use the\n",
    "`temporal` parameter to request a date range and the `bounding_box`\n",
    "parameter to request granules that intersect with a bounding box. We\n",
    "can even provide a `cloud_cover` threshold to limit files that have\n",
    "a lower percetnage of cloud cover. We do not provide a `count`, so\n",
    "we'll get all granules that satisfy the constraints."
   ]
  },
  {
   "cell_type": "code",
   "execution_count": null,
   "id": "1fa00df1",
   "metadata": {},
   "outputs": [],
   "source": [
    "tspan = (\"2024-05-01\", \"2024-05-16\")\n",
    "bbox = (-76.75, 36.97, -75.74, 39.01)\n",
    "clouds = (0, 50)"
   ]
  },
  {
   "cell_type": "code",
   "execution_count": null,
   "id": "cc7bef4e",
   "metadata": {},
   "outputs": [],
   "source": [
    "results = earthaccess.search_data(\n",
    "    short_name=\"PACE_OCI_L2_BGC_NRT\",\n",
    "    temporal=tspan,\n",
    "    bounding_box=bbox,\n",
    "    cloud_cover=clouds,\n",
    ")"
   ]
  },
  {
   "cell_type": "markdown",
   "id": "47139bdc",
   "metadata": {},
   "source": [
    "Displaying results shows the direct download link: try it! The\n",
    "link will download one granule to your local machine, which may or\n",
    "may not be what you want to do. Even if you are running the notebook\n",
    "on a remote host, this download link will open a new browser tab or\n",
    "window and offer to save a file to your local machine. If you are\n",
    "running the notebook locally, this may be of use. However, in the\n",
    "next section we'll see how to download all the results with one\n",
    "command."
   ]
  },
  {
   "cell_type": "code",
   "execution_count": null,
   "id": "43b2b206",
   "metadata": {},
   "outputs": [],
   "source": [
    "results[0]"
   ]
  },
  {
   "cell_type": "code",
   "execution_count": null,
   "id": "cdf11b73",
   "metadata": {},
   "outputs": [],
   "source": [
    "results[1]"
   ]
  },
  {
   "cell_type": "code",
   "execution_count": null,
   "id": "56d09b11",
   "metadata": {},
   "outputs": [],
   "source": [
    "results[2]"
   ]
  },
  {
   "cell_type": "markdown",
   "id": "78c1cd84",
   "metadata": {},
   "source": [
    "[back to top](#Contents)"
   ]
  },
  {
   "cell_type": "markdown",
   "id": "ed0a5a44",
   "metadata": {},
   "source": [
    "## 4. Download Data\n",
    "\n",
    "An upcoming tutorial will need access to Level-1 files, whether or not we have direct access to the Earthdata Cloud, so let's go ahead and download a couple granules. As always, we start with an `earthaccess.search_data`."
   ]
  },
  {
   "cell_type": "code",
   "execution_count": null,
   "id": "25c31b9e",
   "metadata": {},
   "outputs": [],
   "source": [
    "results = earthaccess.search_data(\n",
    "    short_name=\"PACE_OCI_L1B_SCI\",\n",
    "    temporal=tspan,\n",
    "    bounding_box=bbox,\n",
    "    count=2,\n",
    ")"
   ]
  },
  {
   "cell_type": "markdown",
   "id": "352ad305",
   "metadata": {},
   "source": [
    "Now, we need to first understand the alternative to downloading granules, since you may be surprised\n",
    "that there is an alternative at all. The `earthaccess.open` function accepts the list of results from\n",
    "`earthaccess.search_data` and returns a list of file-like objects. No actual files are transferred."
   ]
  },
  {
   "cell_type": "code",
   "execution_count": null,
   "id": "dcb85af6",
   "metadata": {},
   "outputs": [],
   "source": [
    "paths = earthaccess.open(results)"
   ]
  },
  {
   "cell_type": "markdown",
   "id": "6aa83b75",
   "metadata": {},
   "source": [
    "The file-like objects held in `paths` can each be read like a normal\n",
    "file. Here we load the first few bytes without any specialized\n",
    "reader."
   ]
  },
  {
   "cell_type": "code",
   "execution_count": null,
   "id": "168c8e07",
   "metadata": {},
   "outputs": [],
   "source": [
    "with paths[0] as file:\n",
    "    line = file.readline().strip()\n",
    "line"
   ]
  },
  {
   "cell_type": "markdown",
   "id": "fc273cda",
   "metadata": {},
   "source": [
    "Of course that doesn't mean anything (or does it? 😉), because this is\n",
    "a binary file that needs a reader which understands the file format.\n",
    "\n",
    "The `earthaccess.open` function is used when you want to directly read\n",
    "a bytes from a remote filesystem, but not download a whole file. When\n",
    "running code on a host with direct access to the NASA Earthdata\n",
    "Cloud, you don't need to download the data and `earthaccess.open`\n",
    "is the way to go.\n",
    "\n",
    "Now, let's look at the `earthaccess.download` function, which is used\n",
    "to copy files onto a filesystem local to the machine executing the\n",
    "code. For this function, provide the output of\n",
    "`earthaccess.search_data` along with a directory where `earthaccess`\n",
    "will store downloaded granules.\n",
    "\n",
    "Even if you only want to read a slice of the data, and downloading\n",
    "seems unncessary, if you use `earthaccess.open` while not running on\n",
    "a remote host with direct access to the NASA Earthdata Cloud,\n",
    "performance will be very poor. This is not a problem with \"the\n",
    "cloud\" or with `earthaccess`, it has to do with the data format and\n",
    "may soon be resolved.\n",
    "\n",
    "Let's continue to downloading the list of granules!"
   ]
  },
  {
   "cell_type": "code",
   "execution_count": null,
   "id": "8eb47132",
   "metadata": {},
   "outputs": [],
   "source": [
    "paths = earthaccess.download(results, local_path=\"L1B\")"
   ]
  },
  {
   "cell_type": "markdown",
   "id": "f744f9d1",
   "metadata": {},
   "source": [
    "The `paths` list now contains paths to actual files on the local\n",
    "filesystem."
   ]
  },
  {
   "cell_type": "code",
   "execution_count": null,
   "id": "2ef7d578",
   "metadata": {},
   "outputs": [],
   "source": [
    "paths"
   ]
  },
  {
   "cell_type": "markdown",
   "id": "ab8665ec",
   "metadata": {},
   "source": [
    "<div class=\"alert alert-block alert-warning\">\n",
    "\n",
    "Anywhere in any of [these notebooks](https://oceancolor.gsfc.nasa.gov/resources/docs/tutorials/) where `paths = earthaccess.open(...)` is used to read data directly from the NASA Earthdata Cloud, you need to substitute `paths = earthaccess.download(..., local_path)` before running the notebook on a local host or a remote host that does not have direct access to the NASA Earthdata Cloud.\n",
    "\n",
    "</div>"
   ]
  },
  {
   "cell_type": "markdown",
   "id": "9c2709b7",
   "metadata": {},
   "source": [
    "[back to top](#Contents)\n",
    "\n",
    "<div class=\"alert alert-info\" role=\"alert\">\n",
    "\n",
    "You have completed the notebook on downloading and opening datasets. We now suggest starting the notebook on File Structure at Three Processing Levels.\n",
    "\n",
    "</div>"
   ]
  }
 ],
 "metadata": {
  "jupytext": {
   "cell_metadata_filter": "scrolled,tags,-all",
   "main_language": "python",
   "notebook_metadata_filter": "-all,jupytext,license"
  }
 },
 "nbformat": 4,
 "nbformat_minor": 5
}
