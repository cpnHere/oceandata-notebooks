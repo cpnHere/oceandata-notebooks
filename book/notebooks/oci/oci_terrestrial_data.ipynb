{
 "cells": [
  {
   "cell_type": "markdown",
   "id": "c95e44da",
   "metadata": {},
   "source": [
    "# Orientation to PACE OCI Terrestrial Products\n",
    "**Tutorial Lead:** Skye Caplan (NASA, SSAI)\n",
    "\n",
    "<div class=\"alert alert-info\" role=\"alert\">\n",
    "\n",
    "An [Earthdata Login][edl] account is required to access data from the NASA Earthdata system, including NASA ocean color data.\n",
    "\n",
    "</div>\n",
    "\n",
    "[edl]: https://urs.earthdata.nasa.gov/\n",
    "\n",
    "## Summary\n",
    "\n",
    "This notebook will use `earthaccess` to search and access PACE OCI surface reflectance data and provide tools for visualization and masking. This notebook also includes example code to convert netcdfs to GeoTIFFs, making them compatible in a GIS platform.\n",
    "\n",
    "## Learning objectives\n",
    "\n",
    "By the end of this notebook you will be able to:\n",
    "- Open PACE OCI surface reflectance products\n",
    "- Mask those products for features you want to exclude from your analysis that are flagged in the data\n",
    "- Convert Level-2 OCI data to a GIS compatible format\n",
    "- Export those GIS compatible data as a GeoTIFF\n",
    "\n",
    "\n",
    "## Contents\n",
    "1. [Setup](#1.-Setup)\n",
    "2. [Search and Open Surface Reflectance Data](#2.-Search-and-Open-Surface-Reflectance-Data)\n",
    "3. [Mask Data for Clouds and Water](#3.-Mask-Data-for-Clouds-and-Water)\n",
    "4. [GIS Compatibility](#4.-GIS-Compatibility)\n",
    "5. [Convert netCDF to GeoTIFF Format](#5.-Convert-netCDF-to-GeoTIFF-Format)"
   ]
  },
  {
   "cell_type": "markdown",
   "id": "f4dd48e8",
   "metadata": {},
   "source": [
    "## 1. Setup\n",
    "\n",
    "We begin by importing the packages used in this notebook."
   ]
  },
  {
   "cell_type": "code",
   "execution_count": null,
   "id": "90163c65",
   "metadata": {
    "lines_to_next_cell": 2
   },
   "outputs": [],
   "source": [
    "import cartopy.crs as ccrs\n",
    "import cf_xarray  # noqa: F401 (unused-import)\n",
    "import earthaccess\n",
    "import matplotlib.pyplot as plt\n",
    "import numpy as np\n",
    "import xarray as xr\n",
    "from xarray.backends.api import open_datatree"
   ]
  },
  {
   "cell_type": "markdown",
   "id": "a463fa4e",
   "metadata": {},
   "source": [
    "[back to top](#Contents)"
   ]
  },
  {
   "cell_type": "markdown",
   "id": "ae1668dc",
   "metadata": {},
   "source": [
    "## 2. Search and Open Surface Reflectance Data\n",
    "\n",
    "Set and persist your Earthdata login credentials"
   ]
  },
  {
   "cell_type": "code",
   "execution_count": null,
   "id": "fc13dcea",
   "metadata": {},
   "outputs": [],
   "source": [
    "auth = earthaccess.login(persist=True)"
   ]
  },
  {
   "cell_type": "markdown",
   "id": "4f36cab3",
   "metadata": {},
   "source": [
    "We will use 'earthaccess' to search and open a specific L2 surface reflectance granule covering the Great Lakes."
   ]
  },
  {
   "cell_type": "code",
   "execution_count": null,
   "id": "1c93bb24",
   "metadata": {},
   "outputs": [],
   "source": [
    "results = earthaccess.search_data(\n",
    "    short_name=\"PACE_OCI_L2_SFREFL\",\n",
    "    granule_name=\"*20240701T175112*\",\n",
    ")\n",
    "results[0]"
   ]
  },
  {
   "cell_type": "code",
   "execution_count": null,
   "id": "84c199f1",
   "metadata": {},
   "outputs": [],
   "source": [
    "paths = earthaccess.open(results)\n",
    "paths"
   ]
  },
  {
   "cell_type": "code",
   "execution_count": null,
   "id": "01dcce99",
   "metadata": {},
   "outputs": [],
   "source": [
    "paths = earthaccess.download(results, local_path=\"data\")\n",
    "paths"
   ]
  },
  {
   "cell_type": "markdown",
   "id": "3e1f5b63",
   "metadata": {},
   "source": [
    "We will use open_datatree() to open up all variables within the NetCDF and set the coordinates to the lat, lon variables."
   ]
  },
  {
   "cell_type": "code",
   "execution_count": null,
   "id": "89a2ad20",
   "metadata": {},
   "outputs": [],
   "source": [
    "datatree = open_datatree(paths[0])\n",
    "wavelengths = datatree.sensor_band_parameters.wavelength_3d.values\n",
    "dataset_dict = datatree.geophysical_data.to_dict()\n",
    "dataset_dict.update(datatree.navigation_data.to_dict())\n",
    "# TODO: Find a way to either add wavelength_3d values to the dataset or create a dict of wavelength 3d indices = actual wavelength?? for plot below.\n",
    "# dataset_dict.update({\"wavelength_3d\":datatree.sensor_band_parameters.wavelength_3d.to_dict()})\n",
    "dataset = xr.merge(dataset_dict.values())\n",
    "dataset = dataset.set_coords((\"longitude\", \"latitude\"))\n",
    "dataset"
   ]
  },
  {
   "cell_type": "markdown",
   "id": "ac446b2c",
   "metadata": {},
   "source": [
    "In the above print-out of our L2 file, we see the data variables `rhos` and `l2_flags`. The `rhos` variable are surface reflectances, and the `l2_flags` are quality flags as defined by the [Ocean Biology Processing Group].\n",
    "\n",
    "[Ocean Biology Processing Group]:https://oceancolor.gsfc.nasa.gov/resources/atbd/ocl2flags/\n",
    "\n",
    "We can also see which wavelengths the surface reflectances correspond to by opening the `wavelength_3d` coordinate:"
   ]
  },
  {
   "cell_type": "markdown",
   "id": "d89f5722",
   "metadata": {},
   "source": [
    "Let's plot surface reflectance at 555 nm."
   ]
  },
  {
   "cell_type": "code",
   "execution_count": null,
   "id": "f82ec1a2",
   "metadata": {},
   "outputs": [],
   "source": [
    "rhos_555 = dataset[\"rhos\"].sel({\"wavelength_3d\": np.argwhere(wavelengths == 555)[0][0]})\n",
    "\n",
    "fig = plt.figure(figsize=(8, 5))\n",
    "ax = plt.axes(projection=ccrs.PlateCarree())\n",
    "ax.coastlines(linewidth=0.5)\n",
    "ax.gridlines(draw_labels={\"left\": \"y\", \"bottom\": \"x\"}, linewidth=0.25)\n",
    "rhos_555.plot(x=\"longitude\", y=\"latitude\", cmap=\"viridis\", vmin=0, vmax=1.0)\n",
    "ax.set_title(\"Surface reflectance at 555 nm\")"
   ]
  },
  {
   "cell_type": "markdown",
   "id": "7278ce3b",
   "metadata": {},
   "source": [
    "Great! We've plotted the surface reflectance at a single band for the whole scene. However, there are some clouds in this image that we want to exclude from our analysis."
   ]
  },
  {
   "cell_type": "markdown",
   "id": "bcbd6ba6",
   "metadata": {},
   "source": [
    "[back to top](#Contents)"
   ]
  },
  {
   "cell_type": "markdown",
   "id": "790364be",
   "metadata": {},
   "source": [
    "## 3. Mask for Clouds and Water\n",
    "\n",
    "Let's look more closely at the `l2_flags` variable."
   ]
  },
  {
   "cell_type": "code",
   "execution_count": null,
   "id": "856fd9c9",
   "metadata": {},
   "outputs": [],
   "source": [
    "dataset.l2_flags"
   ]
  },
  {
   "cell_type": "markdown",
   "id": "1f0fc02e",
   "metadata": {},
   "source": [
    "`l2_flags` is in the same shape as the surface reflectance we plotted above, but plotting the variable doesn't seem to give us any information. That's because `l2_flags` is actually a 2D array of numbers representing bitflags, so they must be treated as bits and not numbers. The meaning of each flag is described [here](https://oceancolor.gsfc.nasa.gov/resources/atbd/ocl2flags/).\n",
    "\n",
    "For example, in the surface reflectance plot above, say we want to mask clouds. Instead of trying to do some threshold math or applying your own cloud mask algorithm to each pixel, you can use the `l2_flags` variable and use L2gen's cloud mask (CLDICE) instead. Using the reference link above to figure out what bit represents clouds:"
   ]
  },
  {
   "cell_type": "code",
   "execution_count": null,
   "id": "28457770",
   "metadata": {},
   "outputs": [],
   "source": [
    "bit_position = 9\n",
    "cloudmasked_dataset = dataset.where(~((dataset.l2_flags & (1 << bit_position)) != 0))\n",
    "cloudmasked_dataset"
   ]
  },
  {
   "cell_type": "markdown",
   "id": "f9f0218c",
   "metadata": {},
   "source": [
    "The masked dataset `cloudmasked_dataset` will retain the structure and information contained in the original merged dataset, but will take pixels where the cloud flag is flipped (i.e., where a pixel is flagged as cloudy) and assign them as NaNs. We can plot the data again to see what has changed:"
   ]
  },
  {
   "cell_type": "code",
   "execution_count": null,
   "id": "d4c979a8",
   "metadata": {},
   "outputs": [],
   "source": [
    "cloudmasked_rhos_555 = cloudmasked_dataset[\"rhos\"].sel(\n",
    "    {\"wavelength_3d\": np.argwhere(wavelengths == 555)[0][0]}\n",
    ")\n",
    "\n",
    "fig = plt.figure(figsize=(8, 5))\n",
    "ax = plt.axes(projection=ccrs.PlateCarree())\n",
    "ax.coastlines(linewidth=0.5)\n",
    "ax.gridlines(draw_labels={\"left\": \"y\", \"bottom\": \"x\"}, linewidth=0.25)\n",
    "cloudmasked_rhos_555.plot(x=\"longitude\", y=\"latitude\", cmap=\"viridis\", vmin=0)\n",
    "ax.set_title(\"Surface reflectance at 555 nm with cloud mask\")"
   ]
  },
  {
   "cell_type": "markdown",
   "id": "90c808ec",
   "metadata": {},
   "source": [
    "To see why this works, let's break down the one line of code which performs the masking.\n",
    "\n",
    "Each bit in a bitmask represents a specific condition or flag (in the above example, clouds).\n",
    " - The ```(1 << bit position)``` portion of the code isolates the specific \"bit\" in the bitmask, or in other words the specific condition you want flagged.\n",
    "Since clouds are at bit position 9, we set ```bit_position``` to 9 in the example above.\n",
    " - ```ds.l2_flags``` is the variable in our xarray dataset that contains the values for each pixel of the bitmask.\n",
    " - ```ds.l2_flags & (1 << bit_position)``` is basically saying to look only for pixels in the l2_flag variable where the specified bit is set. In other words, to look for pixels that have been flagged as a cloud.\n",
    " - ```~(ds.l2_flags & (1 << bit_position) != 0)```: The entire statement within the parentheses, with ```!= 0```, evaluates any pixel flagged cloudy as ```True```. Adding the ```~``` negates that condition, so that any pixel with the cloud flag set is evaluated to ```False```. We need these pixels to be False for the next step:\n",
    " - ```ds.where(~(ds.l2_flags & (1 << bit_position) != 0))```: ```xarray```'s ```.where``` function applies the mask to the entire dataset, which contains our surface reflectances. It keeps the pixel values which were evaluated to ```True``` in the step above, and assigns anything ```False``` as NaN. In other words, the cloudy pixels we set to \"False\" above have been set to NaN and therefore have been masked.\n",
    "\n",
    "We can apply multiple masks to the same datasets as well. Say you wanted to mask for clouds AND water, at the same time. There isn't a dedicated water masked, so instead we'll take the land mask at bit position 1 and invert it to mask out water. We can do that by leaving the ```~``` out of the statement, setting any non-land pixels to ```False``` like we did with clouds above:"
   ]
  },
  {
   "cell_type": "code",
   "execution_count": null,
   "id": "dd6a05ea",
   "metadata": {},
   "outputs": [],
   "source": [
    "masked_dataset = dataset.where(\n",
    "    ~((dataset.l2_flags & (1 << 9)) != 0) & ((dataset.l2_flags & (1 << 1)) != 0)\n",
    ")\n",
    "\n",
    "masked_rhos_555 = masked_dataset[\"rhos\"].sel(\n",
    "    {\"wavelength_3d\": np.argwhere(wavelengths == 555)[0][0]}\n",
    ")\n",
    "\n",
    "fig = plt.figure(figsize=(8, 5))\n",
    "ax = plt.axes(projection=ccrs.PlateCarree())\n",
    "ax.coastlines(linewidth=0.5)\n",
    "ax.gridlines(draw_labels={\"left\": \"y\", \"bottom\": \"x\"}, linewidth=0.25)\n",
    "masked_rhos_555.plot(x=\"longitude\", y=\"latitude\", cmap=\"viridis\", vmin=0)\n",
    "ax.set_title(\"Surface reflectance at 555 nm with cloud & water mask\")"
   ]
  },
  {
   "cell_type": "markdown",
   "id": "6cf557c6",
   "metadata": {},
   "source": [
    "#### Alternative method: xarray's masking capabilities\n",
    "\n",
    "`xarray`'s `cf_xarray` package can read flags as masks as well. This functionality has only been lightly tested, but should work for simple applications like we show below. See the [cf_xarray flag documentation](https://cf-xarray.readthedocs.io/en/latest/flags.html) here for more information.\n",
    "\n",
    "There are certain requirements our `xarray` dataset must meet in order to be used with `cf_xarray`. First, we need to make sure the package can read the flags properly so we can eventually apply them to the data. Let's check that the flag variable is read as such with `cf_xarray`'s built in check:"
   ]
  },
  {
   "cell_type": "code",
   "execution_count": null,
   "id": "1fd84c46",
   "metadata": {},
   "outputs": [],
   "source": [
    "print(\"Is l2_flags a flag variable?: \", dataset.l2_flags.cf.is_flag_variable)"
   ]
  },
  {
   "cell_type": "markdown",
   "id": "30f84e72",
   "metadata": {},
   "source": [
    "The above statement shows the package recognizes `l2_flags`. The next step is to apply those flags, similar to the bitmask method. `Xarray` makes it easier by using the `where` function, and you don't have to understand bitwise operators to use it:"
   ]
  },
  {
   "cell_type": "code",
   "execution_count": null,
   "id": "e6bc71e1",
   "metadata": {},
   "outputs": [],
   "source": [
    "cldwater_mask = (dataset.l2_flags.cf == \"LAND\") & ~(dataset.l2_flags.cf == \"CLDICE\")\n",
    "land_values = dataset.where(cldwater_mask)\n",
    "\n",
    "land_rhos_555 = land_values[\"rhos\"].sel(\n",
    "    {\"wavelength_3d\": np.argwhere(wavelengths == 555)[0][0]}\n",
    ")\n",
    "\n",
    "fig = plt.figure(figsize=(8, 6))\n",
    "ax = plt.axes(projection=ccrs.PlateCarree())\n",
    "ax.coastlines(linewidth=0.5)\n",
    "ax.gridlines(draw_labels={\"left\": \"y\", \"bottom\": \"x\"}, linewidth=0.25)\n",
    "land_rhos_555.plot(x=\"longitude\", y=\"latitude\", cmap=\"viridis\", vmin=0)\n",
    "ax.set_title(\"Surface reflectance at 555 nm with cloud & water mask\")"
   ]
  },
  {
   "cell_type": "markdown",
   "id": "5f58e0ff",
   "metadata": {},
   "source": [
    "Now that we have our surface reflectance data masked, we have multiple options for analysis. If your preferred data analysis environment is python, great! You can stop here. If you'd prefer to use an analysis software, specifically QGIS, you'll have to go through a couple more steps."
   ]
  },
  {
   "cell_type": "markdown",
   "id": "20fb151d",
   "metadata": {},
   "source": [
    "[back to top](#Contents)"
   ]
  },
  {
   "cell_type": "markdown",
   "id": "47459aba",
   "metadata": {},
   "source": [
    "## 4. GIS Compatibility\n",
    "\n",
    "Let's take a look at the the `masked_dataset`:"
   ]
  },
  {
   "cell_type": "code",
   "execution_count": null,
   "id": "7302f975",
   "metadata": {},
   "outputs": [],
   "source": [
    "masked_dataset"
   ]
  },
  {
   "cell_type": "markdown",
   "id": "b21ce16c",
   "metadata": {},
   "source": [
    "Since PACE data is hyperspectral, we're working with a 3D array of reflectances. We have dimensions `number_of_lines` (rows, or our 'y' variable), `pixels_per_line` (columns, or our 'x' variable), and wavelength_3d, which is an array of wavelengths in our hyperspectral data cube. The dimensions are in this *exact* order, so when we load a L2 surface reflectance NetCDF into QGIS, it looks a little funky.\n",
    "\n",
    "Because of the way PACE data orders its dimensions - that is, with `number_of_lines` first - QGIS reads that as the dimension we're interested in looking at. There's a simple way to fix this so that instead of reading the y variable, QGIS will show us the surface reflectance, our actual variable of interest.\n",
    "\n",
    "All we have to do to fix this is to transpose our dataset. Thankfully, xarray has this capability as well."
   ]
  },
  {
   "cell_type": "code",
   "execution_count": null,
   "id": "220837dc",
   "metadata": {},
   "outputs": [],
   "source": [
    "transposed_file = masked_dataset.transpose(\n",
    "    \"wavelength_3d\", \"number_of_lines\", \"pixels_per_line\"\n",
    ")\n",
    "transposed_file"
   ]
  },
  {
   "cell_type": "markdown",
   "id": "0b16b037",
   "metadata": {},
   "source": [
    "Now we can see that ```rhos``` has the correct dimension order: wavelength, row, column. We can export this new set up using `xarray` again:"
   ]
  },
  {
   "cell_type": "code",
   "execution_count": null,
   "id": "ae7fc32a",
   "metadata": {},
   "outputs": [],
   "source": [
    "output_path = paths[0].replace(\".nc\", \"_transposed.nc\")\n",
    "transposed_file.to_netcdf(path=output_path)"
   ]
  },
  {
   "cell_type": "markdown",
   "id": "4c35b73a",
   "metadata": {},
   "source": [
    "If we load that new file into QGIS, we see that now wavelength is the dimension that varies! Remember that these data are still in the instrument swath and have not been projected to any coordinate system yet.\n",
    "\n",
    "We're finally close to being done! If you're fine working with netCDF format, you could stop here. The final thing we'll take you through is how to convert netCDF to a GeoTIFF format."
   ]
  },
  {
   "cell_type": "markdown",
   "id": "6162032e",
   "metadata": {},
   "source": [
    "## 5. Veg. Indices/Classification/Working with the data"
   ]
  }
 ],
 "metadata": {
  "jupytext": {
   "cell_metadata_filter": "all,-trusted",
   "main_language": "python",
   "notebook_metadata_filter": "-all,jupytext,language_info.name"
  },
  "language_info": {
   "name": "python"
  }
 },
 "nbformat": 4,
 "nbformat_minor": 5
}
