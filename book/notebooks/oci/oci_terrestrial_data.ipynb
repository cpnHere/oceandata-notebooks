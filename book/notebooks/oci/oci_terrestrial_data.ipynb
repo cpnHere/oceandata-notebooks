{
 "cells": [
  {
   "cell_type": "markdown",
   "id": "c95e44da",
   "metadata": {},
   "source": [
    "# Orientation to PACE/OCI Terrestrial Products\n",
    "\n",
    "**Tutorial Lead:** Skye Caplan (NASA, SSAI)\n",
    "\n",
    "<div class=\"alert alert-info\" role=\"alert\">\n",
    "\n",
    "An [Earthdata Login][edl] account is required to access data from the NASA Earthdata system, including NASA ocean color data.\n",
    "\n",
    "</div>\n",
    "\n",
    "[edl]: https://urs.earthdata.nasa.gov\n",
    "\n",
    "## Summary\n",
    "\n",
    "This notebook introduces the Level-2 files containing the surface reflectance product from the Ocean Color Instrument (OCI) on board the [PACE satellite]. The visualizations rely on flags accompanying the data variables that enable masking for features more relevant to terrestrial data products. The notebook highlights the hyperspectral-enabled vegetation indices (VIs) made possible by the high spectral resolution of OCI.\n",
    "\n",
    "[PACE satellite]: https://pace.oceansciences.org\n",
    "\n",
    "## Learning objectives\n",
    "\n",
    "By the end of this tutorial you will be able to:\n",
    "\n",
    "- Open OCI surface reflectance products\n",
    "- Mask features you can ignore using built-in flags\n",
    "- Compare VIs developed using different spectral features\n",
    "\n",
    "## Contents\n",
    "\n",
    "1. [Setup](#1.-Setup)\n",
    "2. [Search and Open Surface Reflectance Data](#2.-Search-and-Open-Surface-Reflectance-Data)\n",
    "3. [Mask Data for Clouds and Water](#3.-Mask-for-Clouds-and-Water)\n",
    "4. [Working with PACE Terrestrial Data](#4.-Working-with-PACE-Terrestrial-Data)"
   ]
  },
  {
   "cell_type": "markdown",
   "id": "f4dd48e8",
   "metadata": {},
   "source": [
    "## 1. Setup\n",
    "\n",
    "We begin by importing the packages used in this notebook. At first glance, the `cf_xarray` package appears unused and should therefore not be imported. Since it actually provides the `cf` attribute used below on certain `xarray` data structures, we indicate that the import is necessary by the inline comment `# noqa: F401` referencing rule [F401](https://docs.astral.sh/ruff/rules/unused-import/). Likewise for `hvplot.xarray` and the `hvplot` attribute."
   ]
  },
  {
   "cell_type": "code",
   "execution_count": null,
   "id": "90163c65",
   "metadata": {
    "lines_to_next_cell": 2
   },
   "outputs": [],
   "source": [
    "import cartopy\n",
    "import cartopy.crs as ccrs\n",
    "import cf_xarray  # noqa: F401\n",
    "import earthaccess\n",
    "import hvplot.xarray  # noqa: F401\n",
    "import matplotlib.pyplot as plt\n",
    "import xarray as xr"
   ]
  },
  {
   "cell_type": "markdown",
   "id": "a463fa4e",
   "metadata": {},
   "source": [
    "[back to top](#Contents)"
   ]
  },
  {
   "cell_type": "markdown",
   "id": "ae1668dc",
   "metadata": {},
   "source": [
    "## 2. Search and Open Surface Reflectance Data\n",
    "\n",
    "Set and persist your Earthdata login credentials."
   ]
  },
  {
   "cell_type": "code",
   "execution_count": null,
   "id": "fc13dcea",
   "metadata": {},
   "outputs": [],
   "source": [
    "auth = earthaccess.login(persist=True)"
   ]
  },
  {
   "cell_type": "markdown",
   "id": "4f36cab3",
   "metadata": {},
   "source": [
    "We will use `earthaccess` to open a Level-2 surface reflectance granule that covers part of the Great Lakes region of North America. When fetching one specific granule, use the `concept_id` argument to provide a unique identifier looked up elsewhere."
   ]
  },
  {
   "cell_type": "code",
   "execution_count": null,
   "id": "1c93bb24",
   "metadata": {},
   "outputs": [],
   "source": [
    "results = earthaccess.search_data(\n",
    "    concept_id=\"G3406522735-OB_CLOUD\",\n",
    ")\n",
    "for item in results:\n",
    "    display(item)"
   ]
  },
  {
   "cell_type": "code",
   "execution_count": null,
   "id": "84c199f1",
   "metadata": {},
   "outputs": [],
   "source": [
    "fs = earthaccess.get_s3_filesystem(results=results)\n",
    "try:\n",
    "    fs.open(results[0].data_links(access=\"direct\").pop())\n",
    "except PermissionError:\n",
    "    earthaccess_paths = earthaccess.download\n",
    "    earthaccess_kwargs = {\"local_path\": \"data\"}\n",
    "else:\n",
    "    earthaccess_paths = earthaccess.open\n",
    "    earthaccess_kwargs = {}"
   ]
  },
  {
   "cell_type": "code",
   "execution_count": null,
   "id": "01dcce99",
   "metadata": {},
   "outputs": [],
   "source": [
    "paths = earthaccess_paths(results, **earthaccess_kwargs)"
   ]
  },
  {
   "cell_type": "markdown",
   "id": "3e1f5b63",
   "metadata": {},
   "source": [
    "We use `xr.open_datatree()` to access all \"groups\" of variables (a.k.a. \"datasets\") within a NetCDF file. It will be easier to work with a single dataset, which we create by merging the data and coordinate variables we need from different groups. Longitude and latitude appear as data variables, however, so they must be explicitly set as coordinates."
   ]
  },
  {
   "cell_type": "code",
   "execution_count": null,
   "id": "89a2ad20",
   "metadata": {},
   "outputs": [],
   "source": [
    "datatree = xr.open_datatree(paths[0])\n",
    "dataset = xr.merge(\n",
    "    (\n",
    "        datatree.ds,\n",
    "        datatree[\"geophysical_data\"].ds[[\"rhos\", \"l2_flags\"]],\n",
    "        datatree[\"sensor_band_parameters\"].coords,\n",
    "        datatree[\"navigation_data\"].ds.set_coords((\"longitude\", \"latitude\")).coords,\n",
    "    )\n",
    ")\n",
    "dataset"
   ]
  },
  {
   "cell_type": "markdown",
   "id": "ac446b2c",
   "metadata": {},
   "source": [
    "In the above display of our Level-2 file, we have the data variables `rhos` and `l2_flags`. The `rhos` variable are surface reflectances, and the `l2_flags` are quality flags as defined by the Ocean Biology Processing Group (OBPG).\n",
    "\n",
    "We can also see which wavelengths we have surface reflectance measurements at by accessing the `wavelength_3d` coordinate:"
   ]
  },
  {
   "cell_type": "code",
   "execution_count": null,
   "id": "da2cf78a",
   "metadata": {},
   "outputs": [],
   "source": [
    "dataset.wavelength_3d"
   ]
  },
  {
   "cell_type": "markdown",
   "id": "d89f5722",
   "metadata": {},
   "source": [
    "Note that \"wavelength_3d\" is an indexed coordinate, which allows us to subset the dataset by slicing or choosing individual wavelengths. The `method=\"nearest\"` argument lets us select one wavelength without knowning its exact value."
   ]
  },
  {
   "cell_type": "code",
   "execution_count": null,
   "id": "f82ec1a2",
   "metadata": {},
   "outputs": [],
   "source": [
    "rhos_860 = dataset[\"rhos\"].sel({\"wavelength_3d\": 860}, method=\"nearest\")"
   ]
  },
  {
   "cell_type": "markdown",
   "id": "7278ce3b",
   "metadata": {},
   "source": [
    "Now we can plot surface reflectance at this one wavelength in the near-infrared (NIR), where land is bright and we can differentiate land, water, and clouds."
   ]
  },
  {
   "cell_type": "code",
   "execution_count": null,
   "id": "187ab5c5",
   "metadata": {},
   "outputs": [],
   "source": [
    "fig, ax = plt.subplots(\n",
    "    1, 1, figsize=(9, 5), subplot_kw={\"projection\": ccrs.PlateCarree()}\n",
    ")\n",
    "ax.gridlines(draw_labels={\"left\": \"y\", \"bottom\": \"x\"}, linewidth=0.25)\n",
    "ax.coastlines(linewidth=0.5)\n",
    "ax.add_feature(cartopy.feature.OCEAN, edgecolor=\"w\", linewidth=0.01)\n",
    "ax.add_feature(cartopy.feature.LAND, edgecolor=\"w\", linewidth=0.01)\n",
    "rhos_860.plot(x=\"longitude\", y=\"latitude\", cmap=\"Greys_r\", vmin=0, vmax=1.0)\n",
    "plt.show()"
   ]
  },
  {
   "cell_type": "markdown",
   "id": "047c9e46",
   "metadata": {},
   "source": [
    "Great! We've plotted the surface reflectance at a single band for the whole scene. However, there are some features in this image that we want to exclude from our analysis."
   ]
  },
  {
   "cell_type": "markdown",
   "id": "bcbd6ba6",
   "metadata": {},
   "source": [
    "[back to top](#Contents)"
   ]
  },
  {
   "cell_type": "markdown",
   "id": "790364be",
   "metadata": {},
   "source": [
    "## 3. Mask for Clouds and Water\n",
    "\n",
    "Level-2 files usually include information on the quality of each pixel in the scene, presented in the `l2_flags` variable. Let's look at it a little more closely."
   ]
  },
  {
   "cell_type": "code",
   "execution_count": null,
   "id": "856fd9c9",
   "metadata": {},
   "outputs": [],
   "source": [
    "dataset.l2_flags"
   ]
  },
  {
   "cell_type": "markdown",
   "id": "1f0fc02e",
   "metadata": {},
   "source": [
    "At first glance, we can see that `l2_flags` is in the same shape as the surface reflectance we plotted above. The attributes look sorta meaningful, but also sorta like random numbers and abbreviations. If we were to plot `l2_flags`, the result wouldn't look like anything useful at all. This is because the values in `l2_flags` include many quality flags compactly encoded in the binary representation of an integer. In order to use the flags applied to each pixel, we need a decoded representation. Since all OB.DAAC data follows the [CF Metadata Conventions](http://cfconventions.org/), we only need to import the `cf_xarray` package to access the decoded flags.\n",
    "\n",
    "For example, say we want to mask any pixels flagged as clouds and or water in our data. First, we have to make sure that the `l2_flags` variable is readable by `cf_xarray` so that we can eventually apply them to the data. We can check this using the built in `is_flag_variable` property."
   ]
  },
  {
   "cell_type": "code",
   "execution_count": null,
   "id": "28457770",
   "metadata": {},
   "outputs": [],
   "source": [
    "dataset[\"l2_flags\"].cf.is_flag_variable"
   ]
  },
  {
   "cell_type": "markdown",
   "id": "f9f0218c",
   "metadata": {},
   "source": [
    "The statement returned `True`, which means `l2_flags` is recognized as a flag variable. By referencing the OBPG [ocean color flags documentation](https://oceancolor.gsfc.nasa.gov/resources/atbd/ocl2flags/), we find the name of the flags we want to mask out. In this case, \"CLDICE\" is the cloud flag, and while there is no specific water mask (this is an ocean mission, after all) there is a \"LAND\" flag we can invert to mask out water. The expressions in the cell below will retain any pixel identified as land which is also not a cloud (thanks to the `~`).\n",
    "\n",
    "[ocean color flags documentation]: https://oceancolor.gsfc.nasa.gov/resources/atbd/ocl2flags/"
   ]
  },
  {
   "cell_type": "code",
   "execution_count": null,
   "id": "d4c979a8",
   "metadata": {},
   "outputs": [],
   "source": [
    "cldwater_mask = (dataset[\"l2_flags\"].cf == \"LAND\") & ~(\n",
    "    dataset[\"l2_flags\"].cf == \"CLDICE\"\n",
    ")\n",
    "rhos = dataset[\"rhos\"].where(cldwater_mask)"
   ]
  },
  {
   "cell_type": "markdown",
   "id": "90c808ec",
   "metadata": {},
   "source": [
    "Note that we need to redefine the `rhos_860` selection with the new masked dataset."
   ]
  },
  {
   "cell_type": "code",
   "execution_count": null,
   "id": "dd6a05ea",
   "metadata": {},
   "outputs": [],
   "source": [
    "rhos_860 = rhos.sel({\"wavelength_3d\": 860}, method=\"nearest\")"
   ]
  },
  {
   "cell_type": "markdown",
   "id": "6cf557c6",
   "metadata": {},
   "source": [
    "Then, we can see if the mask worked by plotting the data once again."
   ]
  },
  {
   "cell_type": "code",
   "execution_count": null,
   "id": "1fd84c46",
   "metadata": {},
   "outputs": [],
   "source": [
    "fig, ax = plt.subplots(\n",
    "    1, 1, figsize=(9, 5), subplot_kw={\"projection\": ccrs.PlateCarree()}\n",
    ")\n",
    "ax.coastlines(linewidth=0.25)\n",
    "ax.gridlines(draw_labels={\"left\": \"y\", \"bottom\": \"x\"}, linewidth=0.25)\n",
    "ax.add_feature(cartopy.feature.OCEAN, edgecolor=\"w\", linewidth=0.01)\n",
    "ax.add_feature(cartopy.feature.LAND, edgecolor=\"w\", linewidth=0.01)\n",
    "ax.add_feature(cartopy.feature.LAKES, edgecolor=\"k\", linewidth=0.1)\n",
    "rhos_860.plot(x=\"longitude\", y=\"latitude\", cmap=\"Greys_r\", vmin=0, vmax=1.0)\n",
    "plt.show()"
   ]
  },
  {
   "cell_type": "markdown",
   "id": "20fb151d",
   "metadata": {},
   "source": [
    "[back to top](#Contents)"
   ]
  },
  {
   "cell_type": "markdown",
   "id": "47459aba",
   "metadata": {},
   "source": [
    "## 4. Working with PACE Terrestrial Data\n",
    "\n",
    "Now that we have our surface reflectance data masked, we can start doing some analysis. A relatively simple but informative use of surface reflectance data is the calculation of vegetation indices (VIs). VIs use the well-known, idealized spectral shape of leaves and other materials to determine surface features contributing to a pixel. Vegetation health, relative water content, or even the presence of snow can be measured using VIs. They've been used in terrestrial remote sensing for decades, and are particularly valuable when considering the limited number of bands in previous multispectral sensors. They can, of course, also be calculated with hyperspectral sensors like PACE.\n",
    "\n",
    "### Multispectral Vegetation Indices\n",
    "\n",
    "Let's take NDVI for example. NDVI is a metric which quantifies plant \"greenness\", which is related to the abundance and health of the vegetation in a pixel. It is a normalized ratio of the surface reflectance for red ($\\rho_{red}$) and near-infrared ($\\rho_{NIR}$) bands:\n",
    "\n",
    "$$\n",
    "NDVI = \\frac{\\rho_{NIR} - \\rho_{red}}{\\rho_{NIR} + \\rho_{red}}\n",
    "$$\n",
    "\n",
    "You'll notice that the equation does not mention specific wavelengths, but rather just requires a \"red\" measurement and a \"NIR\" measurement. With PACE, we have a lot of measurements throughout the red and NIR regions of the spectrum. To visualize the spectra, we want to plot across the wavelength dimension of individual pixels, so we'll take just a small sample from the dataset. We also like to separate the hyperspectral (ultraviolet to NIR wavelengths) and multispectral (NIR to SWIR wavelengths) regions when plotting spectra."
   ]
  },
  {
   "cell_type": "code",
   "execution_count": null,
   "id": "7302f975",
   "metadata": {},
   "outputs": [],
   "source": [
    "sample_rhos = rhos.sel(\n",
    "    {\"number_of_lines\": 900, \"pixels_per_line\": slice(None, None, 25)}\n",
    ")\n",
    "hyper_rhos = sample_rhos.sel({\"wavelength_3d\": slice(None, 895)})\n",
    "multi_rhos = sample_rhos.sel({\"wavelength_3d\": slice(1038, None)})"
   ]
  },
  {
   "cell_type": "code",
   "execution_count": null,
   "id": "b52a89c3",
   "metadata": {},
   "outputs": [],
   "source": [
    "fig, (a, b) = plt.subplots(1, 2, figsize=(10, 5), sharey=True)\n",
    "hyper_rhos.plot.line(\"k\", x=\"wavelength_3d\", ax=a, alpha=0.3, add_legend=False)\n",
    "multi_rhos.plot.line(\"k--o\", x=\"wavelength_3d\", ax=b, alpha=0.3, add_legend=False)\n",
    "b.set_ylabel(\"\")\n",
    "plt.show()"
   ]
  },
  {
   "cell_type": "markdown",
   "id": "b21ce16c",
   "metadata": {},
   "source": [
    "To calculate NDVI and other heritage multispectral indices with PACE, you could choose a single band from each region. However, doing so would mean capturing only the information from one of OCI's narrow 5 nm bands. In other words, we would miss out on information from surrounding wavelengths that improve these calculations and would have otherwise been included from other sensors. To preserve continuity with those sensors and calculate a more comparable NDVI, we can take an average of several OCI bands to simulate a multispectral measurement, incorporating as much relevant information into the calculation as possible.\n",
    "\n",
    "We'll take MODIS's red and NIR bandwidths and average the PACE measurements together."
   ]
  },
  {
   "cell_type": "code",
   "execution_count": null,
   "id": "220837dc",
   "metadata": {},
   "outputs": [],
   "source": [
    "rhos_red = rhos.sel({\"wavelength_3d\": slice(620, 670)}).mean(\"wavelength_3d\")\n",
    "rhos_nir = rhos.sel({\"wavelength_3d\": slice(840, 875)}).mean(\"wavelength_3d\")"
   ]
  },
  {
   "cell_type": "markdown",
   "id": "0b16b037",
   "metadata": {},
   "source": [
    "Now, we can use those averaged reflectances to calculate NDVI."
   ]
  },
  {
   "cell_type": "code",
   "execution_count": null,
   "id": "ae7fc32a",
   "metadata": {},
   "outputs": [],
   "source": [
    "ndvi = (rhos_nir - rhos_red) / (rhos_nir + rhos_red)\n",
    "ndvi.attrs[\"long_name\"] = \"Normalized Difference Vegetation Index (NDVI)\""
   ]
  },
  {
   "cell_type": "code",
   "execution_count": null,
   "id": "78631ce7",
   "metadata": {},
   "outputs": [],
   "source": [
    "fig, ax = plt.subplots(\n",
    "    1, 1, figsize=(9, 5), subplot_kw={\"projection\": ccrs.PlateCarree()}\n",
    ")\n",
    "ax.coastlines(linewidth=0.5)\n",
    "ax.gridlines(draw_labels={\"left\": \"y\", \"bottom\": \"x\"}, linewidth=0.25)\n",
    "ax.add_feature(cartopy.feature.OCEAN, edgecolor=\"w\", linewidth=0.01)\n",
    "ax.add_feature(cartopy.feature.LAND, edgecolor=\"w\", linewidth=0.01)\n",
    "ax.add_feature(cartopy.feature.LAKES, edgecolor=\"k\", linewidth=0.1)\n",
    "ndvi.plot(x=\"longitude\", y=\"latitude\", cmap=\"RdYlGn\", vmin=-0.05, vmax=1.0)\n",
    "ax.set_title(\"NDVI from PACE OCI\")\n",
    "plt.show()"
   ]
  },
  {
   "cell_type": "markdown",
   "id": "4c35b73a",
   "metadata": {},
   "source": [
    "Making these heritage calculations are important for many reasons, not least of which is because the MODIS instruments are reaching the end of their lives and will soon be decommissioned. PACE can continue the time series of these VI datasets that would otherwise be lost. However, as a hyperspectral instrument, PACE/OCI is able to go beyond these legacy calculations and create new products, as well!\n",
    "\n",
    "### Hyperspectral-enabled Vegetation Indices\n",
    "\n",
    "Hyperspectral-enabled VIs are still band ratios, but rather than using wide bands to capture the general aspects of a spectrum, they target minute fluctuations in surface reflectances to describe detailed features of a pixel, such as relative pigment concentration in plants. This means that, unlike multispectral VIs, these indices require the narrow bandwidths inherent to OCI data. In other words, we don't want to do any band averaging as we did above, because we'd likely dilute the very signal we want to pull out. The calculations for this type of VI are actually much simpler!\n",
    "\n",
    "We'll take the Chlorophyll Index Red Edge (CIRE) as an example of a hyperspectral-enabled VI. CIRE uses bands from the red edge and the NIR to get at relative canopy chlorophyll content:\n",
    "\n",
    "$$\n",
    "CIRE = \\frac{\\rho_{800}}{\\rho_{705}} - 1\n",
    "$$\n",
    "\n",
    "Because we're not doing any averaging, all we have to do is grab the bands from our dataset and follow the equation. We'll use the closest bands that the SFREFL suite has to 800 and 705 nm."
   ]
  },
  {
   "cell_type": "code",
   "execution_count": null,
   "id": "78f1df10",
   "metadata": {},
   "outputs": [],
   "source": [
    "rhos_800 = rhos.sel({\"wavelength_3d\": 800}, method=\"nearest\")\n",
    "rhos_705 = rhos.sel({\"wavelength_3d\": 705}, method=\"nearest\")\n",
    "\n",
    "cire = (rhos_800 / rhos_705) - 1\n",
    "cire.attrs[\"long_name\"] = \"Chlorophyll Index Red Edge (CIRE)\""
   ]
  },
  {
   "cell_type": "markdown",
   "id": "6162032e",
   "metadata": {},
   "source": [
    "We can compare these maps side by side to see similarities and differences in the patterns of each VI."
   ]
  },
  {
   "cell_type": "code",
   "execution_count": null,
   "id": "21e00dbc",
   "metadata": {},
   "outputs": [],
   "source": [
    "fig, (a, b) = plt.subplots(\n",
    "    1, 2, figsize=(13, 4), subplot_kw={\"projection\": ccrs.PlateCarree()}\n",
    ")\n",
    "plot_args = {\n",
    "    \"x\": \"longitude\",\n",
    "    \"y\": \"latitude\",\n",
    "    \"cmap\": \"RdYlGn\",\n",
    "    \"vmin\": 0,\n",
    "}\n",
    "for ax in (a, b):\n",
    "    ax.coastlines(linewidth=0.25)\n",
    "    ax.gridlines(draw_labels={\"left\": \"y\", \"bottom\": \"x\"}, linewidth=0.25)\n",
    "    ax.add_feature(cartopy.feature.OCEAN, edgecolor=\"w\", linewidth=0.01)\n",
    "    ax.add_feature(cartopy.feature.LAND, edgecolor=\"w\", linewidth=0.01)\n",
    "    ax.add_feature(cartopy.feature.LAKES, edgecolor=\"k\", linewidth=0.1)\n",
    "cire.plot(ax=a, **plot_args, vmax=6)\n",
    "a.set_title(\"CIRE on July 1st, 2024\")\n",
    "ndvi.plot(ax=b, **plot_args, vmax=1)\n",
    "b.set_title(\"NDVI on July 1st, 2024\")\n",
    "plt.subplots_adjust(wspace=0.1)\n",
    "plt.show()"
   ]
  },
  {
   "cell_type": "markdown",
   "id": "f9b4db2b",
   "metadata": {},
   "source": [
    "Comparing these two plots, we can see some similarities and differences. Generally, the patterns of high and low values fall in the same places - this is because NDVI is essentially measuring the amount of green vegetation, and CIRE is measuring the amount of green pigment in plants. However, CIRE also has a higher dynamic range than NDVI does. For one, NDVI saturates as vegetation density increases, so a wide range of ecosystems with varying amounts of green vegetation may have very similar NDVI values. On the other hand, CIRE is not as affected by the leaf area, and can instead hone in on the relative amount of chlorophyll pigment in a pixel rather than the amount of leaves. This is a major advantage of CIRE and other hyperspectral-enabled VIs like the Carotenoid Content Index (Car), enabling us to track specific biochemical shifts in plants that correspond to states of photosynthetic or photoprotective ability, and thus provide insight on plant physiological condition.\n",
    "\n",
    "If calculating these indices manually felt a little tedious, not to worry! PACE/OCI provides 10 VIs in its LANDVI products available in Level-2 (`short_name=\"PACE_OCI_L2_LANDVI\"`) and Level-3 (`short_name=\"PACE_OCI_L3M_LANDVI\"`). The suite includes 6 heritage indices and 4 narrowband pigment indices including CIRE. Read more about it in the ATBD (in review)."
   ]
  },
  {
   "cell_type": "code",
   "execution_count": null,
   "id": "7f99f962",
   "metadata": {},
   "outputs": [],
   "source": [
    "results = earthaccess.search_data(concept_id=\"G3407628214-OB_CLOUD\")\n",
    "paths = earthaccess_paths(results, **earthaccess_kwargs)"
   ]
  },
  {
   "cell_type": "markdown",
   "id": "16aa6b3b",
   "metadata": {},
   "source": [
    "The Level-3 data products come binned and gridded on a global projection at multiple temporal and spatial resolutions. The granule shown here is a monthly, 0.1 degree aggregate. We'll conclude by dropping in a nifty interactive visualization brought to you by the `hvplot` package."
   ]
  },
  {
   "cell_type": "code",
   "execution_count": null,
   "id": "f78130c8",
   "metadata": {},
   "outputs": [],
   "source": [
    "dataset = xr.open_dataset(paths[0])\n",
    "array = dataset.drop_vars(\"palette\").to_array(\"product\")\n",
    "array.attrs[\"long_name\"] = \"Vegetation Index\"\n",
    "array.hvplot(\n",
    "    x=\"lon\",\n",
    "    y=\"lat\",\n",
    "    cmap=\"magma\",\n",
    "    aspect=2,\n",
    "    title=\"July 2024 Monthly Average\",\n",
    "    rasterize=True,\n",
    ")"
   ]
  },
  {
   "cell_type": "markdown",
   "id": "3735b95f",
   "metadata": {},
   "source": [
    "[back to top](#Contents)\n",
    "\n",
    "<div class=\"alert alert-info\" role=\"alert\">\n",
    "\n",
    "You have completed the notebook introducing terrestrial data products from OCI. We suggest looking at the notebook on \"Satellite Data Visualization\" for tips on making beautiful PACE/OCI images.\n",
    "\n",
    "</div>"
   ]
  }
 ],
 "metadata": {
  "jupytext": {
   "cell_metadata_filter": "all,-trusted",
   "main_language": "python",
   "notebook_metadata_filter": "-all,jupytext,language_info.name"
  },
  "language_info": {
   "name": "python"
  }
 },
 "nbformat": 4,
 "nbformat_minor": 5
}
