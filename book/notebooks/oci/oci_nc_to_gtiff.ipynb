{
 "cells": [
  {
   "cell_type": "markdown",
   "id": "18532ec3",
   "metadata": {},
   "source": [
    "# Title of the Tutorial\n",
    "\n",
    "**Authors:** Skye Caplan (NASA, SSAI)\n",
    "\n",
    "<div class=\"alert alert-success\" role=\"alert\">\n",
    "\n",
    "The following notebooks are **prerequisites** for this tutorial.\n",
    "\n",
    "- Learn with OCI: [Data Access][oci-data-access]\n",
    "\n",
    "</div>\n",
    "\n",
    "<div class=\"alert alert-info\" role=\"alert\">\n",
    "\n",
    "An [Earthdata Login][edl] account is required to access data from the NASA Earthdata system, including NASA ocean color data.\n",
    "\n",
    "</div>\n",
    "\n",
    "[edl]: https://urs.earthdata.nasa.gov/\n",
    "[oci-data-access]: https://oceancolor.gsfc.nasa.gov/resources/docs/tutorials/notebooks/oci_data_access/\n",
    "\n",
    "## Summary\n",
    "\n",
    "This notebook will use `rasterio` to reproject PACE OCI data from the instrument swath into a projected coordinate system and save the file as a GeoTIFF, a common data format used in GIS applications.\n",
    "\n",
    "## Learning Objectives\n",
    "\n",
    "At the end of this notebook you will know:\n",
    "\n",
    "- Open PACE OCI surface reflectance and vegetation index products\n",
    "- Reproject those data into defined coordinate reference systems\n",
    "- Export those reprojected data as GeoTIFFs\n",
    "\n",
    "## Contents\n",
    "\n",
    "1. [Setup](#1.-Setup)\n",
    "2. [Section Title](#2.-Section-Title)\n",
    "3. [Style Notes](#3.-Style-Notes)"
   ]
  },
  {
   "cell_type": "markdown",
   "id": "1ecf02e4",
   "metadata": {},
   "source": [
    "## 1. Setup\n",
    "\n",
    "Begin by importing all of the packages used in this notebook. If your kernel uses an environment defined following the guidance on the [tutorials] page, then the imports will be successful.\n",
    "\n",
    "[tutorials]: https://oceancolor.gsfc.nasa.gov/resources/docs/tutorials/"
   ]
  },
  {
   "cell_type": "code",
   "execution_count": null,
   "id": "4ea23778",
   "metadata": {},
   "outputs": [],
   "source": [
    "from pathlib import Path\n",
    "\n",
    "import earthaccess\n",
    "import rasterio\n",
    "import rasterio.warp\n",
    "import xarray as xr\n",
    "from xarray.backends.api import open_datatree\n",
    "\n",
    "\n",
    "def open_and_merge(filepath):\n",
    "    \"\"\"Open a level-2 file and merge the geophysical data with the geolocation data.\n",
    "\n",
    "    Args:\n",
    "        filepath: path to the OCI file\n",
    "    Returns:\n",
    "        ds: merged dataset containing data variables and lat/lon\n",
    "            information as coordinates\n",
    "\n",
    "    \"\"\"\n",
    "    datatree = open_datatree(filepath)\n",
    "    data = datatree.geophysical_data.to_dict()\n",
    "    data.update(datatree.navigation_data.to_dict())\n",
    "    ds = xr.merge(data.values())\n",
    "    ds = ds.set_coords((\"latitude\", \"longitude\"))\n",
    "    return ds"
   ]
  },
  {
   "cell_type": "markdown",
   "id": "52b5d3dd",
   "metadata": {},
   "source": [
    "Consider describing anything about the above imports, especially if a package must be installed [conda forge][conda] rather than from [PyPI][pypi].\n",
    "\n",
    "Also define any functions or classes used in the notebook.\n",
    "\n",
    "[conda]: https://anaconda.org/conda-forge/earthaccess\n",
    "[pypi]: https://pypi.org/project/earthaccess/\n",
    "\n",
    "[back to top](#Contents)"
   ]
  },
  {
   "cell_type": "markdown",
   "id": "d69d629a",
   "metadata": {},
   "source": [
    "## 2. Search for and Open OCI data\n",
    "\n",
    "Set and persist your Earthdata login credentials"
   ]
  },
  {
   "cell_type": "code",
   "execution_count": null,
   "id": "e821bec6",
   "metadata": {},
   "outputs": [],
   "source": [
    "auth = earthaccess.login(persist=True)"
   ]
  },
  {
   "cell_type": "markdown",
   "id": "3d2f7ff9",
   "metadata": {},
   "source": [
    "We'll use 'earthaccess' to search for and open two types of OCI data: surface reflectances from the SFREFL suite, and vegetation indices from the LANDVI suite."
   ]
  },
  {
   "cell_type": "code",
   "execution_count": null,
   "id": "a23bb519",
   "metadata": {},
   "outputs": [],
   "source": [
    "# Using the same file as the terrestrial analysis tutorial for now\n",
    "srf_results = earthaccess.search_data(\n",
    "    short_name=\"PACE_OCI_L2_SFREFL\",\n",
    "    granule_name=\"*20240701T175112*\",\n",
    ")\n",
    "srf_results[0]"
   ]
  },
  {
   "cell_type": "code",
   "execution_count": null,
   "id": "e5981ccb",
   "metadata": {},
   "outputs": [],
   "source": [
    "vi_results = earthaccess.search_data(\n",
    "    short_name=\"PACE_OCI_L2_LANDVI\",\n",
    "    granule_name=\"*20240701T175112*\",\n",
    ")\n",
    "vi_results[0]"
   ]
  },
  {
   "cell_type": "code",
   "execution_count": null,
   "id": "5c3243ff",
   "metadata": {},
   "outputs": [],
   "source": [
    "srf_paths = earthaccess.download(srf_results, local_path=\"data\")\n",
    "vi_paths = earthaccess.download(vi_results, local_path=\"data\")\n",
    "vi_paths"
   ]
  },
  {
   "cell_type": "markdown",
   "id": "59ea727d",
   "metadata": {},
   "source": [
    "The main difference in these two files, other than the data they contain, is the number of dimensions inherent to each variable. Let's open each file and look at what that means:"
   ]
  },
  {
   "cell_type": "code",
   "execution_count": null,
   "id": "073efb2d",
   "metadata": {},
   "outputs": [],
   "source": [
    "rhos = open_and_merge(srf_paths[0])\n",
    "rhos\n",
    "# dt = open_datatree(srf_paths[0])\n",
    "# dt.geophysical_data.to_dict()"
   ]
  },
  {
   "cell_type": "code",
   "execution_count": null,
   "id": "40e3a705",
   "metadata": {},
   "outputs": [],
   "source": [
    "vi = open_and_merge(vi_paths[0])\n",
    "vi"
   ]
  },
  {
   "cell_type": "markdown",
   "id": "d12254c2",
   "metadata": {},
   "source": [
    "You can see that `rhos` is a 3-dimensional variable with dimensions (`number_of_lines`, `pixels_per_line`, `wavelength_3d`) which corresponds to (rows, columns, wavelength), while each vegetation index is 2-dimensional with (rows, columns). This is important because it means each file has to be treated differently when converting their format. We'll start with the simpler case, the VIs.\n",
    "\n",
    "Since each VI is a separate variable in our dataset `vi`, we'll have to convert each one into a separate GeoTIFF. Let's take CIRE as an example. First, we define the coordinate reference systems (CRS) for both the source dataset and our destination GeoTIFF, and calculate the necessary parameters for the projection.\n",
    "\n",
    "Because we're using unprojected latitude and longitude values based on WGS 84, the CRS of our source data is EPSG 4326. The destination CRS is user's choice; we'll use EPSG 4326 again for simplicity."
   ]
  },
  {
   "cell_type": "code",
   "execution_count": null,
   "id": "3025bfa0",
   "metadata": {
    "lines_to_next_cell": 0
   },
   "outputs": [],
   "source": [
    "src = vi[\"cire\"]\n",
    "lon = vi[\"longitude\"]\n",
    "lat = vi[\"latitude\"]\n",
    "\n",
    "src_crs = rasterio.crs.CRS.from_epsg(4326)\n",
    "dst_crs = rasterio.crs.CRS.from_epsg(4326)\n",
    "\n",
    "transform, width, height = rasterio.warp.calculate_default_transform(\n",
    "    src_crs,\n",
    "    dst_crs,\n",
    "    src.sizes[\"pixels_per_line\"],\n",
    "    src.sizes[\"number_of_lines\"],\n",
    "    src_geoloc_array=(lon, lat),\n",
    ")"
   ]
  },
  {
   "cell_type": "markdown",
   "id": "d4035c5e",
   "metadata": {},
   "source": [
    "[back to top](#Contents)"
   ]
  },
  {
   "cell_type": "markdown",
   "id": "7a6aac17",
   "metadata": {},
   "source": [
    "## 3. Style Notes\n",
    "\n",
    "Some recomendations for consistency between notebooks, and a good user experience:\n",
    "\n",
    "- avoid code cells much longer than twenty lines\n",
    "- avoid code cells with blank lines (except where preferred by PEP 8)\n",
    "- prefer a whole markdown cell, with full descriptions, over inline code comments\n",
    "- avoid splitting markdown cells that are adjacent\n",
    "- remove any empty cell at the end of the notebook\n",
    "- enable output scrolling for long outputs\n",
    "\n",
    "Here are the two additional \"alert\" boxes used in some notebooks to help you choose between \"success\", \"danger\", \"warning\", and \"info\".\n",
    "\n",
    "<div class=\"alert alert-warning\" role=\"alert\">\n",
    "\n",
    "Anywhere in any of [these notebooks][tutorials] where `paths = earthaccess.open(...)` is used to read data directly from the NASA Earthdata Cloud, you need to substitute `paths = earthaccess.download(..., local_path)` before running the notebook on a local host or a remote host that does not have direct access to the NASA Earthdata Cloud.\n",
    "\n",
    "</div>\n",
    "\n",
    "<div class=\"alert alert-danger\" role=\"alert\">\n",
    "\n",
    "Conda uses a lot of memory while configuring your environment. Choose an option with more than about 5GB of RAM from the JupyterHub Control Panel, or your install will fail.\n",
    "\n",
    "</div>"
   ]
  },
  {
   "cell_type": "markdown",
   "id": "03d86f04",
   "metadata": {},
   "source": [
    "Use everything imported."
   ]
  },
  {
   "cell_type": "code",
   "execution_count": null,
   "id": "4bb08eab",
   "metadata": {},
   "outputs": [],
   "source": [
    "Path()"
   ]
  },
  {
   "cell_type": "markdown",
   "id": "ea8034da",
   "metadata": {},
   "source": [
    "Toggle on scrolling for long outputs **AND** add the cell tag \"scroll-output\"."
   ]
  },
  {
   "cell_type": "code",
   "execution_count": null,
   "id": "7b2f8c35",
   "metadata": {
    "scrolled": true,
    "tags": [
     "scroll-output"
    ]
   },
   "outputs": [],
   "source": [
    "for i in range(42):\n",
    "    print(i)"
   ]
  },
  {
   "cell_type": "markdown",
   "id": "6623fea2",
   "metadata": {},
   "source": [
    "[back to top](#Contents)\n",
    "\n",
    "<div class=\"alert alert-info\" role=\"alert\">\n",
    "\n",
    "You have completed the notebook on ... suggest what's next. And don't add an emptyr cell after this one.\n",
    "\n",
    "</div>"
   ]
  }
 ],
 "metadata": {
  "jupytext": {
   "cell_metadata_filter": "all,-trusted",
   "main_language": "python",
   "notebook_metadata_filter": "-all,jupytext,language_info.name"
  },
  "language_info": {
   "name": "python"
  }
 },
 "nbformat": 4,
 "nbformat_minor": 5
}
